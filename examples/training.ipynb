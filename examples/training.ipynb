{
 "cells": [
  {
   "cell_type": "code",
   "execution_count": 1,
   "metadata": {},
   "outputs": [],
   "source": [
    "import numpy as np\n",
    "from chesslab import base\n",
    "from chesslab.base import default_parameters as params\n",
    "from chesslab.training import torch_architectures as ta\n",
    "from sklearn.model_selection import train_test_split\n",
    "import torch"
   ]
  },
  {
   "cell_type": "code",
   "execution_count": 2,
   "metadata": {},
   "outputs": [],
   "source": [
    "np.random.seed(0)\n",
    "\n",
    "batch_size = params.batch_size\n",
    "#path='../new_encode/'\n",
    "path = 'D:/Database_encoded/ccrl/'\n",
    "#path='E:/Archivos/new_pgn/'\n",
    "\n",
    "\n",
    "\n",
    "name=f'{path}ccrl_states_c.pkl'\n",
    "x_data = base.load_pkl(name)[:100000]\n",
    "\n",
    "name=f'{path}ccrl_results_c.pkl'\n",
    "y_data = base.load_pkl(name)[:100000]\n",
    "\n",
    "\n",
    "\n",
    "x_train, x_test, y_train, y_test = train_test_split(\n",
    "    x_data, y_data, test_size = params.test_size, random_state = 0, shuffle = False)\n",
    "\n",
    "del x_data\n",
    "del y_data\n",
    "\n",
    "\n",
    "train_loader=ta.DataLoader( x_data = x_train,y_data=y_train,batch_size=batch_size,shuffle=True)\n",
    "\n",
    "test_loader=ta.DataLoader( x_data = x_test,y_data=y_test,batch_size=batch_size,shuffle=False)\n",
    "\n",
    "\n",
    "device = torch.device(\"cuda\" if torch.cuda.is_available() else \"cpu\")\n",
    "save_name='noEat_0.2'"
   ]
  },
  {
   "cell_type": "code",
   "execution_count": 3,
   "metadata": {},
   "outputs": [
    {
     "name": "stdout",
     "output_type": "stream",
     "text": [
      "Model_1(\n",
      "  (cnn_1): Conv2d(3, 64, kernel_size=(7, 7), stride=(1, 1), padding=(3, 3))\n",
      "  (func_1): ELU(alpha=1.0)\n",
      "  (cnn_2): Conv2d(64, 128, kernel_size=(5, 5), stride=(1, 1), padding=(2, 2))\n",
      "  (func_2): ELU(alpha=1.0)\n",
      "  (cnn_3): Conv2d(128, 256, kernel_size=(3, 3), stride=(1, 1), padding=(1, 1))\n",
      "  (func_3): ELU(alpha=1.0)\n",
      "  (cnn_4): Conv2d(256, 64, kernel_size=(1, 1), stride=(1, 1))\n",
      "  (func_4): ELU(alpha=1.0)\n",
      "  (cnn_5): Conv2d(64, 16, kernel_size=(1, 1), stride=(1, 1))\n",
      "  (func_5): ELU(alpha=1.0)\n",
      "  (cnn_6): Conv2d(16, 4, kernel_size=(1, 1), stride=(1, 1))\n",
      "  (func_6): ELU(alpha=1.0)\n",
      "  (linear_1): Linear(in_features=256, out_features=64, bias=True)\n",
      "  (func_7): ELU(alpha=1.0)\n",
      "  (linear_2): Linear(in_features=64, out_features=2, bias=True)\n",
      ")\n",
      "epoch 2\n",
      "2021-04-29 21:14:27\n",
      " train: 100.00/100 - loss:0.6458 - acc:0.6030           \n",
      " test: 100.00/100 - loss:0.6866 - acc:0.5304           \n",
      "Epoch: 002/3 | Time: 13s = 0.2m | Train loss: 0.6470 | Train acc: 0.6040 | Test loss: 0.6905 | Test acc: 0.5430\n",
      "\n",
      "--------------------------------------------------------------------------------\n",
      "epoch 3\n",
      "2021-04-29 21:14:40\n",
      " train: 100.00/100 - loss:0.4973 - acc:0.7383           \n",
      " test: 100.00/100 - loss:0.5802 - acc:0.6638           \n",
      "Epoch: 003/3 | Time: 11s = 0.2m | Train loss: 0.4979 | Train acc: 0.7396 | Test loss: 0.5855 | Test acc: 0.6748\n",
      "\n",
      "--------------------------------------------------------------------------------\n"
     ]
    }
   ],
   "source": [
    "lr = ta.lr\n",
    "mo = ta.mo\n",
    "start=0\n",
    "# Instantiate model\n",
    "\n",
    "\n",
    "model = ta.Model_1().to(device)\n",
    "loss_fn = ta.loss_fn\n",
    "optim = ta.optim\n",
    "\n",
    "encoding=ta.encoding_1\n",
    "\n",
    "print(model)\n",
    "ta.train(start=1,epochs=2,train_loader=train_loader,test_loader=test_loader,\n",
    "         device=device,model=model,optim=optim,lr=lr,mo=mo,\n",
    "         loss_fn=loss_fn,save_name=save_name,encoding=encoding)"
   ]
  },
  {
   "cell_type": "code",
   "execution_count": 4,
   "metadata": {},
   "outputs": [
    {
     "name": "stdout",
     "output_type": "stream",
     "text": [
      "epoch 4\n",
      "2021-04-29 21:14:52\n",
      " train: 100.00/100 - loss:0.4427 - acc:0.7773           \n",
      " test: 100.00/100 - loss:0.8893 - acc:0.5777           \n",
      "Epoch: 004/5 | Time: 12s = 0.2m | Train loss: 0.4433 | Train acc: 0.7784 | Test loss: 0.8925 | Test acc: 0.5904\n",
      "\n",
      "--------------------------------------------------------------------------------\n",
      "epoch 5\n",
      "2021-04-29 21:15:03\n",
      " train: 100.00/100 - loss:0.3855 - acc:0.8117           \n",
      " test: 100.00/100 - loss:0.5652 - acc:0.7141           \n",
      "Epoch: 005/5 | Time: 11s = 0.2m | Train loss: 0.3858 | Train acc: 0.8130 | Test loss: 0.5709 | Test acc: 0.7268\n",
      "\n",
      "--------------------------------------------------------------------------------\n"
     ]
    }
   ],
   "source": [
    "\n",
    "ta.train(epochs=2,train_loader=train_loader,test_loader=test_loader,\n",
    "         device=device,load_model='noEat_0.2.3.h5',\n",
    "         save_name=save_name)"
   ]
  },
  {
   "cell_type": "code",
   "execution_count": null,
   "metadata": {},
   "outputs": [],
   "source": []
  }
 ],
 "metadata": {
  "kernelspec": {
   "display_name": "Python 3",
   "language": "python",
   "name": "python3"
  },
  "language_info": {
   "codemirror_mode": {
    "name": "ipython",
    "version": 3
   },
   "file_extension": ".py",
   "mimetype": "text/x-python",
   "name": "python",
   "nbconvert_exporter": "python",
   "pygments_lexer": "ipython3",
   "version": "3.8.6"
  }
 },
 "nbformat": 4,
 "nbformat_minor": 4
}
