{
 "cells": [
  {
   "cell_type": "code",
   "execution_count": 1,
   "metadata": {},
   "outputs": [],
   "source": [
    "#!pip install chesslab"
   ]
  },
  {
   "cell_type": "code",
   "execution_count": 2,
   "metadata": {},
   "outputs": [],
   "source": [
    "import numpy as np\n",
    "from chesslab.utils import load_pkl\n",
    "from chesslab.training_tf import fitting\n",
    "from sklearn.model_selection import train_test_split\n",
    "import tensorflow as tf"
   ]
  },
  {
   "cell_type": "code",
   "execution_count": 3,
   "metadata": {},
   "outputs": [],
   "source": [
    "\n",
    "lr = 0.1\n",
    "epochs=20\n",
    "batch_size = 128\n",
    "test_percent=0.1\n",
    "\n",
    "path = 'D:/database/ccrl/'\n",
    "name_data='ccrl_states_elo3.pkl'\n",
    "name_labels='ccrl_results_elo3.pkl'\n",
    "save_name='./tmp/tf_weights-relu-elo3.1'\n",
    "\n",
    "optim = tf.compat.v1.train.GradientDescentOptimizer(learning_rate=lr)\n",
    "loss_fn = tf.keras.losses.SparseCategoricalCrossentropy(from_logits=True)"
   ]
  },
  {
   "cell_type": "code",
   "execution_count": 4,
   "metadata": {},
   "outputs": [],
   "source": [
    "download=False\n",
    "if download:\n",
    "    from chesslab.utils import download_7z\n",
    "    path='./'\n",
    "    file_id = '1MFHFz_rxNziYSeN-9ruwnRiYskd0_9ss'\n",
    "    download_7z(file_id,path)"
   ]
  },
  {
   "cell_type": "code",
   "execution_count": 5,
   "metadata": {},
   "outputs": [],
   "source": [
    "encoding_3={\n",
    "    '.':np.array([0,0,0,0,0,0,0,0,0,0,0,0],dtype=np.float32),\n",
    "    'p':np.array([1,0,0,0,0,0,0,0,0,0,0,0],dtype=np.float32),\n",
    "    'P':np.array([0,0,0,0,0,0,0,0,0,0,0,1],dtype=np.float32),\n",
    "    'b':np.array([0,1,0,0,0,0,0,0,0,0,0,0],dtype=np.float32),\n",
    "    'B':np.array([0,0,0,0,0,0,0,0,0,0,1,0],dtype=np.float32),\n",
    "    'n':np.array([0,0,1,0,0,0,0,0,0,0,0,0],dtype=np.float32),\n",
    "    'N':np.array([0,0,0,0,0,0,0,0,0,1,0,0],dtype=np.float32),\n",
    "    'r':np.array([0,0,0,1,0,0,0,0,0,0,0,0],dtype=np.float32),\n",
    "    'R':np.array([0,0,0,0,0,0,0,0,1,0,0,0],dtype=np.float32),\n",
    "    'q':np.array([0,0,0,0,1,0,0,0,0,0,0,0],dtype=np.float32),\n",
    "    'Q':np.array([0,0,0,0,0,0,0,1,0,0,0,0],dtype=np.float32),\n",
    "    'k':np.array([0,0,0,0,0,1,0,0,0,0,0,0],dtype=np.float32),\n",
    "    'K':np.array([0,0,0,0,0,0,1,0,0,0,0,0],dtype=np.float32)\n",
    "}\n"
   ]
  },
  {
   "cell_type": "code",
   "execution_count": 6,
   "metadata": {},
   "outputs": [],
   "source": [
    "class Model_3():\n",
    "\n",
    "    def __init__(self,\n",
    "                   n_classes=2):\n",
    "        initializer = tf.keras.initializers.GlorotNormal()\n",
    "        self.hw=[]\n",
    "        self.hb=[]\n",
    "\n",
    "        self.hw.append( tf.Variable(initializer(shape=(7,7,12,32),dtype=np.float32),name=\"hl1weigths\",dtype=\"float32\") )\n",
    "        self.hb.append( tf.Variable(np.zeros(32,dtype=np.float32),name=\"hl1bias\",dtype=\"float32\") )\n",
    "        #8x8x32\n",
    "        self.hw.append( tf.Variable(initializer(shape=(5,5,32,64),dtype=np.float32),name=\"hl2weigths\",dtype=\"float32\"))\n",
    "        self.hb.append( tf.Variable(np.zeros(64,dtype=np.float32),name=\"hl2bias\",dtype=\"float32\"))\n",
    "        #8x8x64\n",
    "        self.hw.append( tf.Variable(initializer(shape=(3,3,64,128),dtype=np.float32),name=\"hl3weigths\",dtype=\"float32\"))\n",
    "        self.hb.append( tf.Variable(np.zeros(128,dtype=np.float32),name=\"hl3bias\",dtype=\"float32\"))\n",
    "        #8x8x128\n",
    "        self.hw.append( tf.Variable(initializer(shape=(8*8*128,256),dtype=np.float32),name=\"hl4weigths\",dtype=\"float32\"))\n",
    "        self.hb.append( tf.Variable(np.zeros(256,dtype=np.float32),name=\"hl4bias\",dtype=\"float32\"))\n",
    "\n",
    "        self.hw.append( tf.Variable(initializer(shape=(256, n_classes),dtype=np.float32),name=\"outweigths\",dtype=\"float32\"))\n",
    "        self.hb.append( tf.Variable(np.zeros(n_classes,dtype=np.float32),name=\"outbias\",dtype=\"float32\"))\n",
    "\n",
    "        self.trainable_variables = []\n",
    "        for i in range(len(self.hw)):\n",
    "            self.trainable_variables.append(self.hw[i])    \n",
    "            self.trainable_variables.append(self.hb[i])\n",
    "\n",
    "    def __call__(self,x): \n",
    "\n",
    "        out = tf.cast(x, tf.float32)\n",
    "        out = tf.reshape(out, shape=[-1, 8, 8, 12])\n",
    "\n",
    "        layer=0\n",
    "        out = tf.nn.conv2d(out,self.hw[layer], strides=[1,1,1,1], padding='SAME')  \n",
    "        out = tf.add(out, self.hb[layer])\n",
    "        out = tf.nn.relu(out)\n",
    "              #8*8*32\n",
    "        layer+=1\n",
    "        out = tf.nn.conv2d(out,self.hw[layer], strides=[1,1,1,1], padding='SAME')  \n",
    "        out = tf.add(out, self.hb[layer])\n",
    "        out = tf.nn.relu(out)\n",
    "              #8*8*64\n",
    "        layer+=1  \n",
    "        out = tf.nn.conv2d(out,self.hw[layer], strides=[1,1,1,1], padding='SAME')  \n",
    "        out = tf.add(out, self.hb[layer])\n",
    "        out = tf.nn.elu(out)\n",
    "              #8*8*128\n",
    "        layer+=1\n",
    "        out =  tf.reshape(out,[-1, 8*8*128])\n",
    "        out =  tf.matmul(out,self.hw[layer])\n",
    "        out = tf.add(out, self.hb[layer])\n",
    "        out = tf.nn.relu(out)\n",
    "\n",
    "        layer+=1\n",
    "        out =  tf.matmul(out,self.hw[layer])\n",
    "        out = tf.add(out, self.hb[layer])\n",
    "\n",
    "        return out"
   ]
  },
  {
   "cell_type": "code",
   "execution_count": 7,
   "metadata": {},
   "outputs": [
    {
     "name": "stdout",
     "output_type": "stream",
     "text": [
      "(2660430, 64)\n",
      "(2660430,)\n"
     ]
    }
   ],
   "source": [
    "np.random.seed(0)\n",
    "tf.random.set_seed(0)\n",
    "\n",
    "x_data = load_pkl(path+name_data)\n",
    "y_data = load_pkl(path+name_labels)[:,1] #Nota: pasa de onehot a logits\n",
    "\n",
    "print(x_data.shape)\n",
    "print(y_data.shape)\n",
    "\n",
    "x_train, x_test, y_train, y_test = train_test_split(\n",
    "    x_data, y_data, test_size = test_percent, random_state = 0, shuffle = True)\n",
    "\n",
    "del x_data\n",
    "del y_data"
   ]
  },
  {
   "cell_type": "code",
   "execution_count": 8,
   "metadata": {},
   "outputs": [],
   "source": [
    "\n",
    "model = Model_3()\n",
    "encoding=encoding_3\n"
   ]
  },
  {
   "cell_type": "code",
   "execution_count": 9,
   "metadata": {
    "tags": []
   },
   "outputs": [
    {
     "name": "stdout",
     "output_type": "stream",
     "text": [
      "2021-10-29 16:34:20\n"
     ]
    },
    {
     "data": {
      "text/plain": [
       "Epoch: 01/20 | time: 100s = 1.7m | train loss: 0.5088 | train acc: 0.7430 | test loss: 0.4867 | test acc: 0.7573"
      ]
     },
     "metadata": {},
     "output_type": "display_data"
    },
    {
     "data": {
      "text/plain": [
       "Epoch: 02/20 | time: 98s = 1.6m | train loss: 0.3760 | train acc: 0.8261 | test loss: 0.3707 | test acc: 0.8332"
      ]
     },
     "metadata": {},
     "output_type": "display_data"
    },
    {
     "data": {
      "text/plain": [
       "Epoch: 03/20 | time: 96s = 1.6m | train loss: 0.2480 | train acc: 0.8929 | test loss: 0.2315 | test acc: 0.9028"
      ]
     },
     "metadata": {},
     "output_type": "display_data"
    },
    {
     "data": {
      "text/plain": [
       "Epoch: 04/20 | time: 107s = 1.8m | train loss: 0.1666 | train acc: 0.9305 | test loss: 0.1772 | test acc: 0.9275"
      ]
     },
     "metadata": {},
     "output_type": "display_data"
    },
    {
     "data": {
      "text/plain": [
       "Epoch: 05/20 | time: 106s = 1.8m | train loss: 0.1205 | train acc: 0.9507 | test loss: 0.1515 | test acc: 0.9407"
      ]
     },
     "metadata": {},
     "output_type": "display_data"
    },
    {
     "data": {
      "text/plain": [
       "Epoch: 06/20 | time: 105s = 1.7m | train loss: 0.0922 | train acc: 0.9628 | test loss: 0.1516 | test acc: 0.9447"
      ]
     },
     "metadata": {},
     "output_type": "display_data"
    },
    {
     "data": {
      "text/plain": [
       "Epoch: 07/20 | time: 106s = 1.8m | train loss: 0.0749 | train acc: 0.9700 | test loss: 0.1363 | test acc: 0.9517"
      ]
     },
     "metadata": {},
     "output_type": "display_data"
    },
    {
     "data": {
      "text/plain": [
       "Epoch: 08/20 | time: 105s = 1.7m | train loss: 0.0623 | train acc: 0.9754 | test loss: 0.2091 | test acc: 0.9375"
      ]
     },
     "metadata": {},
     "output_type": "display_data"
    },
    {
     "data": {
      "text/plain": [
       "Epoch: 09/20 | time: 105s = 1.8m | train loss: 0.0542 | train acc: 0.9786 | test loss: 0.1606 | test acc: 0.9493"
      ]
     },
     "metadata": {},
     "output_type": "display_data"
    },
    {
     "data": {
      "text/plain": [
       "Epoch: 10/20 | time: 105s = 1.8m | train loss: 0.0474 | train acc: 0.9815 | test loss: 0.1954 | test acc: 0.9451"
      ]
     },
     "metadata": {},
     "output_type": "display_data"
    },
    {
     "data": {
      "text/plain": [
       "Epoch: 11/20 | time: 105s = 1.8m | train loss: 0.0426 | train acc: 0.9835 | test loss: 0.1178 | test acc: 0.9625"
      ]
     },
     "metadata": {},
     "output_type": "display_data"
    },
    {
     "data": {
      "text/plain": [
       "Epoch: 12/20 | time: 104s = 1.7m | train loss: 0.0389 | train acc: 0.9850 | test loss: 0.1194 | test acc: 0.9635"
      ]
     },
     "metadata": {},
     "output_type": "display_data"
    },
    {
     "data": {
      "text/plain": [
       "Epoch: 13/20 | time: 105s = 1.8m | train loss: 0.0359 | train acc: 0.9863 | test loss: 0.1201 | test acc: 0.9636"
      ]
     },
     "metadata": {},
     "output_type": "display_data"
    },
    {
     "data": {
      "text/plain": [
       "Epoch: 14/20 | time: 104s = 1.7m | train loss: 0.0333 | train acc: 0.9873 | test loss: 0.1208 | test acc: 0.9656"
      ]
     },
     "metadata": {},
     "output_type": "display_data"
    },
    {
     "data": {
      "text/plain": [
       "Epoch: 15/20 | time: 104s = 1.7m | train loss: 0.0313 | train acc: 0.9882 | test loss: 0.1378 | test acc: 0.9623"
      ]
     },
     "metadata": {},
     "output_type": "display_data"
    },
    {
     "data": {
      "text/plain": [
       "Epoch: 16/20 | time: 105s = 1.7m | train loss: 0.0299 | train acc: 0.9887 | test loss: 0.1164 | test acc: 0.9671"
      ]
     },
     "metadata": {},
     "output_type": "display_data"
    },
    {
     "data": {
      "text/plain": [
       "Epoch: 17/20 | time: 104s = 1.7m | train loss: 0.0280 | train acc: 0.9895 | test loss: 0.1264 | test acc: 0.9658"
      ]
     },
     "metadata": {},
     "output_type": "display_data"
    },
    {
     "data": {
      "text/plain": [
       "Epoch: 18/20 | time: 104s = 1.7m | train loss: 0.0273 | train acc: 0.9899 | test loss: 0.1196 | test acc: 0.9681"
      ]
     },
     "metadata": {},
     "output_type": "display_data"
    },
    {
     "data": {
      "text/plain": [
       "Epoch: 19/20 | time: 103s = 1.7m | train loss: 0.0264 | train acc: 0.9903 | test loss: 0.1165 | test acc: 0.9683"
      ]
     },
     "metadata": {},
     "output_type": "display_data"
    },
    {
     "data": {
      "text/plain": [
       "Epoch: 20/20 | time: 103s = 1.7m | train loss: 0.0252 | train acc: 0.9908 | test loss: 0.1321 | test acc: 0.9668"
      ]
     },
     "metadata": {},
     "output_type": "display_data"
    }
   ],
   "source": [
    "fitting(epochs=epochs,\n",
    "        x_train=x_train,\n",
    "        y_train=y_train,\n",
    "        x_test=x_test,\n",
    "        y_test=y_test,\n",
    "        model=model,\n",
    "        optimizer=optim,\n",
    "        batch_size=batch_size,\n",
    "        lr=lr,\n",
    "        loss_fn=loss_fn,\n",
    "        save_name=save_name,\n",
    "        encoding=encoding)"
   ]
  },
  {
   "cell_type": "code",
   "execution_count": 10,
   "metadata": {},
   "outputs": [
    {
     "name": "stdout",
     "output_type": "stream",
     "text": [
      "2021-10-29 17:08:55\n"
     ]
    },
    {
     "data": {
      "text/plain": [
       "Epoch: 21/30 | time: 103s = 1.7m | train loss: 0.0247 | train acc: 0.9911 | test loss: 0.1229 | test acc: 0.9687"
      ]
     },
     "metadata": {},
     "output_type": "display_data"
    },
    {
     "data": {
      "text/plain": [
       "Epoch: 22/30 | time: 104s = 1.7m | train loss: 0.0238 | train acc: 0.9914 | test loss: 0.1189 | test acc: 0.9704"
      ]
     },
     "metadata": {},
     "output_type": "display_data"
    },
    {
     "data": {
      "text/plain": [
       "Epoch: 23/30 | time: 103s = 1.7m | train loss: 0.0234 | train acc: 0.9916 | test loss: 0.1189 | test acc: 0.9703"
      ]
     },
     "metadata": {},
     "output_type": "display_data"
    },
    {
     "data": {
      "text/plain": [
       "Epoch: 24/30 | time: 104s = 1.7m | train loss: 0.0231 | train acc: 0.9918 | test loss: 0.1290 | test acc: 0.9688"
      ]
     },
     "metadata": {},
     "output_type": "display_data"
    },
    {
     "data": {
      "text/plain": [
       "Epoch: 25/30 | time: 103s = 1.7m | train loss: 0.0232 | train acc: 0.9918 | test loss: 0.1284 | test acc: 0.9695"
      ]
     },
     "metadata": {},
     "output_type": "display_data"
    },
    {
     "data": {
      "text/plain": [
       "Epoch: 26/30 | time: 103s = 1.7m | train loss: 0.0222 | train acc: 0.9922 | test loss: 0.1266 | test acc: 0.9701"
      ]
     },
     "metadata": {},
     "output_type": "display_data"
    },
    {
     "data": {
      "text/plain": [
       "Epoch: 27/30 | time: 104s = 1.7m | train loss: 0.0224 | train acc: 0.9922 | test loss: 0.1305 | test acc: 0.9696"
      ]
     },
     "metadata": {},
     "output_type": "display_data"
    },
    {
     "data": {
      "text/plain": [
       "Epoch: 28/30 | time: 104s = 1.7m | train loss: 0.0225 | train acc: 0.9922 | test loss: 0.1265 | test acc: 0.9705"
      ]
     },
     "metadata": {},
     "output_type": "display_data"
    },
    {
     "data": {
      "text/plain": [
       "Epoch: 29/30 | time: 103s = 1.7m | train loss: 0.0223 | train acc: 0.9924 | test loss: 0.2591 | test acc: 0.9509"
      ]
     },
     "metadata": {},
     "output_type": "display_data"
    },
    {
     "data": {
      "text/plain": [
       "Epoch: 30/30 | time: 104s = 1.7m | train loss: 0.0224 | train acc: 0.9924 | test loss: 0.1228 | test acc: 0.9713"
      ]
     },
     "metadata": {},
     "output_type": "display_data"
    }
   ],
   "source": [
    "fitting(epochs=10,\n",
    "        x_train=x_train,\n",
    "        y_train=y_train,\n",
    "        x_test=x_test,\n",
    "        y_test=y_test,\n",
    "        model= model, \n",
    "        load_name='tmp/tf_weights-relu-elo3.1.20.h5',\n",
    "        save_name=save_name,)"
   ]
  },
  {
   "cell_type": "code",
   "execution_count": null,
   "metadata": {},
   "outputs": [],
   "source": []
  }
 ],
 "metadata": {
  "kernelspec": {
   "display_name": "Python 3 (ipykernel)",
   "language": "python",
   "name": "python3"
  },
  "language_info": {
   "codemirror_mode": {
    "name": "ipython",
    "version": 3
   },
   "file_extension": ".py",
   "mimetype": "text/x-python",
   "name": "python",
   "nbconvert_exporter": "python",
   "pygments_lexer": "ipython3",
   "version": "3.9.6"
  }
 },
 "nbformat": 4,
 "nbformat_minor": 4
}
