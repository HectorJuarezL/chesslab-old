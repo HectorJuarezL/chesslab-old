{
 "cells": [
  {
   "cell_type": "code",
   "execution_count": 1,
   "metadata": {},
   "outputs": [],
   "source": [
    "#!pip install chesslab"
   ]
  },
  {
   "cell_type": "code",
   "execution_count": 2,
   "metadata": {},
   "outputs": [],
   "source": [
    "import numpy as np\n",
    "from chesslab.utils import load_pkl\n",
    "from chesslab.training_tf import fitting\n",
    "from sklearn.model_selection import train_test_split\n",
    "import tensorflow as tf"
   ]
  },
  {
   "cell_type": "code",
   "execution_count": 3,
   "metadata": {},
   "outputs": [],
   "source": [
    "example=2\n",
    "lr = 0.1\n",
    "epochs=30\n",
    "batch_size = 128\n",
    "test_percent=0.1\n",
    "\n",
    "path = 'D:/database/ccrl/'\n",
    "name_data='ccrl_states_elo3.pkl'\n",
    "name_labels='ccrl_results_elo3.pkl'\n",
    "save_name='./tmp/tf_elo.3.2'\n",
    "\n",
    "optim = tf.compat.v1.train.GradientDescentOptimizer(learning_rate=lr)\n",
    "loss_fn = tf.keras.losses.SparseCategoricalCrossentropy(from_logits=True)"
   ]
  },
  {
   "cell_type": "code",
   "execution_count": 4,
   "metadata": {},
   "outputs": [],
   "source": [
    "download=False\n",
    "if download:\n",
    "    from chesslab.utils import download_7z\n",
    "    path='./'\n",
    "    file_id = '1MFHFz_rxNziYSeN-9ruwnRiYskd0_9ss'\n",
    "    download_7z(file_id,path)"
   ]
  },
  {
   "cell_type": "code",
   "execution_count": 5,
   "metadata": {},
   "outputs": [],
   "source": [
    "encoding_1={\n",
    "    '.':np.array([ 0, 0, 0],dtype=np.float32),\n",
    "    'p':np.array([ 0, 0, 1],dtype=np.float32),\n",
    "    'P':np.array([ 0, 0,-1],dtype=np.float32),\n",
    "    'r':np.array([ 0, 1, 1],dtype=np.float32),\n",
    "    'R':np.array([ 0,-1,-1],dtype=np.float32),\n",
    "    'n':np.array([ 1, 0, 0],dtype=np.float32),\n",
    "    'N':np.array([-1, 0, 0],dtype=np.float32),\n",
    "    'b':np.array([ 0, 1, 0],dtype=np.float32),\n",
    "    'B':np.array([ 0,-1, 0],dtype=np.float32),\n",
    "    'q':np.array([ 1, 0, 1],dtype=np.float32),\n",
    "    'Q':np.array([-1, 0,-1],dtype=np.float32),\n",
    "    'k':np.array([ 1, 1, 0],dtype=np.float32),\n",
    "    'K':np.array([-1,-1, 0],dtype=np.float32)\n",
    "}\n",
    "\n",
    "encoding_2={\n",
    "    '.':np.array([0,0,0,0],dtype=np.float32),\n",
    "    'p':np.array([1,0,0,0],dtype=np.float32),\n",
    "    'P':np.array([0,0,0,1],dtype=np.float32),\n",
    "    'r':np.array([1,0,1,0],dtype=np.float32),\n",
    "    'R':np.array([0,1,0,1],dtype=np.float32),\n",
    "    'n':np.array([1,1,0,0],dtype=np.float32),\n",
    "    'N':np.array([0,0,1,1],dtype=np.float32),\n",
    "    'b':np.array([0,1,0,0],dtype=np.float32),\n",
    "    'B':np.array([0,0,1,0],dtype=np.float32),\n",
    "    'q':np.array([1,0,0,1],dtype=np.float32),\n",
    "    'Q':np.array([0,1,1,0],dtype=np.float32),\n",
    "    'k':np.array([1,1,1,0],dtype=np.float32),\n",
    "    'K':np.array([0,1,1,1],dtype=np.float32)\n",
    "}\n"
   ]
  },
  {
   "cell_type": "code",
   "execution_count": 6,
   "metadata": {},
   "outputs": [],
   "source": [
    "class Model_2():\n",
    "\n",
    "    def __init__(self,\n",
    "                   n_classes=2):\n",
    "        initializer = tf.keras.initializers.GlorotNormal()\n",
    "        self.hw=[]\n",
    "        self.hb=[]\n",
    "\n",
    "        self.hw.append( tf.Variable(initializer(shape=(3,3,4,1,8),dtype=np.float32),name=\"hl1weigths\",dtype=\"float32\") )\n",
    "        self.hb.append( tf.Variable(np.zeros(8,dtype=np.float32),name=\"hl1bias\",dtype=\"float32\") )\n",
    "        #8x8x32\n",
    "        self.hw.append( tf.Variable(initializer(shape=(3,3,4,8,16),dtype=np.float32),name=\"hl2weigths\",dtype=\"float32\"))\n",
    "        self.hb.append( tf.Variable(np.zeros(16,dtype=np.float32),name=\"hl2bias\",dtype=\"float32\"))\n",
    "        #8x8x64\n",
    "        self.hw.append( tf.Variable(initializer(shape=(3,3,4,16,32),dtype=np.float32),name=\"hl3weigths\",dtype=\"float32\"))\n",
    "        self.hb.append( tf.Variable(np.zeros(32,dtype=np.float32),name=\"hl3bias\",dtype=\"float32\"))\n",
    "        #8x8x128\n",
    "        self.hw.append( tf.Variable(initializer(shape=(8*8*4*32,256),dtype=np.float32),name=\"hl4weigths\",dtype=\"float32\"))\n",
    "        self.hb.append( tf.Variable(np.zeros(256,dtype=np.float32),name=\"hl4bias\",dtype=\"float32\"))\n",
    "\n",
    "        self.hw.append( tf.Variable(initializer(shape=(256, n_classes),dtype=np.float32),name=\"outweigths\",dtype=\"float32\"))\n",
    "        self.hb.append( tf.Variable(np.zeros(n_classes,dtype=np.float32),name=\"outbias\",dtype=\"float32\"))\n",
    "\n",
    "        self.trainable_variables = []\n",
    "        for i in range(len(self.hw)):\n",
    "            self.trainable_variables.append(self.hw[i])    \n",
    "            self.trainable_variables.append(self.hb[i])\n",
    "\n",
    "    def __call__(self,x): \n",
    "\n",
    "        out = tf.cast(x, tf.float32)\n",
    "        out = tf.reshape(out, shape=[-1, 8, 8, 4, 1])\n",
    "\n",
    "        layer=0\n",
    "        out = tf.nn.conv3d(out,self.hw[layer], strides=[1,1,1,1,1], padding='SAME')  \n",
    "        out = tf.add(out, self.hb[layer])\n",
    "        out = tf.nn.relu(out)\n",
    "              #8*8*32\n",
    "        layer+=1\n",
    "        out = tf.nn.conv3d(out,self.hw[layer], strides=[1,1,1,1,1], padding='SAME')  \n",
    "        out = tf.add(out, self.hb[layer])\n",
    "        out = tf.nn.relu(out)\n",
    "              #8*8*64\n",
    "        layer+=1  \n",
    "        out = tf.nn.conv3d(out,self.hw[layer], strides=[1,1,1,1,1], padding='SAME')  \n",
    "        out = tf.add(out, self.hb[layer])\n",
    "        out = tf.nn.elu(out)\n",
    "              #8*8*128\n",
    "        layer+=1\n",
    "        out =  tf.reshape(out,[-1, 8*8*4*32])\n",
    "        out =  tf.matmul(out,self.hw[layer])\n",
    "        out = tf.add(out, self.hb[layer])\n",
    "        out = tf.nn.relu(out)\n",
    "\n",
    "        layer+=1\n",
    "        out =  tf.matmul(out,self.hw[layer])\n",
    "        out = tf.add(out, self.hb[layer])\n",
    "\n",
    "        return out"
   ]
  },
  {
   "cell_type": "code",
   "execution_count": 7,
   "metadata": {},
   "outputs": [
    {
     "name": "stdout",
     "output_type": "stream",
     "text": [
      "(2661290, 64)\n",
      "(2661290,)\n"
     ]
    }
   ],
   "source": [
    "np.random.seed(0)\n",
    "tf.random.set_seed(0)\n",
    "\n",
    "x_data = load_pkl(path+name_data)\n",
    "y_data = load_pkl(path+name_labels)[:,1] #Nota: pasa de onehot a logits\n",
    "\n",
    "print(x_data.shape)\n",
    "print(y_data.shape)\n",
    "\n",
    "x_train, x_test, y_train, y_test = train_test_split(\n",
    "    x_data, y_data, test_size = test_percent, random_state = 0, shuffle = True)\n",
    "\n",
    "del x_data\n",
    "del y_data"
   ]
  },
  {
   "cell_type": "code",
   "execution_count": 8,
   "metadata": {},
   "outputs": [],
   "source": [
    "if example==1:\n",
    "    model = Model_1()\n",
    "    encoding=encoding_1\n",
    "else:\n",
    "    model = Model_2()\n",
    "    encoding=encoding_2\n"
   ]
  },
  {
   "cell_type": "code",
   "execution_count": 9,
   "metadata": {},
   "outputs": [
    {
     "name": "stdout",
     "output_type": "stream",
     "text": [
      "2021-10-29 19:05:07\n"
     ]
    },
    {
     "data": {
      "text/plain": [
       "Epoch: 01/30 | time: 158s = 2.6m | train loss: 0.5352 | train acc: 0.7240 | test loss: 0.4765 | test acc: 0.7673"
      ]
     },
     "metadata": {},
     "output_type": "display_data"
    },
    {
     "data": {
      "text/plain": [
       "Epoch: 02/30 | time: 154s = 2.6m | train loss: 0.3771 | train acc: 0.8249 | test loss: 0.3454 | test acc: 0.8453"
      ]
     },
     "metadata": {},
     "output_type": "display_data"
    },
    {
     "data": {
      "text/plain": [
       "Epoch: 03/30 | time: 155s = 2.6m | train loss: 0.2518 | train acc: 0.8897 | test loss: 0.2471 | test acc: 0.8940"
      ]
     },
     "metadata": {},
     "output_type": "display_data"
    },
    {
     "data": {
      "text/plain": [
       "Epoch: 04/30 | time: 156s = 2.6m | train loss: 0.1805 | train acc: 0.9231 | test loss: 0.2480 | test acc: 0.9034"
      ]
     },
     "metadata": {},
     "output_type": "display_data"
    },
    {
     "data": {
      "text/plain": [
       "Epoch: 05/30 | time: 156s = 2.6m | train loss: 0.1387 | train acc: 0.9419 | test loss: 0.1914 | test acc: 0.9247"
      ]
     },
     "metadata": {},
     "output_type": "display_data"
    },
    {
     "data": {
      "text/plain": [
       "Epoch: 06/30 | time: 155s = 2.6m | train loss: 0.1124 | train acc: 0.9533 | test loss: 0.1835 | test acc: 0.9300"
      ]
     },
     "metadata": {},
     "output_type": "display_data"
    },
    {
     "data": {
      "text/plain": [
       "Epoch: 07/30 | time: 154s = 2.6m | train loss: 0.0945 | train acc: 0.9612 | test loss: 0.1766 | test acc: 0.9367"
      ]
     },
     "metadata": {},
     "output_type": "display_data"
    },
    {
     "data": {
      "text/plain": [
       "Epoch: 08/30 | time: 154s = 2.6m | train loss: 0.0827 | train acc: 0.9663 | test loss: 0.2272 | test acc: 0.9274"
      ]
     },
     "metadata": {},
     "output_type": "display_data"
    },
    {
     "data": {
      "text/plain": [
       "Epoch: 09/30 | time: 154s = 2.6m | train loss: 0.0737 | train acc: 0.9702 | test loss: 0.1709 | test acc: 0.9428"
      ]
     },
     "metadata": {},
     "output_type": "display_data"
    },
    {
     "data": {
      "text/plain": [
       "Epoch: 10/30 | time: 154s = 2.6m | train loss: 0.0663 | train acc: 0.9735 | test loss: 0.1817 | test acc: 0.9418"
      ]
     },
     "metadata": {},
     "output_type": "display_data"
    },
    {
     "data": {
      "text/plain": [
       "Epoch: 11/30 | time: 153s = 2.6m | train loss: 0.0614 | train acc: 0.9755 | test loss: 0.1662 | test acc: 0.9475"
      ]
     },
     "metadata": {},
     "output_type": "display_data"
    },
    {
     "data": {
      "text/plain": [
       "Epoch: 12/30 | time: 153s = 2.6m | train loss: 0.0565 | train acc: 0.9778 | test loss: 0.1708 | test acc: 0.9480"
      ]
     },
     "metadata": {},
     "output_type": "display_data"
    },
    {
     "data": {
      "text/plain": [
       "Epoch: 13/30 | time: 154s = 2.6m | train loss: 0.0533 | train acc: 0.9793 | test loss: 0.1834 | test acc: 0.9468"
      ]
     },
     "metadata": {},
     "output_type": "display_data"
    },
    {
     "data": {
      "text/plain": [
       "Epoch: 14/30 | time: 154s = 2.6m | train loss: 0.0507 | train acc: 0.9803 | test loss: 0.1839 | test acc: 0.9475"
      ]
     },
     "metadata": {},
     "output_type": "display_data"
    },
    {
     "data": {
      "text/plain": [
       "Epoch: 15/30 | time: 155s = 2.6m | train loss: 0.0483 | train acc: 0.9814 | test loss: 0.1617 | test acc: 0.9524"
      ]
     },
     "metadata": {},
     "output_type": "display_data"
    },
    {
     "data": {
      "text/plain": [
       "Epoch: 16/30 | time: 154s = 2.6m | train loss: 0.0462 | train acc: 0.9823 | test loss: 0.1711 | test acc: 0.9531"
      ]
     },
     "metadata": {},
     "output_type": "display_data"
    },
    {
     "data": {
      "text/plain": [
       "Epoch: 17/30 | time: 154s = 2.6m | train loss: 0.0443 | train acc: 0.9832 | test loss: 0.1718 | test acc: 0.9523"
      ]
     },
     "metadata": {},
     "output_type": "display_data"
    },
    {
     "data": {
      "text/plain": [
       "Epoch: 18/30 | time: 155s = 2.6m | train loss: 0.0433 | train acc: 0.9837 | test loss: 0.1631 | test acc: 0.9547"
      ]
     },
     "metadata": {},
     "output_type": "display_data"
    },
    {
     "data": {
      "text/plain": [
       "Epoch: 19/30 | time: 155s = 2.6m | train loss: 0.0415 | train acc: 0.9844 | test loss: 0.1803 | test acc: 0.9535"
      ]
     },
     "metadata": {},
     "output_type": "display_data"
    },
    {
     "data": {
      "text/plain": [
       "Epoch: 20/30 | time: 155s = 2.6m | train loss: 0.0408 | train acc: 0.9849 | test loss: 0.1775 | test acc: 0.9546"
      ]
     },
     "metadata": {},
     "output_type": "display_data"
    },
    {
     "data": {
      "text/plain": [
       "Epoch: 21/30 | time: 155s = 2.6m | train loss: 0.0398 | train acc: 0.9854 | test loss: 0.1763 | test acc: 0.9538"
      ]
     },
     "metadata": {},
     "output_type": "display_data"
    },
    {
     "data": {
      "text/plain": [
       "Epoch: 22/30 | time: 154s = 2.6m | train loss: 0.0397 | train acc: 0.9855 | test loss: 0.1919 | test acc: 0.9522"
      ]
     },
     "metadata": {},
     "output_type": "display_data"
    },
    {
     "data": {
      "text/plain": [
       "Epoch: 23/30 | time: 155s = 2.6m | train loss: 0.0385 | train acc: 0.9860 | test loss: 0.1769 | test acc: 0.9559"
      ]
     },
     "metadata": {},
     "output_type": "display_data"
    },
    {
     "data": {
      "text/plain": [
       "Epoch: 24/30 | time: 154s = 2.6m | train loss: 0.0374 | train acc: 0.9865 | test loss: 0.1803 | test acc: 0.9569"
      ]
     },
     "metadata": {},
     "output_type": "display_data"
    },
    {
     "data": {
      "text/plain": [
       "Epoch: 25/30 | time: 156s = 2.6m | train loss: 0.0372 | train acc: 0.9867 | test loss: 0.1800 | test acc: 0.9560"
      ]
     },
     "metadata": {},
     "output_type": "display_data"
    },
    {
     "data": {
      "text/plain": [
       "Epoch: 26/30 | time: 155s = 2.6m | train loss: 0.0368 | train acc: 0.9869 | test loss: 0.1829 | test acc: 0.9567"
      ]
     },
     "metadata": {},
     "output_type": "display_data"
    },
    {
     "data": {
      "text/plain": [
       "Epoch: 27/30 | time: 155s = 2.6m | train loss: 0.0357 | train acc: 0.9873 | test loss: 0.4456 | test acc: 0.9247"
      ]
     },
     "metadata": {},
     "output_type": "display_data"
    },
    {
     "data": {
      "text/plain": [
       "Epoch: 28/30 | time: 155s = 2.6m | train loss: 0.0361 | train acc: 0.9873 | test loss: 0.1906 | test acc: 0.9572"
      ]
     },
     "metadata": {},
     "output_type": "display_data"
    },
    {
     "data": {
      "text/plain": [
       "Epoch: 29/30 | time: 155s = 2.6m | train loss: 0.0366 | train acc: 0.9872 | test loss: 0.1781 | test acc: 0.9589"
      ]
     },
     "metadata": {},
     "output_type": "display_data"
    },
    {
     "data": {
      "text/plain": [
       "Epoch: 30/30 | time: 155s = 2.6m | train loss: 0.0358 | train acc: 0.9875 | test loss: 0.1961 | test acc: 0.9566"
      ]
     },
     "metadata": {},
     "output_type": "display_data"
    }
   ],
   "source": [
    "fitting(epochs=epochs,\n",
    "        x_train=x_train,\n",
    "        y_train=y_train,\n",
    "        x_test=x_test,\n",
    "        y_test=y_test,\n",
    "        model=model,\n",
    "        optimizer=optim,\n",
    "        batch_size=batch_size,\n",
    "        lr=lr,\n",
    "        loss_fn=loss_fn,\n",
    "        save_name=save_name,\n",
    "        encoding=encoding)"
   ]
  },
  {
   "cell_type": "markdown",
   "metadata": {},
   "source": [
    "fitting(epochs=1,\n",
    "        x_train=x_train,\n",
    "        y_train=y_train,\n",
    "        x_test=x_test,\n",
    "        y_test=y_test,\n",
    "        model= model, \n",
    "        load_name='tmp/tf_weights.0.6.h5',\n",
    "        save_name=save_name,)"
   ]
  },
  {
   "cell_type": "code",
   "execution_count": null,
   "metadata": {},
   "outputs": [],
   "source": []
  }
 ],
 "metadata": {
  "kernelspec": {
   "display_name": "Python 3 (ipykernel)",
   "language": "python",
   "name": "python3"
  },
  "language_info": {
   "codemirror_mode": {
    "name": "ipython",
    "version": 3
   },
   "file_extension": ".py",
   "mimetype": "text/x-python",
   "name": "python",
   "nbconvert_exporter": "python",
   "pygments_lexer": "ipython3",
   "version": "3.9.6"
  }
 },
 "nbformat": 4,
 "nbformat_minor": 4
}
