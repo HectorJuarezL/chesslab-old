{
 "cells": [
  {
   "cell_type": "code",
   "execution_count": 1,
   "metadata": {},
   "outputs": [],
   "source": [
    "#!pip install chesslab"
   ]
  },
  {
   "cell_type": "code",
   "execution_count": 2,
   "metadata": {},
   "outputs": [],
   "source": [
    "import numpy as np\n",
    "from chesslab.utils import load_pkl\n",
    "from chesslab.training_tf import fitting\n",
    "from sklearn.model_selection import train_test_split\n",
    "import tensorflow as tf"
   ]
  },
  {
   "cell_type": "code",
   "execution_count": 3,
   "metadata": {},
   "outputs": [],
   "source": [
    "\n",
    "lr = 0.1\n",
    "epochs=20\n",
    "batch_size = 128\n",
    "test_percent=0.1\n",
    "\n",
    "path = 'D:/database/ccrl/'\n",
    "name_data='ccrl_states_elo3.pkl'\n",
    "name_labels='ccrl_results_elo3.pkl'\n",
    "save_name='./tmp/tf_weights-relu-elo3.3'\n",
    "\n",
    "optim = tf.compat.v1.train.GradientDescentOptimizer(learning_rate=lr)\n",
    "loss_fn = tf.keras.losses.SparseCategoricalCrossentropy(from_logits=True)"
   ]
  },
  {
   "cell_type": "code",
   "execution_count": 4,
   "metadata": {},
   "outputs": [],
   "source": [
    "download=False\n",
    "if download:\n",
    "    from chesslab.utils import download_7z\n",
    "    path='./'\n",
    "    file_id = '1MFHFz_rxNziYSeN-9ruwnRiYskd0_9ss'\n",
    "    download_7z(file_id,path)"
   ]
  },
  {
   "cell_type": "code",
   "execution_count": 5,
   "metadata": {},
   "outputs": [],
   "source": [
    "encoding_4={\n",
    "    '.':np.array([0],dtype=np.float32),\n",
    "    'p':np.array([1/12],dtype=np.float32),\n",
    "    'P':np.array([2/12],dtype=np.float32),\n",
    "    'b':np.array([3/12],dtype=np.float32),\n",
    "    'B':np.array([4/12],dtype=np.float32),\n",
    "    'n':np.array([5/12],dtype=np.float32),\n",
    "    'N':np.array([6/12],dtype=np.float32),\n",
    "    'r':np.array([7/12],dtype=np.float32),\n",
    "    'R':np.array([8/12],dtype=np.float32),\n",
    "    'q':np.array([9/12],dtype=np.float32),\n",
    "    'Q':np.array([10/12],dtype=np.float32),\n",
    "    'k':np.array([11/12],dtype=np.float32),\n",
    "    'K':np.array([12/12],dtype=np.float32)\n",
    "}"
   ]
  },
  {
   "cell_type": "code",
   "execution_count": 6,
   "metadata": {},
   "outputs": [],
   "source": [
    "class Model_4():\n",
    "\n",
    "    def __init__(self,\n",
    "                   n_classes=2):\n",
    "        initializer = tf.keras.initializers.GlorotNormal()\n",
    "        self.hw=[]\n",
    "        self.hb=[]\n",
    "\n",
    "        self.hw.append( tf.Variable(initializer(shape=(7,7,1,32),dtype=np.float32),name=\"hl1weigths\",dtype=\"float32\") )\n",
    "        self.hb.append( tf.Variable(np.zeros(32,dtype=np.float32),name=\"hl1bias\",dtype=\"float32\") )\n",
    "        #8x8x32\n",
    "        self.hw.append( tf.Variable(initializer(shape=(5,5,32,64),dtype=np.float32),name=\"hl2weigths\",dtype=\"float32\"))\n",
    "        self.hb.append( tf.Variable(np.zeros(64,dtype=np.float32),name=\"hl2bias\",dtype=\"float32\"))\n",
    "        #8x8x64\n",
    "        self.hw.append( tf.Variable(initializer(shape=(3,3,64,128),dtype=np.float32),name=\"hl3weigths\",dtype=\"float32\"))\n",
    "        self.hb.append( tf.Variable(np.zeros(128,dtype=np.float32),name=\"hl3bias\",dtype=\"float32\"))\n",
    "        #8x8x128\n",
    "        self.hw.append( tf.Variable(initializer(shape=(8*8*128,256),dtype=np.float32),name=\"hl4weigths\",dtype=\"float32\"))\n",
    "        self.hb.append( tf.Variable(np.zeros(256,dtype=np.float32),name=\"hl4bias\",dtype=\"float32\"))\n",
    "\n",
    "        self.hw.append( tf.Variable(initializer(shape=(256, n_classes),dtype=np.float32),name=\"outweigths\",dtype=\"float32\"))\n",
    "        self.hb.append( tf.Variable(np.zeros(n_classes,dtype=np.float32),name=\"outbias\",dtype=\"float32\"))\n",
    "\n",
    "        self.trainable_variables = []\n",
    "        for i in range(len(self.hw)):\n",
    "            self.trainable_variables.append(self.hw[i])    \n",
    "            self.trainable_variables.append(self.hb[i])\n",
    "\n",
    "    def __call__(self,x): \n",
    "\n",
    "        out = tf.cast(x, tf.float32)\n",
    "        out = tf.reshape(out, shape=[-1, 8, 8, 1])\n",
    "\n",
    "        layer=0\n",
    "        out = tf.nn.conv2d(out,self.hw[layer], strides=[1,1,1,1], padding='SAME')  \n",
    "        out = tf.add(out, self.hb[layer])\n",
    "        out = tf.nn.relu(out)\n",
    "              #8*8*32\n",
    "        layer+=1\n",
    "        out = tf.nn.conv2d(out,self.hw[layer], strides=[1,1,1,1], padding='SAME')  \n",
    "        out = tf.add(out, self.hb[layer])\n",
    "        out = tf.nn.relu(out)\n",
    "              #8*8*64\n",
    "        layer+=1  \n",
    "        out = tf.nn.conv2d(out,self.hw[layer], strides=[1,1,1,1], padding='SAME')  \n",
    "        out = tf.add(out, self.hb[layer])\n",
    "        out = tf.nn.elu(out)\n",
    "              #8*8*128\n",
    "        layer+=1\n",
    "        out =  tf.reshape(out,[-1, 8*8*128])\n",
    "        out =  tf.matmul(out,self.hw[layer])\n",
    "        out = tf.add(out, self.hb[layer])\n",
    "        out = tf.nn.relu(out)\n",
    "\n",
    "        layer+=1\n",
    "        out =  tf.matmul(out,self.hw[layer])\n",
    "        out = tf.add(out, self.hb[layer])\n",
    "\n",
    "        return out"
   ]
  },
  {
   "cell_type": "code",
   "execution_count": 7,
   "metadata": {},
   "outputs": [
    {
     "name": "stdout",
     "output_type": "stream",
     "text": [
      "(2661290, 64)\n",
      "(2661290,)\n"
     ]
    }
   ],
   "source": [
    "np.random.seed(0)\n",
    "tf.random.set_seed(0)\n",
    "\n",
    "x_data = load_pkl(path+name_data)\n",
    "y_data = load_pkl(path+name_labels)[:,1] #Nota: pasa de onehot a logits\n",
    "\n",
    "print(x_data.shape)\n",
    "print(y_data.shape)\n",
    "\n",
    "x_train, x_test, y_train, y_test = train_test_split(\n",
    "    x_data, y_data, test_size = test_percent, random_state = 0, shuffle = True)\n",
    "\n",
    "del x_data\n",
    "del y_data"
   ]
  },
  {
   "cell_type": "code",
   "execution_count": 8,
   "metadata": {},
   "outputs": [],
   "source": [
    "\n",
    "model = Model_4()\n",
    "encoding=encoding_4\n"
   ]
  },
  {
   "cell_type": "code",
   "execution_count": null,
   "metadata": {
    "tags": []
   },
   "outputs": [
    {
     "name": "stdout",
     "output_type": "stream",
     "text": [
      "2021-10-29 23:07:35\n"
     ]
    },
    {
     "data": {
      "text/plain": [
       "Epoch: 01/20 | time: 106s = 1.8m | train loss: 0.6217 | train acc: 0.6523 | test loss: 0.6141 | test acc: 0.6592"
      ]
     },
     "metadata": {},
     "output_type": "display_data"
    },
    {
     "data": {
      "text/plain": [
       "Epoch: 02/20 | time: 100s = 1.7m | train loss: 0.5832 | train acc: 0.6891 | test loss: 0.5637 | test acc: 0.7055"
      ]
     },
     "metadata": {},
     "output_type": "display_data"
    },
    {
     "data": {
      "text/plain": [
       "Epoch: 03/20 | time: 100s = 1.7m | train loss: 0.5283 | train acc: 0.7318 | test loss: 0.5034 | test acc: 0.7496"
      ]
     },
     "metadata": {},
     "output_type": "display_data"
    },
    {
     "data": {
      "text/plain": [
       "Epoch: 04/20 | time: 114s = 1.9m | train loss: 0.4434 | train acc: 0.7872 | test loss: 0.4391 | test acc: 0.7933"
      ]
     },
     "metadata": {},
     "output_type": "display_data"
    },
    {
     "data": {
      "text/plain": [
       "Epoch: 05/20 | time: 103s = 1.7m | train loss: 0.3578 | train acc: 0.8361 | test loss: 0.3661 | test acc: 0.8331"
      ]
     },
     "metadata": {},
     "output_type": "display_data"
    },
    {
     "data": {
      "text/plain": [
       "Epoch: 06/20 | time: 101s = 1.7m | train loss: 0.2898 | train acc: 0.8714 | test loss: 0.3406 | test acc: 0.8512"
      ]
     },
     "metadata": {},
     "output_type": "display_data"
    },
    {
     "data": {
      "text/plain": [
       "Epoch: 07/20 | time: 101s = 1.7m | train loss: 0.2390 | train acc: 0.8962 | test loss: 0.3202 | test acc: 0.8655"
      ]
     },
     "metadata": {},
     "output_type": "display_data"
    },
    {
     "data": {
      "text/plain": [
       "Epoch: 08/20 | time: 100s = 1.7m | train loss: 0.2007 | train acc: 0.9142 | test loss: 0.3052 | test acc: 0.8769"
      ]
     },
     "metadata": {},
     "output_type": "display_data"
    },
    {
     "data": {
      "text/plain": [
       "Epoch: 09/20 | time: 101s = 1.7m | train loss: 0.1724 | train acc: 0.9273 | test loss: 0.3329 | test acc: 0.8747"
      ]
     },
     "metadata": {},
     "output_type": "display_data"
    },
    {
     "data": {
      "text/plain": [
       "Epoch: 10/20 | time: 100s = 1.7m | train loss: 0.1497 | train acc: 0.9374 | test loss: 0.2719 | test acc: 0.8979"
      ]
     },
     "metadata": {},
     "output_type": "display_data"
    },
    {
     "data": {
      "text/plain": [
       "Epoch: 11/20 | train progress: 23/100 | train loss:0.1392 | train acc: 0.9419           "
      ]
     },
     "metadata": {},
     "output_type": "display_data"
    }
   ],
   "source": [
    "fitting(epochs=epochs,\n",
    "        x_train=x_train,\n",
    "        y_train=y_train,\n",
    "        x_test=x_test,\n",
    "        y_test=y_test,\n",
    "        model=model,\n",
    "        optimizer=optim,\n",
    "        batch_size=batch_size,\n",
    "        lr=lr,\n",
    "        loss_fn=loss_fn,\n",
    "        save_name=save_name,\n",
    "        encoding=encoding)"
   ]
  },
  {
   "cell_type": "code",
   "execution_count": 9,
   "metadata": {},
   "outputs": [
    {
     "name": "stdout",
     "output_type": "stream",
     "text": [
      "2021-10-30 00:05:59\n"
     ]
    },
    {
     "data": {
      "text/plain": [
       "Epoch: 11/30 | time: 103s = 1.7m | train loss: 0.1323 | train acc: 0.9453 | test loss: 0.2550 | test acc: 0.9051"
      ]
     },
     "metadata": {},
     "output_type": "display_data"
    },
    {
     "data": {
      "text/plain": [
       "Epoch: 12/30 | time: 109s = 1.8m | train loss: 0.1186 | train acc: 0.9512 | test loss: 0.2881 | test acc: 0.9006"
      ]
     },
     "metadata": {},
     "output_type": "display_data"
    },
    {
     "data": {
      "text/plain": [
       "Epoch: 13/30 | time: 100s = 1.7m | train loss: 0.1072 | train acc: 0.9563 | test loss: 0.2610 | test acc: 0.9101"
      ]
     },
     "metadata": {},
     "output_type": "display_data"
    },
    {
     "data": {
      "text/plain": [
       "Epoch: 14/30 | time: 101s = 1.7m | train loss: 0.0983 | train acc: 0.9603 | test loss: 0.2676 | test acc: 0.9080"
      ]
     },
     "metadata": {},
     "output_type": "display_data"
    },
    {
     "data": {
      "text/plain": [
       "Epoch: 15/30 | time: 101s = 1.7m | train loss: 0.0906 | train acc: 0.9638 | test loss: 0.2757 | test acc: 0.9121"
      ]
     },
     "metadata": {},
     "output_type": "display_data"
    },
    {
     "data": {
      "text/plain": [
       "Epoch: 16/30 | time: 100s = 1.7m | train loss: 0.0840 | train acc: 0.9666 | test loss: 0.2900 | test acc: 0.9084"
      ]
     },
     "metadata": {},
     "output_type": "display_data"
    },
    {
     "data": {
      "text/plain": [
       "Epoch: 17/30 | time: 101s = 1.7m | train loss: 0.0791 | train acc: 0.9687 | test loss: 0.2465 | test acc: 0.9226"
      ]
     },
     "metadata": {},
     "output_type": "display_data"
    },
    {
     "data": {
      "text/plain": [
       "Epoch: 18/30 | time: 101s = 1.7m | train loss: 0.0747 | train acc: 0.9707 | test loss: 0.2583 | test acc: 0.9233"
      ]
     },
     "metadata": {},
     "output_type": "display_data"
    },
    {
     "data": {
      "text/plain": [
       "Epoch: 19/30 | time: 100s = 1.7m | train loss: 0.0706 | train acc: 0.9725 | test loss: 0.2485 | test acc: 0.9265"
      ]
     },
     "metadata": {},
     "output_type": "display_data"
    },
    {
     "data": {
      "text/plain": [
       "Epoch: 20/30 | time: 100s = 1.7m | train loss: 0.0681 | train acc: 0.9738 | test loss: 0.2775 | test acc: 0.9218"
      ]
     },
     "metadata": {},
     "output_type": "display_data"
    },
    {
     "data": {
      "text/plain": [
       "Epoch: 21/30 | time: 100s = 1.7m | train loss: 0.0656 | train acc: 0.9749 | test loss: 0.2471 | test acc: 0.9279"
      ]
     },
     "metadata": {},
     "output_type": "display_data"
    },
    {
     "data": {
      "text/plain": [
       "Epoch: 22/30 | time: 100s = 1.7m | train loss: 0.0628 | train acc: 0.9762 | test loss: 0.2652 | test acc: 0.9285"
      ]
     },
     "metadata": {},
     "output_type": "display_data"
    },
    {
     "data": {
      "text/plain": [
       "Epoch: 23/30 | time: 101s = 1.7m | train loss: 0.0604 | train acc: 0.9772 | test loss: 0.2673 | test acc: 0.9290"
      ]
     },
     "metadata": {},
     "output_type": "display_data"
    },
    {
     "data": {
      "text/plain": [
       "Epoch: 24/30 | time: 101s = 1.7m | train loss: 0.0584 | train acc: 0.9781 | test loss: 0.2600 | test acc: 0.9287"
      ]
     },
     "metadata": {},
     "output_type": "display_data"
    },
    {
     "data": {
      "text/plain": [
       "Epoch: 25/30 | time: 101s = 1.7m | train loss: 0.0573 | train acc: 0.9787 | test loss: 0.2823 | test acc: 0.9273"
      ]
     },
     "metadata": {},
     "output_type": "display_data"
    },
    {
     "data": {
      "text/plain": [
       "Epoch: 26/30 | time: 102s = 1.7m | train loss: 0.0564 | train acc: 0.9792 | test loss: 0.2610 | test acc: 0.9311"
      ]
     },
     "metadata": {},
     "output_type": "display_data"
    },
    {
     "data": {
      "text/plain": [
       "Epoch: 27/30 | time: 101s = 1.7m | train loss: 0.0551 | train acc: 0.9797 | test loss: 0.2520 | test acc: 0.9336"
      ]
     },
     "metadata": {},
     "output_type": "display_data"
    },
    {
     "data": {
      "text/plain": [
       "Epoch: 28/30 | time: 100s = 1.7m | train loss: 0.0547 | train acc: 0.9801 | test loss: 0.4208 | test acc: 0.9050"
      ]
     },
     "metadata": {},
     "output_type": "display_data"
    },
    {
     "data": {
      "text/plain": [
       "Epoch: 29/30 | time: 99s = 1.7m | train loss: 0.0527 | train acc: 0.9809 | test loss: 0.2923 | test acc: 0.9282"
      ]
     },
     "metadata": {},
     "output_type": "display_data"
    },
    {
     "data": {
      "text/plain": [
       "Epoch: 30/30 | time: 100s = 1.7m | train loss: 0.0524 | train acc: 0.9811 | test loss: 0.2559 | test acc: 0.9353"
      ]
     },
     "metadata": {},
     "output_type": "display_data"
    }
   ],
   "source": [
    "fitting(epochs=20,\n",
    "        x_train=x_train,\n",
    "        y_train=y_train,\n",
    "        x_test=x_test,\n",
    "        y_test=y_test,\n",
    "        model= model, \n",
    "        load_name=save_name+'.10.h5',\n",
    "        save_name=save_name,)"
   ]
  },
  {
   "cell_type": "code",
   "execution_count": 10,
   "metadata": {},
   "outputs": [
    {
     "name": "stdout",
     "output_type": "stream",
     "text": [
      "2021-10-30 00:40:22\n"
     ]
    },
    {
     "data": {
      "text/plain": [
       "Epoch: 31/40 | time: 101s = 1.7m | train loss: 0.0516 | train acc: 0.9815 | test loss: 0.2812 | test acc: 0.9336"
      ]
     },
     "metadata": {},
     "output_type": "display_data"
    },
    {
     "data": {
      "text/plain": [
       "Epoch: 32/40 | time: 101s = 1.7m | train loss: 0.0513 | train acc: 0.9818 | test loss: 0.2887 | test acc: 0.9329"
      ]
     },
     "metadata": {},
     "output_type": "display_data"
    },
    {
     "data": {
      "text/plain": [
       "Epoch: 33/40 | time: 104s = 1.7m | train loss: 0.0501 | train acc: 0.9824 | test loss: 0.3058 | test acc: 0.9294"
      ]
     },
     "metadata": {},
     "output_type": "display_data"
    },
    {
     "data": {
      "text/plain": [
       "Epoch: 34/40 | time: 101s = 1.7m | train loss: 0.0498 | train acc: 0.9825 | test loss: 0.2611 | test acc: 0.9374"
      ]
     },
     "metadata": {},
     "output_type": "display_data"
    },
    {
     "data": {
      "text/plain": [
       "Epoch: 35/40 | time: 100s = 1.7m | train loss: 0.0499 | train acc: 0.9826 | test loss: 0.2782 | test acc: 0.9352"
      ]
     },
     "metadata": {},
     "output_type": "display_data"
    },
    {
     "data": {
      "text/plain": [
       "Epoch: 36/40 | time: 101s = 1.7m | train loss: 0.0494 | train acc: 0.9830 | test loss: 0.2928 | test acc: 0.9346"
      ]
     },
     "metadata": {},
     "output_type": "display_data"
    },
    {
     "data": {
      "text/plain": [
       "Epoch: 37/40 | time: 102s = 1.7m | train loss: 0.0491 | train acc: 0.9832 | test loss: 0.5695 | test acc: 0.8957"
      ]
     },
     "metadata": {},
     "output_type": "display_data"
    },
    {
     "data": {
      "text/plain": [
       "Epoch: 38/40 | time: 100s = 1.7m | train loss: 0.0491 | train acc: 0.9833 | test loss: 0.2913 | test acc: 0.9358"
      ]
     },
     "metadata": {},
     "output_type": "display_data"
    },
    {
     "data": {
      "text/plain": [
       "Epoch: 39/40 | time: 101s = 1.7m | train loss: 0.0487 | train acc: 0.9835 | test loss: 0.2947 | test acc: 0.9360"
      ]
     },
     "metadata": {},
     "output_type": "display_data"
    },
    {
     "data": {
      "text/plain": [
       "Epoch: 40/40 | time: 101s = 1.7m | train loss: 0.0496 | train acc: 0.9833 | test loss: 0.2934 | test acc: 0.9354"
      ]
     },
     "metadata": {},
     "output_type": "display_data"
    }
   ],
   "source": [
    "fitting(epochs=10,\n",
    "        x_train=x_train,\n",
    "        y_train=y_train,\n",
    "        x_test=x_test,\n",
    "        y_test=y_test,\n",
    "        model= model, \n",
    "        load_name=save_name+'.30.h5',\n",
    "        save_name=save_name,)"
   ]
  },
  {
   "cell_type": "code",
   "execution_count": null,
   "metadata": {},
   "outputs": [],
   "source": []
  }
 ],
 "metadata": {
  "kernelspec": {
   "display_name": "Python 3 (ipykernel)",
   "language": "python",
   "name": "python3"
  },
  "language_info": {
   "codemirror_mode": {
    "name": "ipython",
    "version": 3
   },
   "file_extension": ".py",
   "mimetype": "text/x-python",
   "name": "python",
   "nbconvert_exporter": "python",
   "pygments_lexer": "ipython3",
   "version": "3.9.6"
  }
 },
 "nbformat": 4,
 "nbformat_minor": 4
}
