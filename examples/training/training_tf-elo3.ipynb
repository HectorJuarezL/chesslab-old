{
 "cells": [
  {
   "cell_type": "code",
   "execution_count": 1,
   "metadata": {},
   "outputs": [],
   "source": [
    "#!pip install chesslab"
   ]
  },
  {
   "cell_type": "code",
   "execution_count": 2,
   "metadata": {},
   "outputs": [],
   "source": [
    "import numpy as np\n",
    "from chesslab.utils import load_pkl\n",
    "from chesslab.training_tf import fitting\n",
    "from sklearn.model_selection import train_test_split\n",
    "import tensorflow as tf"
   ]
  },
  {
   "cell_type": "code",
   "execution_count": 3,
   "metadata": {},
   "outputs": [],
   "source": [
    "example=1\n",
    "lr = 0.1\n",
    "epochs=40\n",
    "batch_size = 128\n",
    "test_percent=0.1\n",
    "\n",
    "path = 'D:/database/ccrl/'\n",
    "name_data='ccrl_states_elo3.pkl'\n",
    "name_labels='ccrl_results_elo3.pkl'\n",
    "save_name='./tmp/tf_weights-elo3.0'\n",
    "\n",
    "optim = tf.compat.v1.train.GradientDescentOptimizer(learning_rate=lr)\n",
    "loss_fn = tf.keras.losses.SparseCategoricalCrossentropy(from_logits=True)"
   ]
  },
  {
   "cell_type": "code",
   "execution_count": 4,
   "metadata": {},
   "outputs": [],
   "source": [
    "download=False\n",
    "if download:\n",
    "    from chesslab.utils import download_7z\n",
    "    path='./'\n",
    "    file_id = '1MFHFz_rxNziYSeN-9ruwnRiYskd0_9ss'\n",
    "    download_7z(file_id,path)"
   ]
  },
  {
   "cell_type": "code",
   "execution_count": 5,
   "metadata": {},
   "outputs": [],
   "source": [
    "encoding_1={\n",
    "    '.':np.array([ 0, 0, 0],dtype=np.float32),\n",
    "    'p':np.array([ 0, 0, 1],dtype=np.float32),\n",
    "    'P':np.array([ 0, 0,-1],dtype=np.float32),\n",
    "    'b':np.array([ 0, 1, 0],dtype=np.float32),\n",
    "    'B':np.array([ 0,-1, 0],dtype=np.float32),\n",
    "    'n':np.array([ 1, 0, 0],dtype=np.float32),\n",
    "    'N':np.array([-1, 0, 0],dtype=np.float32),\n",
    "    'r':np.array([ 0, 1, 1],dtype=np.float32),\n",
    "    'R':np.array([ 0,-1,-1],dtype=np.float32),\n",
    "    'q':np.array([ 1, 0, 1],dtype=np.float32),\n",
    "    'Q':np.array([-1, 0,-1],dtype=np.float32),\n",
    "    'k':np.array([ 1, 1, 0],dtype=np.float32),\n",
    "    'K':np.array([-1,-1, 0],dtype=np.float32)\n",
    "}\n",
    "\n",
    "encoding_2={\n",
    "    '.':np.array([0,0,0,0],dtype=np.float32),\n",
    "    'p':np.array([1,0,0,0],dtype=np.float32),\n",
    "    'P':np.array([0,0,0,1],dtype=np.float32),\n",
    "    'b':np.array([0,1,0,0],dtype=np.float32),\n",
    "    'B':np.array([0,0,1,0],dtype=np.float32),\n",
    "    'n':np.array([1,1,0,0],dtype=np.float32),\n",
    "    'N':np.array([0,0,1,1],dtype=np.float32),\n",
    "    'r':np.array([1,0,1,0],dtype=np.float32),\n",
    "    'R':np.array([0,1,0,1],dtype=np.float32),\n",
    "    'q':np.array([1,0,0,1],dtype=np.float32),\n",
    "    'Q':np.array([0,1,1,0],dtype=np.float32),\n",
    "    'k':np.array([1,1,1,0],dtype=np.float32),\n",
    "    'K':np.array([0,1,1,1],dtype=np.float32)\n",
    "}\n"
   ]
  },
  {
   "cell_type": "code",
   "execution_count": 6,
   "metadata": {},
   "outputs": [],
   "source": [
    "class Model_1():\n",
    "\n",
    "    def __init__(self,\n",
    "                   n_classes=2):\n",
    "        initializer = tf.keras.initializers.GlorotNormal()\n",
    "        self.hw=[]\n",
    "        self.hb=[]\n",
    "\n",
    "        self.hw.append( tf.Variable(initializer(shape=(7,7,3,32),dtype=np.float32),name=\"hl1weigths\",dtype=\"float32\") )\n",
    "        self.hb.append( tf.Variable(np.zeros(32,dtype=np.float32),name=\"hl1bias\",dtype=\"float32\") )\n",
    "        #8x8x32\n",
    "        self.hw.append( tf.Variable(initializer(shape=(5,5,32,64),dtype=np.float32),name=\"hl2weigths\",dtype=\"float32\"))\n",
    "        self.hb.append( tf.Variable(np.zeros(64,dtype=np.float32),name=\"hl2bias\",dtype=\"float32\"))\n",
    "        #8x8x64\n",
    "        self.hw.append( tf.Variable(initializer(shape=(3,3,64,128),dtype=np.float32),name=\"hl3weigths\",dtype=\"float32\"))\n",
    "        self.hb.append( tf.Variable(np.zeros(128,dtype=np.float32),name=\"hl3bias\",dtype=\"float32\"))\n",
    "        #8x8x128\n",
    "        self.hw.append( tf.Variable(initializer(shape=(8*8*128,256),dtype=np.float32),name=\"hl4weigths\",dtype=\"float32\"))\n",
    "        self.hb.append( tf.Variable(np.zeros(256,dtype=np.float32),name=\"hl4bias\",dtype=\"float32\"))\n",
    "\n",
    "        self.hw.append( tf.Variable(initializer(shape=(256, n_classes),dtype=np.float32),name=\"outweigths\",dtype=\"float32\"))\n",
    "        self.hb.append( tf.Variable(np.zeros(n_classes,dtype=np.float32),name=\"outbias\",dtype=\"float32\"))\n",
    "\n",
    "        self.trainable_variables = []\n",
    "        for i in range(len(self.hw)):\n",
    "            self.trainable_variables.append(self.hw[i])    \n",
    "            self.trainable_variables.append(self.hb[i])\n",
    "\n",
    "    def __call__(self,x): \n",
    "\n",
    "        # Declarando la arquitectura\n",
    "        out = tf.cast(x, tf.float32)\n",
    "        out = tf.reshape(out, shape=[-1, 8, 8, 3])\n",
    "\n",
    "        layer=0\n",
    "        out = tf.add(out, 1e-8)\n",
    "        out = tf.nn.conv2d(out,self.hw[layer], strides=[1,1,1,1], padding='SAME')  \n",
    "        out = tf.add(out, self.hb[layer])\n",
    "        out = tf.nn.elu(out)\n",
    "              #8*8*32\n",
    "        layer+=1\n",
    "        out = tf.nn.conv2d(out,self.hw[layer], strides=[1,1,1,1], padding='SAME')  \n",
    "        out = tf.add(out, self.hb[layer])\n",
    "        out = tf.nn.elu(out)\n",
    "              #8*8*64\n",
    "        layer+=1  \n",
    "        out = tf.nn.conv2d(out,self.hw[layer], strides=[1,1,1,1], padding='SAME')  \n",
    "        out = tf.add(out, self.hb[layer])\n",
    "        out = tf.nn.elu(out)\n",
    "              #8*8*128\n",
    "        layer+=1\n",
    "        out =  tf.reshape(out,[-1, 8*8*128])\n",
    "        out =  tf.matmul(out,self.hw[layer])\n",
    "        out = tf.add(out, self.hb[layer])\n",
    "        out = tf.nn.elu(out)\n",
    "\n",
    "        layer+=1\n",
    "        out =  tf.matmul(out,self.hw[layer])\n",
    "        out = tf.add(out, self.hb[layer])\n",
    "\n",
    "        return out\n",
    "    \n",
    "\n",
    "class Model_2():\n",
    "\n",
    "    def __init__(self,\n",
    "                   n_classes=2):\n",
    "        initializer = tf.keras.initializers.GlorotNormal()\n",
    "        self.hw=[]\n",
    "        self.hb=[]\n",
    "\n",
    "        self.hw.append( tf.Variable(initializer(shape=(7,7,4,32),dtype=np.float32),name=\"hl1weigths\",dtype=\"float32\") )\n",
    "        self.hb.append( tf.Variable(np.zeros(32,dtype=np.float32),name=\"hl1bias\",dtype=\"float32\") )\n",
    "        #8x8x32\n",
    "        self.hw.append( tf.Variable(initializer(shape=(5,5,32,64),dtype=np.float32),name=\"hl2weigths\",dtype=\"float32\"))\n",
    "        self.hb.append( tf.Variable(np.zeros(64,dtype=np.float32),name=\"hl2bias\",dtype=\"float32\"))\n",
    "        #8x8x64\n",
    "        self.hw.append( tf.Variable(initializer(shape=(3,3,64,128),dtype=np.float32),name=\"hl3weigths\",dtype=\"float32\"))\n",
    "        self.hb.append( tf.Variable(np.zeros(128,dtype=np.float32),name=\"hl3bias\",dtype=\"float32\"))\n",
    "        #8x8x128\n",
    "        self.hw.append( tf.Variable(initializer(shape=(8*8*128,256),dtype=np.float32),name=\"hl4weigths\",dtype=\"float32\"))\n",
    "        self.hb.append( tf.Variable(np.zeros(256,dtype=np.float32),name=\"hl4bias\",dtype=\"float32\"))\n",
    "\n",
    "        self.hw.append( tf.Variable(initializer(shape=(256, n_classes),dtype=np.float32),name=\"outweigths\",dtype=\"float32\"))\n",
    "        self.hb.append( tf.Variable(np.zeros(n_classes,dtype=np.float32),name=\"outbias\",dtype=\"float32\"))\n",
    "\n",
    "        self.trainable_variables = []\n",
    "        for i in range(len(self.hw)):\n",
    "            self.trainable_variables.append(self.hw[i])    \n",
    "            self.trainable_variables.append(self.hb[i])\n",
    "\n",
    "    def __call__(self,x): \n",
    "\n",
    "        out = tf.cast(x, tf.float32)\n",
    "        out = tf.reshape(out, shape=[-1, 8, 8, 4])\n",
    "\n",
    "        layer=0\n",
    "        out = tf.nn.conv2d(out,self.hw[layer], strides=[1,1,1,1], padding='SAME')  \n",
    "        out = tf.add(out, self.hb[layer])\n",
    "        out = tf.nn.relu(out)\n",
    "              #8*8*32\n",
    "        layer+=1\n",
    "        out = tf.nn.conv2d(out,self.hw[layer], strides=[1,1,1,1], padding='SAME')  \n",
    "        out = tf.add(out, self.hb[layer])\n",
    "        out = tf.nn.relu(out)\n",
    "              #8*8*64\n",
    "        layer+=1  \n",
    "        out = tf.nn.conv2d(out,self.hw[layer], strides=[1,1,1,1], padding='SAME')  \n",
    "        out = tf.add(out, self.hb[layer])\n",
    "        out = tf.nn.elu(out)\n",
    "              #8*8*128\n",
    "        layer+=1\n",
    "        out =  tf.reshape(out,[-1, 8*8*128])\n",
    "        out =  tf.matmul(out,self.hw[layer])\n",
    "        out = tf.add(out, self.hb[layer])\n",
    "        out = tf.nn.relu(out)\n",
    "\n",
    "        layer+=1\n",
    "        out =  tf.matmul(out,self.hw[layer])\n",
    "        out = tf.add(out, self.hb[layer])\n",
    "\n",
    "        return out"
   ]
  },
  {
   "cell_type": "code",
   "execution_count": 7,
   "metadata": {},
   "outputs": [
    {
     "name": "stdout",
     "output_type": "stream",
     "text": [
      "(2660430, 64)\n",
      "(2660430,)\n"
     ]
    }
   ],
   "source": [
    "np.random.seed(0)\n",
    "tf.random.set_seed(0)\n",
    "\n",
    "x_data = load_pkl(path+name_data)\n",
    "y_data = load_pkl(path+name_labels)[:,1] #Nota: pasa de onehot a logits\n",
    "\n",
    "print(x_data.shape)\n",
    "print(y_data.shape)\n",
    "\n",
    "x_train, x_test, y_train, y_test = train_test_split(\n",
    "    x_data, y_data, test_size = test_percent, random_state = 0, shuffle = True)\n",
    "\n",
    "del x_data\n",
    "del y_data"
   ]
  },
  {
   "cell_type": "code",
   "execution_count": 8,
   "metadata": {},
   "outputs": [],
   "source": [
    "if example==1:\n",
    "    model = Model_1()\n",
    "    encoding=encoding_1\n",
    "else:\n",
    "    model = Model_2()\n",
    "    encoding=encoding_2"
   ]
  },
  {
   "cell_type": "code",
   "execution_count": 9,
   "metadata": {},
   "outputs": [],
   "source": [
    "from chesslab.training_tf import data_loader"
   ]
  },
  {
   "cell_type": "code",
   "execution_count": 10,
   "metadata": {
    "tags": []
   },
   "outputs": [
    {
     "name": "stdout",
     "output_type": "stream",
     "text": [
      "2021-10-26 16:53:39\n"
     ]
    },
    {
     "data": {
      "text/plain": [
       "Epoch: 01/40 | time: 97s = 1.6m | train loss: 0.5829 | train acc: 0.6860 | test loss: 0.5600 | test acc: 0.7068"
      ]
     },
     "metadata": {},
     "output_type": "display_data"
    },
    {
     "data": {
      "text/plain": [
       "Epoch: 02/40 | time: 95s = 1.6m | train loss: 0.5300 | train acc: 0.7290 | test loss: 0.5533 | test acc: 0.7262"
      ]
     },
     "metadata": {},
     "output_type": "display_data"
    },
    {
     "data": {
      "text/plain": [
       "Epoch: 03/40 | time: 95s = 1.6m | train loss: 0.4762 | train acc: 0.7658 | test loss: 0.5353 | test acc: 0.7409"
      ]
     },
     "metadata": {},
     "output_type": "display_data"
    },
    {
     "data": {
      "text/plain": [
       "Epoch: 04/40 | time: 95s = 1.6m | train loss: 0.4161 | train acc: 0.8031 | test loss: 0.4236 | test acc: 0.8099"
      ]
     },
     "metadata": {},
     "output_type": "display_data"
    },
    {
     "data": {
      "text/plain": [
       "Epoch: 05/40 | time: 94s = 1.6m | train loss: 0.3490 | train acc: 0.8412 | test loss: 0.3977 | test acc: 0.8297"
      ]
     },
     "metadata": {},
     "output_type": "display_data"
    },
    {
     "data": {
      "text/plain": [
       "Epoch: 06/40 | time: 94s = 1.6m | train loss: 0.2808 | train acc: 0.8780 | test loss: 0.3356 | test acc: 0.8688"
      ]
     },
     "metadata": {},
     "output_type": "display_data"
    },
    {
     "data": {
      "text/plain": [
       "Epoch: 07/40 | time: 94s = 1.6m | train loss: 0.2192 | train acc: 0.9085 | test loss: 0.2836 | test acc: 0.8928"
      ]
     },
     "metadata": {},
     "output_type": "display_data"
    },
    {
     "data": {
      "text/plain": [
       "Epoch: 08/40 | time: 94s = 1.6m | train loss: 0.1702 | train acc: 0.9312 | test loss: 0.4840 | test acc: 0.8582"
      ]
     },
     "metadata": {},
     "output_type": "display_data"
    },
    {
     "data": {
      "text/plain": [
       "Epoch: 09/40 | time: 94s = 1.6m | train loss: 0.1359 | train acc: 0.9463 | test loss: 0.2305 | test acc: 0.9249"
      ]
     },
     "metadata": {},
     "output_type": "display_data"
    },
    {
     "data": {
      "text/plain": [
       "Epoch: 10/40 | time: 93s = 1.6m | train loss: 0.1123 | train acc: 0.9565 | test loss: 0.1997 | test acc: 0.9335"
      ]
     },
     "metadata": {},
     "output_type": "display_data"
    },
    {
     "data": {
      "text/plain": [
       "Epoch: 11/40 | time: 94s = 1.6m | train loss: 0.0970 | train acc: 0.9631 | test loss: 0.2074 | test acc: 0.9370"
      ]
     },
     "metadata": {},
     "output_type": "display_data"
    },
    {
     "data": {
      "text/plain": [
       "Epoch: 12/40 | time: 94s = 1.6m | train loss: 0.0865 | train acc: 0.9678 | test loss: 0.2420 | test acc: 0.9298"
      ]
     },
     "metadata": {},
     "output_type": "display_data"
    },
    {
     "data": {
      "text/plain": [
       "Epoch: 13/40 | time: 94s = 1.6m | train loss: 0.0800 | train acc: 0.9706 | test loss: 0.2043 | test acc: 0.9383"
      ]
     },
     "metadata": {},
     "output_type": "display_data"
    },
    {
     "data": {
      "text/plain": [
       "Epoch: 14/40 | time: 94s = 1.6m | train loss: 0.0739 | train acc: 0.9732 | test loss: 0.1915 | test acc: 0.9462"
      ]
     },
     "metadata": {},
     "output_type": "display_data"
    },
    {
     "data": {
      "text/plain": [
       "Epoch: 15/40 | time: 94s = 1.6m | train loss: 0.0700 | train acc: 0.9751 | test loss: 0.2927 | test acc: 0.9292"
      ]
     },
     "metadata": {},
     "output_type": "display_data"
    },
    {
     "data": {
      "text/plain": [
       "Epoch: 16/40 | time: 94s = 1.6m | train loss: 0.0686 | train acc: 0.9760 | test loss: 0.1796 | test acc: 0.9491"
      ]
     },
     "metadata": {},
     "output_type": "display_data"
    },
    {
     "data": {
      "text/plain": [
       "Epoch: 17/40 | time: 94s = 1.6m | train loss: 0.0660 | train acc: 0.9772 | test loss: 0.2384 | test acc: 0.9419"
      ]
     },
     "metadata": {},
     "output_type": "display_data"
    },
    {
     "data": {
      "text/plain": [
       "Epoch: 18/40 | time: 94s = 1.6m | train loss: 0.0649 | train acc: 0.9779 | test loss: 0.1927 | test acc: 0.9495"
      ]
     },
     "metadata": {},
     "output_type": "display_data"
    },
    {
     "data": {
      "text/plain": [
       "Epoch: 19/40 | time: 94s = 1.6m | train loss: 0.0650 | train acc: 0.9782 | test loss: 0.2160 | test acc: 0.9462"
      ]
     },
     "metadata": {},
     "output_type": "display_data"
    },
    {
     "data": {
      "text/plain": [
       "Epoch: 20/40 | time: 94s = 1.6m | train loss: 0.0647 | train acc: 0.9786 | test loss: 0.1957 | test acc: 0.9498"
      ]
     },
     "metadata": {},
     "output_type": "display_data"
    },
    {
     "data": {
      "text/plain": [
       "Epoch: 21/40 | time: 94s = 1.6m | train loss: 0.0647 | train acc: 0.9788 | test loss: 0.4958 | test acc: 0.9214"
      ]
     },
     "metadata": {},
     "output_type": "display_data"
    },
    {
     "data": {
      "text/plain": [
       "Epoch: 22/40 | time: 94s = 1.6m | train loss: 0.0660 | train acc: 0.9788 | test loss: 0.2211 | test acc: 0.9495"
      ]
     },
     "metadata": {},
     "output_type": "display_data"
    },
    {
     "data": {
      "text/plain": [
       "Epoch: 23/40 | time: 94s = 1.6m | train loss: 0.0665 | train acc: 0.9788 | test loss: 0.3593 | test acc: 0.9290"
      ]
     },
     "metadata": {},
     "output_type": "display_data"
    },
    {
     "data": {
      "text/plain": [
       "Epoch: 24/40 | time: 94s = 1.6m | train loss: 0.0650 | train acc: 0.9796 | test loss: 0.2255 | test acc: 0.9494"
      ]
     },
     "metadata": {},
     "output_type": "display_data"
    },
    {
     "data": {
      "text/plain": [
       "Epoch: 25/40 | time: 94s = 1.6m | train loss: 0.0664 | train acc: 0.9794 | test loss: 0.7303 | test acc: 0.9109"
      ]
     },
     "metadata": {},
     "output_type": "display_data"
    },
    {
     "data": {
      "text/plain": [
       "Epoch: 26/40 | time: 94s = 1.6m | train loss: 0.0682 | train acc: 0.9791 | test loss: 0.2378 | test acc: 0.9455"
      ]
     },
     "metadata": {},
     "output_type": "display_data"
    },
    {
     "data": {
      "text/plain": [
       "Epoch: 27/40 | time: 94s = 1.6m | train loss: 0.0694 | train acc: 0.9789 | test loss: 0.2233 | test acc: 0.9505"
      ]
     },
     "metadata": {},
     "output_type": "display_data"
    },
    {
     "data": {
      "text/plain": [
       "Epoch: 28/40 | time: 93s = 1.6m | train loss: 0.0715 | train acc: 0.9787 | test loss: 0.2756 | test acc: 0.9401"
      ]
     },
     "metadata": {},
     "output_type": "display_data"
    },
    {
     "data": {
      "text/plain": [
       "Epoch: 29/40 | time: 95s = 1.6m | train loss: 0.0725 | train acc: 0.9785 | test loss: 0.2421 | test acc: 0.9472"
      ]
     },
     "metadata": {},
     "output_type": "display_data"
    },
    {
     "data": {
      "text/plain": [
       "Epoch: 30/40 | time: 94s = 1.6m | train loss: 0.0745 | train acc: 0.9783 | test loss: 0.2354 | test acc: 0.9513"
      ]
     },
     "metadata": {},
     "output_type": "display_data"
    },
    {
     "data": {
      "text/plain": [
       "Epoch: 31/40 | time: 94s = 1.6m | train loss: 0.0764 | train acc: 0.9780 | test loss: 0.2221 | test acc: 0.9509"
      ]
     },
     "metadata": {},
     "output_type": "display_data"
    },
    {
     "data": {
      "text/plain": [
       "Epoch: 32/40 | time: 94s = 1.6m | train loss: 0.0786 | train acc: 0.9776 | test loss: 0.2324 | test acc: 0.9510"
      ]
     },
     "metadata": {},
     "output_type": "display_data"
    },
    {
     "data": {
      "text/plain": [
       "Epoch: 33/40 | time: 94s = 1.6m | train loss: 0.0824 | train acc: 0.9769 | test loss: 0.2560 | test acc: 0.9474"
      ]
     },
     "metadata": {},
     "output_type": "display_data"
    },
    {
     "data": {
      "text/plain": [
       "Epoch: 34/40 | time: 94s = 1.6m | train loss: 0.0834 | train acc: 0.9766 | test loss: 0.5629 | test acc: 0.9241"
      ]
     },
     "metadata": {},
     "output_type": "display_data"
    },
    {
     "data": {
      "text/plain": [
       "Epoch: 35/40 | time: 94s = 1.6m | train loss: 0.0865 | train acc: 0.9763 | test loss: 0.2825 | test acc: 0.9464"
      ]
     },
     "metadata": {},
     "output_type": "display_data"
    },
    {
     "data": {
      "text/plain": [
       "Epoch: 36/40 | time: 94s = 1.6m | train loss: 0.0870 | train acc: 0.9761 | test loss: 1.5842 | test acc: 0.8594"
      ]
     },
     "metadata": {},
     "output_type": "display_data"
    },
    {
     "data": {
      "text/plain": [
       "Epoch: 37/40 | time: 94s = 1.6m | train loss: 0.0896 | train acc: 0.9757 | test loss: 0.3355 | test acc: 0.9362"
      ]
     },
     "metadata": {},
     "output_type": "display_data"
    },
    {
     "data": {
      "text/plain": [
       "Epoch: 38/40 | time: 94s = 1.6m | train loss: 0.0923 | train acc: 0.9753 | test loss: 0.2690 | test acc: 0.9439"
      ]
     },
     "metadata": {},
     "output_type": "display_data"
    },
    {
     "data": {
      "text/plain": [
       "Epoch: 39/40 | time: 94s = 1.6m | train loss: 0.0959 | train acc: 0.9745 | test loss: 0.2665 | test acc: 0.9430"
      ]
     },
     "metadata": {},
     "output_type": "display_data"
    },
    {
     "data": {
      "text/plain": [
       "Epoch: 40/40 | time: 94s = 1.6m | train loss: 0.0943 | train acc: 0.9751 | test loss: 0.7016 | test acc: 0.9101"
      ]
     },
     "metadata": {},
     "output_type": "display_data"
    }
   ],
   "source": [
    "fitting(epochs=epochs,\n",
    "        x_train=x_train,\n",
    "        y_train=y_train,\n",
    "        x_test=x_test,\n",
    "        y_test=y_test,\n",
    "        model=model,\n",
    "        optimizer=optim,\n",
    "        batch_size=batch_size,\n",
    "        lr=lr,\n",
    "        loss_fn=loss_fn,\n",
    "        save_name=save_name,\n",
    "        encoding=encoding)"
   ]
  },
  {
   "cell_type": "raw",
   "metadata": {},
   "source": [
    "fitting(epochs=10,\n",
    "        x_train=x_train,\n",
    "        y_train=y_train,\n",
    "        x_test=x_test,\n",
    "        y_test=y_test,\n",
    "        model= model, \n",
    "        load_name='tmp/tf_weights-elo3.0.25.h5',\n",
    "        save_name=save_name,)"
   ]
  },
  {
   "cell_type": "code",
   "execution_count": null,
   "metadata": {},
   "outputs": [],
   "source": []
  }
 ],
 "metadata": {
  "kernelspec": {
   "display_name": "Python 3 (ipykernel)",
   "language": "python",
   "name": "python3"
  },
  "language_info": {
   "codemirror_mode": {
    "name": "ipython",
    "version": 3
   },
   "file_extension": ".py",
   "mimetype": "text/x-python",
   "name": "python",
   "nbconvert_exporter": "python",
   "pygments_lexer": "ipython3",
   "version": "3.9.6"
  }
 },
 "nbformat": 4,
 "nbformat_minor": 4
}
