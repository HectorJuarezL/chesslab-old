{
 "cells": [
  {
   "cell_type": "code",
   "execution_count": 1,
   "metadata": {},
   "outputs": [],
   "source": [
    "#!pip install chesslab"
   ]
  },
  {
   "cell_type": "code",
   "execution_count": 2,
   "metadata": {},
   "outputs": [],
   "source": [
    "import numpy as np\n",
    "from chesslab.utils import load_pkl\n",
    "from chesslab.training_tf import fitting\n",
    "from sklearn.model_selection import train_test_split\n",
    "import tensorflow as tf"
   ]
  },
  {
   "cell_type": "code",
   "execution_count": 3,
   "metadata": {},
   "outputs": [],
   "source": [
    "\n",
    "lr = 0.1\n",
    "epochs=20\n",
    "batch_size = 128\n",
    "test_percent=0.1\n",
    "\n",
    "path = 'D:/database/ccrl/'\n",
    "name_data='ccrl_states_full.pkl'\n",
    "name_labels='ccrl_results_full.pkl'\n",
    "save_name='./tmp/tf_weights-relu-full.1'\n",
    "\n",
    "optim = tf.compat.v1.train.GradientDescentOptimizer(learning_rate=lr)\n",
    "loss_fn = tf.keras.losses.SparseCategoricalCrossentropy(from_logits=True)"
   ]
  },
  {
   "cell_type": "code",
   "execution_count": 4,
   "metadata": {},
   "outputs": [],
   "source": [
    "download=False\n",
    "if download:\n",
    "    from chesslab.utils import download_7z\n",
    "    path='./'\n",
    "    file_id = '1MFHFz_rxNziYSeN-9ruwnRiYskd0_9ss'\n",
    "    download_7z(file_id,path)"
   ]
  },
  {
   "cell_type": "code",
   "execution_count": 5,
   "metadata": {},
   "outputs": [],
   "source": [
    "encoding_3={\n",
    "    '.':np.array([0,0,0,0,0,0,0,0,0,0,0,0],dtype=np.float32),\n",
    "    'p':np.array([1,0,0,0,0,0,0,0,0,0,0,0],dtype=np.float32),\n",
    "    'P':np.array([0,0,0,0,0,0,0,0,0,0,0,1],dtype=np.float32),\n",
    "    'b':np.array([0,1,0,0,0,0,0,0,0,0,0,0],dtype=np.float32),\n",
    "    'B':np.array([0,0,0,0,0,0,0,0,0,0,1,0],dtype=np.float32),\n",
    "    'n':np.array([0,0,1,0,0,0,0,0,0,0,0,0],dtype=np.float32),\n",
    "    'N':np.array([0,0,0,0,0,0,0,0,0,1,0,0],dtype=np.float32),\n",
    "    'r':np.array([0,0,0,1,0,0,0,0,0,0,0,0],dtype=np.float32),\n",
    "    'R':np.array([0,0,0,0,0,0,0,0,1,0,0,0],dtype=np.float32),\n",
    "    'q':np.array([0,0,0,0,1,0,0,0,0,0,0,0],dtype=np.float32),\n",
    "    'Q':np.array([0,0,0,0,0,0,0,1,0,0,0,0],dtype=np.float32),\n",
    "    'k':np.array([0,0,0,0,0,1,0,0,0,0,0,0],dtype=np.float32),\n",
    "    'K':np.array([0,0,0,0,0,0,1,0,0,0,0,0],dtype=np.float32)\n",
    "}\n"
   ]
  },
  {
   "cell_type": "code",
   "execution_count": 6,
   "metadata": {},
   "outputs": [],
   "source": [
    "class Model_3():\n",
    "\n",
    "    def __init__(self,\n",
    "                   n_classes=2):\n",
    "        initializer = tf.keras.initializers.GlorotNormal()\n",
    "        self.hw=[]\n",
    "        self.hb=[]\n",
    "\n",
    "        self.hw.append( tf.Variable(initializer(shape=(7,7,12,32),dtype=np.float32),name=\"hl1weigths\",dtype=\"float32\") )\n",
    "        self.hb.append( tf.Variable(np.zeros(32,dtype=np.float32),name=\"hl1bias\",dtype=\"float32\") )\n",
    "        #8x8x32\n",
    "        self.hw.append( tf.Variable(initializer(shape=(5,5,32,64),dtype=np.float32),name=\"hl2weigths\",dtype=\"float32\"))\n",
    "        self.hb.append( tf.Variable(np.zeros(64,dtype=np.float32),name=\"hl2bias\",dtype=\"float32\"))\n",
    "        #8x8x64\n",
    "        self.hw.append( tf.Variable(initializer(shape=(3,3,64,128),dtype=np.float32),name=\"hl3weigths\",dtype=\"float32\"))\n",
    "        self.hb.append( tf.Variable(np.zeros(128,dtype=np.float32),name=\"hl3bias\",dtype=\"float32\"))\n",
    "        #8x8x128\n",
    "        self.hw.append( tf.Variable(initializer(shape=(8*8*128,256),dtype=np.float32),name=\"hl4weigths\",dtype=\"float32\"))\n",
    "        self.hb.append( tf.Variable(np.zeros(256,dtype=np.float32),name=\"hl4bias\",dtype=\"float32\"))\n",
    "\n",
    "        self.hw.append( tf.Variable(initializer(shape=(256, n_classes),dtype=np.float32),name=\"outweigths\",dtype=\"float32\"))\n",
    "        self.hb.append( tf.Variable(np.zeros(n_classes,dtype=np.float32),name=\"outbias\",dtype=\"float32\"))\n",
    "\n",
    "        self.trainable_variables = []\n",
    "        for i in range(len(self.hw)):\n",
    "            self.trainable_variables.append(self.hw[i])    \n",
    "            self.trainable_variables.append(self.hb[i])\n",
    "\n",
    "    def __call__(self,x): \n",
    "\n",
    "        out = tf.cast(x, tf.float32)\n",
    "        out = tf.reshape(out, shape=[-1, 8, 8, 12])\n",
    "\n",
    "        layer=0\n",
    "        out = tf.nn.conv2d(out,self.hw[layer], strides=[1,1,1,1], padding='SAME')  \n",
    "        out = tf.add(out, self.hb[layer])\n",
    "        out = tf.nn.relu(out)\n",
    "              #8*8*32\n",
    "        layer+=1\n",
    "        out = tf.nn.conv2d(out,self.hw[layer], strides=[1,1,1,1], padding='SAME')  \n",
    "        out = tf.add(out, self.hb[layer])\n",
    "        out = tf.nn.relu(out)\n",
    "              #8*8*64\n",
    "        layer+=1  \n",
    "        out = tf.nn.conv2d(out,self.hw[layer], strides=[1,1,1,1], padding='SAME')  \n",
    "        out = tf.add(out, self.hb[layer])\n",
    "        out = tf.nn.elu(out)\n",
    "              #8*8*128\n",
    "        layer+=1\n",
    "        out =  tf.reshape(out,[-1, 8*8*128])\n",
    "        out =  tf.matmul(out,self.hw[layer])\n",
    "        out = tf.add(out, self.hb[layer])\n",
    "        out = tf.nn.relu(out)\n",
    "\n",
    "        layer+=1\n",
    "        out =  tf.matmul(out,self.hw[layer])\n",
    "        out = tf.add(out, self.hb[layer])\n",
    "\n",
    "        return out"
   ]
  },
  {
   "cell_type": "code",
   "execution_count": 7,
   "metadata": {},
   "outputs": [
    {
     "name": "stdout",
     "output_type": "stream",
     "text": [
      "(17164805, 64)\n",
      "(17164805,)\n"
     ]
    }
   ],
   "source": [
    "np.random.seed(0)\n",
    "tf.random.set_seed(0)\n",
    "\n",
    "x_data = load_pkl(path+name_data)\n",
    "y_data = load_pkl(path+name_labels)[:,1] #Nota: pasa de onehot a logits\n",
    "\n",
    "print(x_data.shape)\n",
    "print(y_data.shape)\n",
    "\n",
    "x_train, x_test, y_train, y_test = train_test_split(\n",
    "    x_data, y_data, test_size = test_percent, random_state = 0, shuffle = True)\n",
    "\n",
    "del x_data\n",
    "del y_data"
   ]
  },
  {
   "cell_type": "code",
   "execution_count": 8,
   "metadata": {},
   "outputs": [],
   "source": [
    "\n",
    "model = Model_3()\n",
    "encoding=encoding_3\n"
   ]
  },
  {
   "cell_type": "code",
   "execution_count": 9,
   "metadata": {
    "tags": []
   },
   "outputs": [
    {
     "name": "stdout",
     "output_type": "stream",
     "text": [
      "2021-10-29 10:56:17\n"
     ]
    },
    {
     "data": {
      "text/plain": [
       "Epoch: 01/20 | time: 740s = 12.3m | train loss: 0.4913 | train acc: 0.7512 | test loss: 0.4383 | test acc: 0.7872"
      ]
     },
     "metadata": {},
     "output_type": "display_data"
    },
    {
     "data": {
      "text/plain": [
       "Epoch: 02/20 | time: 731s = 12.2m | train loss: 0.4070 | train acc: 0.8054 | test loss: 0.3818 | test acc: 0.8200"
      ]
     },
     "metadata": {},
     "output_type": "display_data"
    },
    {
     "data": {
      "text/plain": [
       "Epoch: 03/20 | time: 767s = 12.8m | train loss: 0.3525 | train acc: 0.8362 | test loss: 0.3628 | test acc: 0.8351"
      ]
     },
     "metadata": {},
     "output_type": "display_data"
    },
    {
     "data": {
      "text/plain": [
       "Epoch: 04/20 | time: 735s = 12.2m | train loss: 0.3142 | train acc: 0.8568 | test loss: 0.5235 | test acc: 0.8014"
      ]
     },
     "metadata": {},
     "output_type": "display_data"
    },
    {
     "data": {
      "text/plain": [
       "Epoch: 05/20 | time: 702s = 11.7m | train loss: 0.2882 | train acc: 0.8703 | test loss: 0.3143 | test acc: 0.8619"
      ]
     },
     "metadata": {},
     "output_type": "display_data"
    },
    {
     "data": {
      "text/plain": [
       "Epoch: 06/20 | time: 684s = 11.4m | train loss: 0.2701 | train acc: 0.8795 | test loss: 0.3403 | test acc: 0.8567"
      ]
     },
     "metadata": {},
     "output_type": "display_data"
    },
    {
     "data": {
      "text/plain": [
       "Epoch: 07/20 | time: 624s = 10.4m | train loss: 0.2576 | train acc: 0.8858 | test loss: 0.5186 | test acc: 0.8089"
      ]
     },
     "metadata": {},
     "output_type": "display_data"
    },
    {
     "data": {
      "text/plain": [
       "Epoch: 08/20 | time: 613s = 10.2m | train loss: 0.2487 | train acc: 0.8903 | test loss: 0.2987 | test acc: 0.8722"
      ]
     },
     "metadata": {},
     "output_type": "display_data"
    },
    {
     "data": {
      "text/plain": [
       "Epoch: 09/20 | time: 614s = 10.2m | train loss: 0.2418 | train acc: 0.8937 | test loss: 0.2981 | test acc: 0.8738"
      ]
     },
     "metadata": {},
     "output_type": "display_data"
    },
    {
     "data": {
      "text/plain": [
       "Epoch: 10/20 | time: 614s = 10.2m | train loss: 0.2368 | train acc: 0.8963 | test loss: 0.2979 | test acc: 0.8768"
      ]
     },
     "metadata": {},
     "output_type": "display_data"
    },
    {
     "data": {
      "text/plain": [
       "Epoch: 11/20 | time: 625s = 10.4m | train loss: 0.2328 | train acc: 0.8983 | test loss: 0.4836 | test acc: 0.8335"
      ]
     },
     "metadata": {},
     "output_type": "display_data"
    },
    {
     "data": {
      "text/plain": [
       "Epoch: 12/20 | time: 622s = 10.4m | train loss: 0.2295 | train acc: 0.9000 | test loss: 0.3323 | test acc: 0.8683"
      ]
     },
     "metadata": {},
     "output_type": "display_data"
    },
    {
     "data": {
      "text/plain": [
       "Epoch: 13/20 | time: 613s = 10.2m | train loss: 0.2270 | train acc: 0.9012 | test loss: 0.3070 | test acc: 0.8760"
      ]
     },
     "metadata": {},
     "output_type": "display_data"
    },
    {
     "data": {
      "text/plain": [
       "Epoch: 14/20 | time: 614s = 10.2m | train loss: 0.2250 | train acc: 0.9023 | test loss: 0.2989 | test acc: 0.8784"
      ]
     },
     "metadata": {},
     "output_type": "display_data"
    },
    {
     "data": {
      "text/plain": [
       "Epoch: 15/20 | time: 619s = 10.3m | train loss: 0.2232 | train acc: 0.9033 | test loss: 0.3226 | test acc: 0.8700"
      ]
     },
     "metadata": {},
     "output_type": "display_data"
    },
    {
     "data": {
      "text/plain": [
       "Epoch: 16/20 | time: 613s = 10.2m | train loss: 0.2218 | train acc: 0.9041 | test loss: 0.3022 | test acc: 0.8799"
      ]
     },
     "metadata": {},
     "output_type": "display_data"
    },
    {
     "data": {
      "text/plain": [
       "Epoch: 17/20 | time: 621s = 10.4m | train loss: 0.2204 | train acc: 0.9048 | test loss: 0.2987 | test acc: 0.8811"
      ]
     },
     "metadata": {},
     "output_type": "display_data"
    },
    {
     "data": {
      "text/plain": [
       "Epoch: 18/20 | time: 616s = 10.3m | train loss: 0.2193 | train acc: 0.9055 | test loss: 0.2981 | test acc: 0.8811"
      ]
     },
     "metadata": {},
     "output_type": "display_data"
    },
    {
     "data": {
      "text/plain": [
       "Epoch: 19/20 | time: 627s = 10.4m | train loss: 0.2184 | train acc: 0.9059 | test loss: 0.4602 | test acc: 0.8511"
      ]
     },
     "metadata": {},
     "output_type": "display_data"
    },
    {
     "data": {
      "text/plain": [
       "Epoch: 20/20 | time: 626s = 10.4m | train loss: 0.2175 | train acc: 0.9064 | test loss: 0.3102 | test acc: 0.8801"
      ]
     },
     "metadata": {},
     "output_type": "display_data"
    }
   ],
   "source": [
    "fitting(epochs=epochs,\n",
    "        x_train=x_train,\n",
    "        y_train=y_train,\n",
    "        x_test=x_test,\n",
    "        y_test=y_test,\n",
    "        model=model,\n",
    "        optimizer=optim,\n",
    "        batch_size=batch_size,\n",
    "        lr=lr,\n",
    "        loss_fn=loss_fn,\n",
    "        save_name=save_name,\n",
    "        encoding=encoding)"
   ]
  },
  {
   "cell_type": "code",
   "execution_count": 10,
   "metadata": {},
   "outputs": [
    {
     "name": "stdout",
     "output_type": "stream",
     "text": [
      "2021-10-29 14:33:19\n"
     ]
    },
    {
     "data": {
      "text/plain": [
       "Epoch: 21/30 | time: 626s = 10.4m | train loss: 0.2167 | train acc: 0.9068 | test loss: 0.3063 | test acc: 0.8794"
      ]
     },
     "metadata": {},
     "output_type": "display_data"
    },
    {
     "data": {
      "text/plain": [
       "Epoch: 22/30 | time: 629s = 10.5m | train loss: 0.2159 | train acc: 0.9072 | test loss: 0.3007 | test acc: 0.8810"
      ]
     },
     "metadata": {},
     "output_type": "display_data"
    },
    {
     "data": {
      "text/plain": [
       "Epoch: 23/30 | time: 621s = 10.4m | train loss: 0.2157 | train acc: 0.9075 | test loss: 0.3032 | test acc: 0.8815"
      ]
     },
     "metadata": {},
     "output_type": "display_data"
    },
    {
     "data": {
      "text/plain": [
       "Epoch: 24/30 | time: 625s = 10.4m | train loss: 0.2153 | train acc: 0.9078 | test loss: 0.6018 | test acc: 0.8282"
      ]
     },
     "metadata": {},
     "output_type": "display_data"
    },
    {
     "data": {
      "text/plain": [
       "Epoch: 25/30 | time: 619s = 10.3m | train loss: 0.2148 | train acc: 0.9081 | test loss: 0.2998 | test acc: 0.8840"
      ]
     },
     "metadata": {},
     "output_type": "display_data"
    },
    {
     "data": {
      "text/plain": [
       "Epoch: 26/30 | time: 627s = 10.5m | train loss: 0.2143 | train acc: 0.9083 | test loss: 0.3125 | test acc: 0.8795"
      ]
     },
     "metadata": {},
     "output_type": "display_data"
    },
    {
     "data": {
      "text/plain": [
       "Epoch: 27/30 | time: 625s = 10.4m | train loss: 0.2138 | train acc: 0.9086 | test loss: 0.3152 | test acc: 0.8790"
      ]
     },
     "metadata": {},
     "output_type": "display_data"
    },
    {
     "data": {
      "text/plain": [
       "Epoch: 28/30 | time: 618s = 10.3m | train loss: 0.2137 | train acc: 0.9087 | test loss: 0.3096 | test acc: 0.8790"
      ]
     },
     "metadata": {},
     "output_type": "display_data"
    },
    {
     "data": {
      "text/plain": [
       "Epoch: 29/30 | time: 621s = 10.4m | train loss: 0.2134 | train acc: 0.9089 | test loss: 0.3553 | test acc: 0.8753"
      ]
     },
     "metadata": {},
     "output_type": "display_data"
    },
    {
     "data": {
      "text/plain": [
       "Epoch: 30/30 | time: 624s = 10.4m | train loss: 0.2133 | train acc: 0.9091 | test loss: 0.3085 | test acc: 0.8814"
      ]
     },
     "metadata": {},
     "output_type": "display_data"
    }
   ],
   "source": [
    "fitting(epochs=10,\n",
    "        x_train=x_train,\n",
    "        y_train=y_train,\n",
    "        x_test=x_test,\n",
    "        y_test=y_test,\n",
    "        model= model, \n",
    "        load_name='tmp/tf_weights-relu-full.1.20.h5',\n",
    "        save_name=save_name,)"
   ]
  },
  {
   "cell_type": "code",
   "execution_count": null,
   "metadata": {},
   "outputs": [],
   "source": []
  }
 ],
 "metadata": {
  "kernelspec": {
   "display_name": "Python 3 (ipykernel)",
   "language": "python",
   "name": "python3"
  },
  "language_info": {
   "codemirror_mode": {
    "name": "ipython",
    "version": 3
   },
   "file_extension": ".py",
   "mimetype": "text/x-python",
   "name": "python",
   "nbconvert_exporter": "python",
   "pygments_lexer": "ipython3",
   "version": "3.9.6"
  }
 },
 "nbformat": 4,
 "nbformat_minor": 4
}
