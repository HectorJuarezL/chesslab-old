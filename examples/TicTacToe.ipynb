{
 "cells": [
  {
   "cell_type": "code",
   "execution_count": 1,
   "id": "f32b21a4-0c17-4fe4-8460-83f59c6e9df5",
   "metadata": {},
   "outputs": [],
   "source": [
    "class Board:\n",
    "    def __init__(self):\n",
    "        self.X,self.O = [True,False]\n",
    "        self.turn=self.X\n",
    "        self.symbol = {self.X:'X',self.O:'O'}\n",
    "        self.board = ['.' for i in range(9)]#['.','.','.','.','.','.','.','.','.']\n",
    "        self.win_table = [[0,1,2],[3,4,5],[6,7,8],[0,3,6],[1,4,7],[2,5,8],[0,4,8],[2,4,6]]\n",
    "        self.legal_moves = set(range(9))\n",
    "        self.winner = None\n",
    "    def check_winner(self,turn):\n",
    "        for (i,j,k) in self.win_table:\n",
    "            if self.symbol[turn] == self.board[i] == self.board[j] == self.board[k]:\n",
    "                return True\n",
    "        return False\n",
    "    \n",
    "    def push(self,move):\n",
    "        if move in self.legal_moves:\n",
    "            #print(board)\n",
    "            self.board[move]=self.symbol[self.turn]\n",
    "            #print(board)\n",
    "            if self.check_winner(self.turn):\n",
    "                self.legal_moves=set()\n",
    "                #print(\"Ha ganado el jugador: {}\".format(self.symbol[self.turn]))\n",
    "                if self.turn == self.X:\n",
    "                    self.winner = [1,0]\n",
    "                else:\n",
    "                    self.winner = [0,1]\n",
    "            else:\n",
    "                self.legal_moves.remove(move)\n",
    "                if len(self.legal_moves)==0:\n",
    "                    #print(\"Fin del juego, empate\")\n",
    "                    self.winner = [0,0]\n",
    "            self.turn = not self.turn\n",
    "    \n",
    "    def __str__(self):\n",
    "        cad=\"\"\n",
    "        for i in range(3):\n",
    "            cad+='{} {} {}\\n'.format(self.board[0+i*3],self.board[1+i*3],self.board[2+i*3])\n",
    "        return cad\n",
    "    \n",
    "    def __repr__(self):\n",
    "        return str(self)\n",
    "    \n",
    "    def copy(self):\n",
    "        tmp = Board()\n",
    "        tmp.board = self.board.copy()\n",
    "        tmp.legal_moves = self.legal_moves.copy()\n",
    "        tmp.turn = self.turn\n",
    "        if self.winner is not None:\n",
    "            tmp.winner = self.winner.copy()\n",
    "        return tmp\n",
    "        \n",
    "        \n",
    "        "
   ]
  },
  {
   "cell_type": "code",
   "execution_count": 2,
   "id": "d19ad853-5021-4aaf-9787-aa19ca25d293",
   "metadata": {},
   "outputs": [],
   "source": [
    "import numpy as np\n",
    "import time\n",
    "\n",
    "\n",
    "class MCTS_graph:\n",
    "    def __init__(self,agent):\n",
    "        self.root=agent.root\n",
    "        self.temperature = agent.temperature\n",
    "    def make_graph(self,depth=1000):\n",
    "        self.cont=0\n",
    "        self.nodes = {}\n",
    "        self.edges = []\n",
    "\n",
    "        self.bfs(self.root,0,depth)\n",
    "        print('Total nodes: {}'.format(self.cont))\n",
    "\n",
    "    def bfs(self,node,father,depth):\n",
    "        if depth==0: return\n",
    "        if len(node.children)>0:\n",
    "            total_rollouts = sum(child.num_rollouts for child in node.children)\n",
    "            log_rollouts = np.log(total_rollouts)\n",
    "            for n in node.children:\n",
    "                self.cont+=1\n",
    "                win_percentage = n.winning_frac(node.game_state.turn)\n",
    "                #exploration_factor = np.sqrt(log_rollouts / n.num_rollouts)\n",
    "                uct_score = win_percentage #+ self.temperature * exploration_factor\n",
    "                self.nodes[self.cont]=uct_score\n",
    "                self.edges.append([father,self.cont,n.move])\n",
    "                self.bfs(n,self.cont,depth-1)\n",
    "\n",
    "    def save_graph(self,path,depth=1000):\n",
    "        with open(path,'w') as file:\n",
    "            self.make_graph(depth)\n",
    "            cad=\"digraph{\\n  0 [label=\\\"root\\\"];\\n\"\n",
    "            for n,m in self.nodes.items():\n",
    "                cad+=\"  {} [label=\\\"{:.2f}\\\"];\\n\".format(n,m)\n",
    "            for (x,y,z) in self.edges:\n",
    "                cad+=\"  {} -- {} [label=\\\"{}\\\"];\\n\".format(x,y,z)\n",
    "            cad+=\"}\"\n",
    "            file.write(cad)\n",
    "            print(\"Grafo guardado en: {}\".format(path))\n",
    "\n",
    "\n",
    "\n",
    "class MCTSNode:\n",
    "    def __init__(self, game_state, parent = None, move = None, bot = None, isRoot = False,scale_factor=1):\n",
    "        self.game_state = game_state\n",
    "        self.parent = parent\n",
    "        self.move = move\n",
    "        self.win_counts = np.zeros([2,])\n",
    "        self.num_rollouts = 0\n",
    "        self.children = []\n",
    "        self.unvisited_moves = list(game_state.legal_moves)\n",
    "        self.scale_factor = scale_factor\n",
    "        self.isRoot=isRoot\n",
    "        self.bot=bot\n",
    "\n",
    "    def add_random_child(self,bot):\n",
    "        index = np.random.randint(len(self.unvisited_moves))\n",
    "        new_move = self.unvisited_moves.pop(index)#selecciona un movimiento disponible al azar y lo elimina de los movimientos no visitados\n",
    "        #new_value = self.unvisited_values.pop(index)\n",
    "\n",
    "        new_game_state = self.game_state.copy() #crea una copia del estado de juego\n",
    "        \n",
    "        new_game_state.push(new_move) #realiza el movimiento seleccionado\n",
    "        new_node = MCTSNode(game_state=new_game_state, parent=self, move=new_move,bot=bot,scale_factor=self.scale_factor) #crea un nuevo nodo\n",
    "        self.children.append(new_node) #añade el nodo a su lista de hijos\n",
    "        return new_node #retorna el nuevo nodo\n",
    "\n",
    "    def record_win(self, result):\n",
    "        self.win_counts += result\n",
    "        self.num_rollouts += 1\n",
    "        \n",
    "    def result_simulation(self):\n",
    "        if self.is_terminal():\n",
    "            return self.game_state.winner\n",
    "        return self.bot.random_simulation(self.game_state)\n",
    "\n",
    "    def can_add_child(self): #comprueba si aun hay nodos por visitar\n",
    "        return len(self.unvisited_moves) > 0\n",
    "\n",
    "    def is_terminal(self): #verifica si es un nodo terminal, es decir, el final de una partida\n",
    "        return len(self.game_state.legal_moves)==0\n",
    "\n",
    "    def winning_frac(self, player): #obtiene el valor Q/N para el nodo dado\n",
    "        if player: #turno de las blancas\n",
    "            return float(self.win_counts[0]) / float(self.num_rollouts)\n",
    "        else: #turno de las negras\n",
    "            return float(self.win_counts[1]) / float(self.num_rollouts)\n",
    "\n",
    "class agent_MCTS:\n",
    "    def __init__(self, temperature=2,bot=None,game_state=None,max_iter=100,verbose=0):\n",
    "        self.temperature = temperature\n",
    "        self.bot = bot\n",
    "        self.max_iter = max_iter\n",
    "        self.root = None\n",
    "        self.verbose = verbose\n",
    "        if game_state is not None:\n",
    "            self.root = MCTSNode(game_state.copy(),bot=self.bot,isRoot=True)\n",
    "\n",
    "    def select_move(self,board,max_iter=None,push=True):\n",
    "        moves,values=self.get_move_values(board,max_iter=max_iter)\n",
    "        if moves is None:\n",
    "            return None\n",
    "        index=np.argmax(values)\n",
    "        if push:\n",
    "            self.push_move(moves[index])\n",
    "        return moves[index]\n",
    "        \n",
    "    def push_move(self,move):\n",
    "        root=self.root\n",
    "        for child in root.children:\n",
    "            if child.move==move:\n",
    "                child.isRoot=True\n",
    "                self.root=child\n",
    "                self.root.num_rollouts-=1\n",
    "                self.root.parent=None\n",
    "                return\n",
    "        print(\"Error, movimiento no existente\")\n",
    "        return\n",
    "\n",
    "    def set_max_iter(self,max_iter=100):\n",
    "        self.max_iter=max_iter\n",
    "        \n",
    "    \n",
    "\n",
    "    def select_child(self, node):\n",
    "        \"\"\"\n",
    "            Selecciona un hijo usando la métrica UCT (Upper confidence bound for trees).\n",
    "        \"\"\"\n",
    "\n",
    "        #Calcula N(v)\n",
    "        total_rollouts = sum(child.num_rollouts for child in node.children)\n",
    "        log_rollouts = np.log(total_rollouts)\n",
    "\n",
    "        best_score = -1\n",
    "        best_child = None\n",
    "        #Calcula UTC(j)\n",
    "        for child in node.children:\n",
    "            #win_percentage = child.winning_frac(root.game_state.turn)\n",
    "            win_percentage = child.winning_frac(node.game_state.turn)\n",
    "            exploration_factor = np.sqrt(log_rollouts / child.num_rollouts)\n",
    "            uct_score = win_percentage + self.temperature * exploration_factor\n",
    "            if uct_score > best_score:\n",
    "                best_score = uct_score\n",
    "                best_child = child\n",
    "        return best_child\n",
    "\n",
    "    def get_move_values(self,game_state,max_iter=None):\n",
    "        \n",
    "        if max_iter is None:\n",
    "            max_iter=self.max_iter\n",
    "\n",
    "        if self.root is None or str(self.root.game_state)!=str(game_state):\n",
    "            #print('\\nEl estado de juego no corresponde con el de la raiz del arbol, se recreó la raiz')\n",
    "            self.root = MCTSNode(game_state.copy(),bot=self.bot,isRoot=True)\n",
    "        \n",
    "        if self.root.is_terminal():\n",
    "            return None,None\n",
    "\n",
    "        root=self.root\n",
    "        #print(\"\\n\")\n",
    "        i=0\n",
    "\n",
    "        tic = time.time()\n",
    "        while i<max_iter:\n",
    "            i+=1\n",
    "            node = root\n",
    "            #fase de seleccion, donde busca un nodo que no sea un nodo derminal\n",
    "            while (not node.can_add_child()) and (not node.is_terminal()):\n",
    "                node = self.select_child(node)\n",
    "\n",
    "            #fase de expansión, donde se agrega un nuevo nodo\n",
    "            if node.can_add_child():\n",
    "                node = node.add_random_child(self.bot)\n",
    "                \n",
    "            #fase de simulación. Con ayuda de la red neuronal, se obtiene el valor del nodo que predice como ganador\n",
    "            result = node.result_simulation()\n",
    "\n",
    "            #fase de retropropagación, donde se actualiza el valor de Q de los nodos padres hasta llegar al nodo raiz\n",
    "            while node is not None:\n",
    "                node.record_win(result)\n",
    "                node = node.parent\n",
    "        if self.verbose>0:\n",
    "            toc = time.time()-tic\n",
    "            print('MCTS - rollouts:{} Elapsed time: {:.2f}s = {:.2f}m'.format(root.num_rollouts,toc,toc/60))\n",
    "\n",
    "        \n",
    "        score = np.zeros(len(root.children),)\n",
    "        moves = []\n",
    "        total_rollouts = sum(child.num_rollouts for child in root.children)\n",
    "        if total_rollouts != root.num_rollouts:\n",
    "            print(\"total/root {}/{}\".format(total_rollouts,root.num_rollouts))\n",
    "        log_rollouts = np.log(total_rollouts)\n",
    "        for i,child in enumerate(root.children):\n",
    "            win_percentage=child.winning_frac(root.game_state.turn)\n",
    "            #exploration_factor = np.sqrt(log_rollouts / child.num_rollouts)\n",
    "            score[i] = win_percentage #+ self.temperature * exploration_factor\n",
    "            moves.append(child.move)\n",
    "        return moves,score\n",
    "\n"
   ]
  },
  {
   "cell_type": "code",
   "execution_count": 3,
   "id": "82a6a2b0-47d4-4d4c-aa27-7fb8177bbbc6",
   "metadata": {},
   "outputs": [],
   "source": [
    "class agent_ttt:\n",
    "    def select_move(self,board):\n",
    "        moves = list(board.legal_moves)\n",
    "        index = np.random.randint(len(moves))\n",
    "        return moves[index]\n",
    "    \n",
    "    def random_simulation(self,board):\n",
    "        b = board.copy()\n",
    "        while len(b.legal_moves)>0:\n",
    "            b.push(self.select_move(b))\n",
    "        return b.winner"
   ]
  },
  {
   "cell_type": "code",
   "execution_count": 4,
   "id": "8a64582c-5c7a-4564-8a1a-ae16855202c8",
   "metadata": {},
   "outputs": [
    {
     "data": {
      "text/plain": [
       ". . .\n",
       ". X .\n",
       ". . ."
      ]
     },
     "execution_count": 4,
     "metadata": {},
     "output_type": "execute_result"
    }
   ],
   "source": [
    "board = Board()\n",
    "agent = agent_ttt()\n",
    "mcts = agent_MCTS(bot=agent,max_iter=1000)\n",
    "move = mcts.select_move(board)\n",
    "board.push(move)\n",
    "board"
   ]
  },
  {
   "cell_type": "code",
   "execution_count": 5,
   "id": "82a5a07a-d6f8-4c0e-b8da-b975be16b753",
   "metadata": {},
   "outputs": [],
   "source": [
    "board = Board()\n",
    "board.push(2)\n",
    "board.push(6)\n",
    "board.push(3)\n",
    "board.push(1)"
   ]
  },
  {
   "cell_type": "code",
   "execution_count": 6,
   "id": "ccb22386-c062-4d22-9d55-5569a6d9f123",
   "metadata": {},
   "outputs": [
    {
     "data": {
      "text/plain": [
       ". O X\n",
       "X . .\n",
       "O . ."
      ]
     },
     "execution_count": 6,
     "metadata": {},
     "output_type": "execute_result"
    }
   ],
   "source": [
    "board"
   ]
  },
  {
   "cell_type": "code",
   "execution_count": 7,
   "id": "f6638ed3-2ed6-4869-88b9-ecd409390dd1",
   "metadata": {},
   "outputs": [],
   "source": [
    "from numpy.random import default_rng\n",
    "rng = default_rng()"
   ]
  },
  {
   "cell_type": "code",
   "execution_count": 8,
   "id": "ceff4ebf-13ba-4e66-80dc-9aa62d6813fd",
   "metadata": {},
   "outputs": [
    {
     "data": {
      "text/plain": [
       "0.9484904128977524"
      ]
     },
     "execution_count": 8,
     "metadata": {},
     "output_type": "execute_result"
    }
   ],
   "source": [
    "rng.random()"
   ]
  },
  {
   "cell_type": "code",
   "execution_count": 14,
   "id": "09e867b4-d14a-44b3-9393-d86c14d76da7",
   "metadata": {},
   "outputs": [
    {
     "name": "stdout",
     "output_type": "stream",
     "text": [
      "accuracy: 0.824\n"
     ]
    }
   ],
   "source": [
    "bm=5\n",
    "acc=0\n",
    "sims=1000\n",
    "for _ in range(sims):\n",
    "    board = Board()\n",
    "    agent = agent_ttt()\n",
    "    mcts = agent_MCTS(bot=agent,max_iter=100)\n",
    "    board.push(2)\n",
    "    board.push(6)\n",
    "    board.push(3)\n",
    "    board.push(1)\n",
    "    #print(board)\n",
    "    move = mcts.select_move(board)\n",
    "    if move==bm:\n",
    "        acc+=1\n",
    "    #board.push(move)\n",
    "    #print(board)\n",
    "acc/=sims\n",
    "print(\"accuracy: {:.3f}\".format(acc))"
   ]
  },
  {
   "cell_type": "code",
   "execution_count": 10,
   "id": "af897132-a038-4275-9716-254e8853fc57",
   "metadata": {},
   "outputs": [
    {
     "name": "stdout",
     "output_type": "stream",
     "text": [
      "accuracy: 1.000000\n"
     ]
    }
   ],
   "source": [
    "bm=5\n",
    "acc=0\n",
    "sims=1000\n",
    "for _ in range(sims):\n",
    "    board = Board()\n",
    "    agent = agent_ttt()\n",
    "    mcts = agent_MCTS(bot=agent,max_iter=1000)\n",
    "    board.push(2)\n",
    "    board.push(6)\n",
    "    board.push(3)\n",
    "    board.push(1)\n",
    "    #print(board)\n",
    "    move = mcts.select_move(board)\n",
    "    if move==bm:\n",
    "        acc+=1\n",
    "    #board.push(move)\n",
    "    #print(board)\n",
    "acc/=sims\n",
    "print(\"accuracy: {:.6f}\".format(acc))"
   ]
  },
  {
   "cell_type": "code",
   "execution_count": 13,
   "id": "fbf13bc3-a174-468b-9ac9-1db2d4c4f169",
   "metadata": {},
   "outputs": [
    {
     "name": "stdout",
     "output_type": "stream",
     "text": [
      "accuracy: 1.000000\n"
     ]
    }
   ],
   "source": [
    "bm=5\n",
    "acc=0\n",
    "sims=1000\n",
    "for _ in range(sims):\n",
    "    board = Board()\n",
    "    agent = agent_ttt()\n",
    "    mcts = agent_MCTS(bot=agent,max_iter=300)\n",
    "    board.push(2)\n",
    "    board.push(6)\n",
    "    board.push(3)\n",
    "    board.push(1)\n",
    "    #print(board)\n",
    "    move = mcts.select_move(board)\n",
    "    if move==bm:\n",
    "        acc+=1\n",
    "    #board.push(move)\n",
    "    #print(board)\n",
    "acc/=sims\n",
    "print(\"accuracy: {:.6f}\".format(acc))"
   ]
  },
  {
   "cell_type": "code",
   "execution_count": 11,
   "id": "50178811-bf31-46ef-8383-ea72d6fc3832",
   "metadata": {},
   "outputs": [
    {
     "ename": "KeyboardInterrupt",
     "evalue": "",
     "output_type": "error",
     "traceback": [
      "\u001b[1;31m---------------------------------------------------------------------------\u001b[0m",
      "\u001b[1;31mKeyboardInterrupt\u001b[0m                         Traceback (most recent call last)",
      "\u001b[1;32m~\\AppData\\Local\\Temp/ipykernel_15208/224820005.py\u001b[0m in \u001b[0;36m<module>\u001b[1;34m\u001b[0m\n\u001b[0;32m     11\u001b[0m     \u001b[0mboard\u001b[0m\u001b[1;33m.\u001b[0m\u001b[0mpush\u001b[0m\u001b[1;33m(\u001b[0m\u001b[1;36m1\u001b[0m\u001b[1;33m)\u001b[0m\u001b[1;33m\u001b[0m\u001b[1;33m\u001b[0m\u001b[0m\n\u001b[0;32m     12\u001b[0m     \u001b[1;31m#print(board)\u001b[0m\u001b[1;33m\u001b[0m\u001b[1;33m\u001b[0m\u001b[1;33m\u001b[0m\u001b[0m\n\u001b[1;32m---> 13\u001b[1;33m     \u001b[0mmove\u001b[0m \u001b[1;33m=\u001b[0m \u001b[0mmcts\u001b[0m\u001b[1;33m.\u001b[0m\u001b[0mselect_move\u001b[0m\u001b[1;33m(\u001b[0m\u001b[0mboard\u001b[0m\u001b[1;33m)\u001b[0m\u001b[1;33m\u001b[0m\u001b[1;33m\u001b[0m\u001b[0m\n\u001b[0m\u001b[0;32m     14\u001b[0m     \u001b[1;32mif\u001b[0m \u001b[0mmove\u001b[0m\u001b[1;33m==\u001b[0m\u001b[0mbm\u001b[0m\u001b[1;33m:\u001b[0m\u001b[1;33m\u001b[0m\u001b[1;33m\u001b[0m\u001b[0m\n\u001b[0;32m     15\u001b[0m         \u001b[0macc\u001b[0m\u001b[1;33m+=\u001b[0m\u001b[1;36m1\u001b[0m\u001b[1;33m\u001b[0m\u001b[1;33m\u001b[0m\u001b[0m\n",
      "\u001b[1;32m~\\AppData\\Local\\Temp/ipykernel_15208/1503849884.py\u001b[0m in \u001b[0;36mselect_move\u001b[1;34m(self, board, max_iter, push)\u001b[0m\n\u001b[0;32m    100\u001b[0m \u001b[1;33m\u001b[0m\u001b[0m\n\u001b[0;32m    101\u001b[0m     \u001b[1;32mdef\u001b[0m \u001b[0mselect_move\u001b[0m\u001b[1;33m(\u001b[0m\u001b[0mself\u001b[0m\u001b[1;33m,\u001b[0m\u001b[0mboard\u001b[0m\u001b[1;33m,\u001b[0m\u001b[0mmax_iter\u001b[0m\u001b[1;33m=\u001b[0m\u001b[1;32mNone\u001b[0m\u001b[1;33m,\u001b[0m\u001b[0mpush\u001b[0m\u001b[1;33m=\u001b[0m\u001b[1;32mTrue\u001b[0m\u001b[1;33m)\u001b[0m\u001b[1;33m:\u001b[0m\u001b[1;33m\u001b[0m\u001b[1;33m\u001b[0m\u001b[0m\n\u001b[1;32m--> 102\u001b[1;33m         \u001b[0mmoves\u001b[0m\u001b[1;33m,\u001b[0m\u001b[0mvalues\u001b[0m\u001b[1;33m=\u001b[0m\u001b[0mself\u001b[0m\u001b[1;33m.\u001b[0m\u001b[0mget_move_values\u001b[0m\u001b[1;33m(\u001b[0m\u001b[0mboard\u001b[0m\u001b[1;33m,\u001b[0m\u001b[0mmax_iter\u001b[0m\u001b[1;33m=\u001b[0m\u001b[0mmax_iter\u001b[0m\u001b[1;33m)\u001b[0m\u001b[1;33m\u001b[0m\u001b[1;33m\u001b[0m\u001b[0m\n\u001b[0m\u001b[0;32m    103\u001b[0m         \u001b[1;32mif\u001b[0m \u001b[0mmoves\u001b[0m \u001b[1;32mis\u001b[0m \u001b[1;32mNone\u001b[0m\u001b[1;33m:\u001b[0m\u001b[1;33m\u001b[0m\u001b[1;33m\u001b[0m\u001b[0m\n\u001b[0;32m    104\u001b[0m             \u001b[1;32mreturn\u001b[0m \u001b[1;32mNone\u001b[0m\u001b[1;33m\u001b[0m\u001b[1;33m\u001b[0m\u001b[0m\n",
      "\u001b[1;32m~\\AppData\\Local\\Temp/ipykernel_15208/1503849884.py\u001b[0m in \u001b[0;36mget_move_values\u001b[1;34m(self, game_state, max_iter)\u001b[0m\n\u001b[0;32m    180\u001b[0m             \u001b[1;31m#fase de retropropagación, donde se actualiza el valor de Q de los nodos padres hasta llegar al nodo raiz\u001b[0m\u001b[1;33m\u001b[0m\u001b[1;33m\u001b[0m\u001b[1;33m\u001b[0m\u001b[0m\n\u001b[0;32m    181\u001b[0m             \u001b[1;32mwhile\u001b[0m \u001b[0mnode\u001b[0m \u001b[1;32mis\u001b[0m \u001b[1;32mnot\u001b[0m \u001b[1;32mNone\u001b[0m\u001b[1;33m:\u001b[0m\u001b[1;33m\u001b[0m\u001b[1;33m\u001b[0m\u001b[0m\n\u001b[1;32m--> 182\u001b[1;33m                 \u001b[0mnode\u001b[0m\u001b[1;33m.\u001b[0m\u001b[0mrecord_win\u001b[0m\u001b[1;33m(\u001b[0m\u001b[0mresult\u001b[0m\u001b[1;33m)\u001b[0m\u001b[1;33m\u001b[0m\u001b[1;33m\u001b[0m\u001b[0m\n\u001b[0m\u001b[0;32m    183\u001b[0m                 \u001b[0mnode\u001b[0m \u001b[1;33m=\u001b[0m \u001b[0mnode\u001b[0m\u001b[1;33m.\u001b[0m\u001b[0mparent\u001b[0m\u001b[1;33m\u001b[0m\u001b[1;33m\u001b[0m\u001b[0m\n\u001b[0;32m    184\u001b[0m         \u001b[1;32mif\u001b[0m \u001b[0mself\u001b[0m\u001b[1;33m.\u001b[0m\u001b[0mverbose\u001b[0m\u001b[1;33m>\u001b[0m\u001b[1;36m0\u001b[0m\u001b[1;33m:\u001b[0m\u001b[1;33m\u001b[0m\u001b[1;33m\u001b[0m\u001b[0m\n",
      "\u001b[1;32m~\\AppData\\Local\\Temp/ipykernel_15208/1503849884.py\u001b[0m in \u001b[0;36mrecord_win\u001b[1;34m(self, result)\u001b[0m\n\u001b[0;32m     69\u001b[0m \u001b[1;33m\u001b[0m\u001b[0m\n\u001b[0;32m     70\u001b[0m     \u001b[1;32mdef\u001b[0m \u001b[0mrecord_win\u001b[0m\u001b[1;33m(\u001b[0m\u001b[0mself\u001b[0m\u001b[1;33m,\u001b[0m \u001b[0mresult\u001b[0m\u001b[1;33m)\u001b[0m\u001b[1;33m:\u001b[0m\u001b[1;33m\u001b[0m\u001b[1;33m\u001b[0m\u001b[0m\n\u001b[1;32m---> 71\u001b[1;33m         \u001b[0mself\u001b[0m\u001b[1;33m.\u001b[0m\u001b[0mwin_counts\u001b[0m \u001b[1;33m+=\u001b[0m \u001b[0mresult\u001b[0m\u001b[1;33m\u001b[0m\u001b[1;33m\u001b[0m\u001b[0m\n\u001b[0m\u001b[0;32m     72\u001b[0m         \u001b[0mself\u001b[0m\u001b[1;33m.\u001b[0m\u001b[0mnum_rollouts\u001b[0m \u001b[1;33m+=\u001b[0m \u001b[1;36m1\u001b[0m\u001b[1;33m\u001b[0m\u001b[1;33m\u001b[0m\u001b[0m\n\u001b[0;32m     73\u001b[0m \u001b[1;33m\u001b[0m\u001b[0m\n",
      "\u001b[1;31mKeyboardInterrupt\u001b[0m: "
     ]
    }
   ],
   "source": [
    "bm=5\n",
    "acc=0\n",
    "sims=1000\n",
    "for _ in range(sims):\n",
    "    board = Board()\n",
    "    agent = agent_ttt()\n",
    "    mcts = agent_MCTS(bot=agent,max_iter=1000)\n",
    "    board.push(2)\n",
    "    board.push(6)\n",
    "    board.push(3)\n",
    "    board.push(1)\n",
    "    #print(board)\n",
    "    move = mcts.select_move(board)\n",
    "    if move==bm:\n",
    "        acc+=1\n",
    "    #board.push(move)\n",
    "    #print(board)\n",
    "acc/=sims\n",
    "print(\"accuracy: {:.6f}\".format(acc))"
   ]
  },
  {
   "cell_type": "code",
   "execution_count": null,
   "id": "ba6e89d6-55b0-42eb-ae62-1b2a2ee0ac04",
   "metadata": {},
   "outputs": [],
   "source": [
    "bm=5\n",
    "acc=0\n",
    "sims=1000\n",
    "for _ in range(sims):\n",
    "    board = Board()\n",
    "    agent = agent_ttt()\n",
    "    mcts = agent_MCTS(bot=agent,max_iter=1000)\n",
    "    board.push(2)\n",
    "    board.push(6)\n",
    "    board.push(3)\n",
    "    board.push(1)\n",
    "    #print(board)\n",
    "    move = mcts.select_move(board)\n",
    "    if move==bm:\n",
    "        acc+=1\n",
    "    #board.push(move)\n",
    "    #print(board)\n",
    "acc/=sims\n",
    "print(\"accuracy: {:.6f}\".format(acc))"
   ]
  },
  {
   "cell_type": "code",
   "execution_count": null,
   "id": "833a6f6c-70aa-4943-8757-363fb65a0eca",
   "metadata": {},
   "outputs": [],
   "source": [
    "print(\"accuracy: {:.6f}\".format(acc))"
   ]
  },
  {
   "cell_type": "code",
   "execution_count": null,
   "id": "e201f26a-9236-4b29-a4e7-d0053b5f8378",
   "metadata": {},
   "outputs": [],
   "source": [
    "while len(board.legal_moves)>0:\n",
    "    move = mcts.select_move(board)\n",
    "    board.push(move)\n",
    "    print(board)"
   ]
  },
  {
   "cell_type": "code",
   "execution_count": null,
   "id": "bb5ee207-5dcc-4a04-84dd-13fce490e6dc",
   "metadata": {},
   "outputs": [],
   "source": [
    "stop"
   ]
  },
  {
   "cell_type": "code",
   "execution_count": null,
   "id": "b400166e-363a-4d99-a8f7-86a6c6ad0346",
   "metadata": {},
   "outputs": [],
   "source": []
  },
  {
   "cell_type": "code",
   "execution_count": null,
   "id": "8d6fe4d4-5830-4749-a563-5201339782ad",
   "metadata": {},
   "outputs": [],
   "source": [
    "agent.random_simulation(board)"
   ]
  },
  {
   "cell_type": "code",
   "execution_count": null,
   "id": "e3dd1b70-c0c1-4e59-a6dc-cab69e424ea2",
   "metadata": {},
   "outputs": [],
   "source": [
    "board = Board()\n",
    "board.push(0)\n",
    "board"
   ]
  },
  {
   "cell_type": "code",
   "execution_count": null,
   "id": "53f0ba37-7477-4b07-aeab-cc91b63b3488",
   "metadata": {},
   "outputs": [],
   "source": [
    "mcts = agent_MCTS(bot=agent,max_iter=10)"
   ]
  },
  {
   "cell_type": "code",
   "execution_count": null,
   "id": "555272d6-b61d-413e-bc03-631986dafbab",
   "metadata": {},
   "outputs": [],
   "source": [
    "move = mcts.select_move(board)\n",
    "board.push(move)\n",
    "board"
   ]
  },
  {
   "cell_type": "code",
   "execution_count": null,
   "id": "6584a295-e6e6-4d25-bffd-3c524ccd07e9",
   "metadata": {},
   "outputs": [],
   "source": [
    "mcts.root.children[1].num_rollouts"
   ]
  },
  {
   "cell_type": "code",
   "execution_count": null,
   "id": "dad3fbc5-5685-4024-b529-42207a7005cf",
   "metadata": {},
   "outputs": [],
   "source": [
    "mcts.get_move_values(board)"
   ]
  },
  {
   "cell_type": "code",
   "execution_count": null,
   "id": "74dc92e1-d3b9-429e-afdb-deb5ec0fa458",
   "metadata": {},
   "outputs": [],
   "source": [
    "from PIL import Image\n",
    "from IPython.display import display\n",
    "import networkx as nx\n",
    "import pydot\n",
    "from networkx.drawing.nx_pydot import graphviz_layout"
   ]
  },
  {
   "cell_type": "code",
   "execution_count": null,
   "id": "736eef93-1346-4499-9642-36014813e2c2",
   "metadata": {},
   "outputs": [],
   "source": [
    "G = MCTS_graph(mcts)\n",
    "G.save_graph(\"mcts_ttt.dot\")"
   ]
  },
  {
   "cell_type": "code",
   "execution_count": null,
   "id": "d7f3a0d6-d6ab-456e-9320-0d27ecf9f074",
   "metadata": {},
   "outputs": [],
   "source": [
    "g = nx.Graph(nx.drawing.nx_pydot.read_dot(\"mcts_ttt.dot\"))\n",
    "p=nx.drawing.nx_pydot.to_pydot(g)\n",
    "p.write_png('example.png')\n",
    "pil_im = Image.open('example.png', 'r')\n",
    "display(pil_im)"
   ]
  },
  {
   "cell_type": "code",
   "execution_count": null,
   "id": "67798105-1cd2-4626-87b6-f6e7f2c41680",
   "metadata": {},
   "outputs": [],
   "source": []
  }
 ],
 "metadata": {
  "kernelspec": {
   "display_name": "Python 3 (ipykernel)",
   "language": "python",
   "name": "python3"
  },
  "language_info": {
   "codemirror_mode": {
    "name": "ipython",
    "version": 3
   },
   "file_extension": ".py",
   "mimetype": "text/x-python",
   "name": "python",
   "nbconvert_exporter": "python",
   "pygments_lexer": "ipython3",
   "version": "3.9.6"
  }
 },
 "nbformat": 4,
 "nbformat_minor": 5
}
