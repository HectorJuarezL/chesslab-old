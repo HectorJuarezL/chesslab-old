{
 "cells": [
  {
   "cell_type": "code",
   "execution_count": 1,
   "metadata": {},
   "outputs": [],
   "source": [
    "from sklearn.model_selection import train_test_split\n",
    "from chesslab_.utils import load_pkl\n",
    "from chesslab_.training_torch import fitting\n",
    "import torch\n",
    "import torch.nn as nn\n",
    "import numpy as np"
   ]
  },
  {
   "cell_type": "code",
   "execution_count": 2,
   "metadata": {},
   "outputs": [],
   "source": [
    "example=1\n",
    "lr = 0.1\n",
    "epochs=1\n",
    "batch_size = 128\n",
    "test_percent=0.1\n",
    "path = 'D:/database/ccrl/'\n",
    "name_data='ccrl_states_elo2.pkl'\n",
    "name_labels='ccrl_results_elo2.pkl'\n",
    "save_name='./tmp/test_elo.0'\n",
    "num_workers=4\n",
    "loss_fn=nn.CrossEntropyLoss(reduction='mean')\n",
    "optim=torch.optim.SGD"
   ]
  },
  {
   "cell_type": "raw",
   "metadata": {},
   "source": [
    "download=False\n",
    "if download:\n",
    "    from chesslab.utils import download_7z\n",
    "    path='./'\n",
    "    file_id = '1MFHFz_rxNziYSeN-9ruwnRiYskd0_9ss'\n",
    "    download_7z(file_id,path)"
   ]
  },
  {
   "cell_type": "code",
   "execution_count": 3,
   "metadata": {},
   "outputs": [],
   "source": [
    "encoding_1={\n",
    "    '.':torch.tensor([0 , 0, 0], dtype=torch.float),\n",
    "    'p':torch.tensor([0 , 0, 1], dtype=torch.float),\n",
    "    'P':torch.tensor([0 , 0,-1], dtype=torch.float),\n",
    "    'b':torch.tensor([0 , 1, 0], dtype=torch.float),\n",
    "    'B':torch.tensor([0 ,-1, 0], dtype=torch.float),\n",
    "    'n':torch.tensor([1 , 0, 0], dtype=torch.float),\n",
    "    'N':torch.tensor([-1, 0, 0], dtype=torch.float),\n",
    "    'r':torch.tensor([0 , 1, 1], dtype=torch.float),\n",
    "    'R':torch.tensor([0 ,-1,-1], dtype=torch.float),\n",
    "    'q':torch.tensor([1 , 0, 1], dtype=torch.float),\n",
    "    'Q':torch.tensor([-1, 0,-1], dtype=torch.float),\n",
    "    'k':torch.tensor([1 , 1, 0], dtype=torch.float),\n",
    "    'K':torch.tensor([-1,-1, 0], dtype=torch.float)\n",
    "}\n",
    "\n",
    "encoding_2={\n",
    "    '.':torch.tensor([0,0,0,0],dtype=torch.float),\n",
    "    'p':torch.tensor([1,0,0,0],dtype=torch.float),\n",
    "    'P':torch.tensor([0,0,0,1],dtype=torch.float),\n",
    "    'b':torch.tensor([0,1,0,0],dtype=torch.float),\n",
    "    'B':torch.tensor([0,0,1,0],dtype=torch.float),\n",
    "    'n':torch.tensor([1,1,0,0],dtype=torch.float),\n",
    "    'N':torch.tensor([0,0,1,1],dtype=torch.float),\n",
    "    'r':torch.tensor([1,0,1,0],dtype=torch.float),\n",
    "    'R':torch.tensor([0,1,0,1],dtype=torch.float),\n",
    "    'q':torch.tensor([1,0,0,1],dtype=torch.float),\n",
    "    'Q':torch.tensor([0,1,1,0],dtype=torch.float),\n",
    "    'k':torch.tensor([1,1,1,0],dtype=torch.float),\n",
    "    'K':torch.tensor([0,1,1,1],dtype=torch.float)\n",
    "}"
   ]
  },
  {
   "cell_type": "code",
   "execution_count": 4,
   "metadata": {},
   "outputs": [],
   "source": [
    "class Model_1(nn.Module):\n",
    "\n",
    "    def __init__(self):\n",
    "        super().__init__()\n",
    "        self.func_1=nn.ELU()\n",
    "        self.func_2=nn.ELU()\n",
    "        self.func_3=nn.ELU()\n",
    "        self.func_4=nn.ELU()\n",
    "        \n",
    "        self.cnn_1 = nn.Conv2d(3, 32, kernel_size=7,padding=3)\n",
    "        self.cnn_2 = nn.Conv2d(32, 64, kernel_size=5,padding=2)\n",
    "        self.cnn_3 = nn.Conv2d(64, 128, kernel_size=3,padding=1)\n",
    "\n",
    "        self.linear_1 = nn.Linear(8*8*128,256 )\n",
    "        self.linear_2 = nn.Linear(256, 2)\n",
    "\n",
    "    def forward(self, x ):\n",
    "        out = self.cnn_1(x)\n",
    "        out = self.func_1(out)\n",
    "        out = self.cnn_2(out)\n",
    "        out = self.func_2(out)\n",
    "        out = self.cnn_3(out)\n",
    "        out = self.func_3(out)\n",
    "        out = out.reshape([x.size(0), -1])\n",
    "        out = self.linear_1(out)\n",
    "        out = self.func_4(out)\n",
    "        out = self.linear_2(out)\n",
    "\n",
    "        return out\n",
    "    \n",
    "class Model_2(nn.Module):\n",
    "\n",
    "    def __init__(self):\n",
    "        super().__init__()\n",
    "        self.func_1=nn.ReLU()\n",
    "        self.func_2=nn.ReLU()\n",
    "        self.func_3=nn.ReLU()\n",
    "        self.func_4=nn.ReLU()\n",
    "        \n",
    "        self.cnn_1 = nn.Conv2d(4, 32, kernel_size=7,padding=3)\n",
    "        self.cnn_2 = nn.Conv2d(32, 64, kernel_size=5,padding=2)\n",
    "        self.cnn_3 = nn.Conv2d(64, 128, kernel_size=3,padding=1)\n",
    "\n",
    "        self.linear_1 = nn.Linear(8*8*128,256 )\n",
    "        self.linear_2 = nn.Linear(256, 2)\n",
    "\n",
    "    def forward(self, x ):\n",
    "        out = self.cnn_1(x)\n",
    "        out = self.func_1(out)\n",
    "        out = self.cnn_2(out)\n",
    "        out = self.func_2(out)\n",
    "        out = self.cnn_3(out)\n",
    "        out = self.func_3(out)\n",
    "        out = out.reshape([x.size(0), -1])\n",
    "        out = self.linear_1(out)\n",
    "        out = self.func_4(out)\n",
    "        out = self.linear_2(out)\n",
    "\n",
    "        return out"
   ]
  },
  {
   "cell_type": "code",
   "execution_count": 5,
   "metadata": {},
   "outputs": [
    {
     "name": "stdout",
     "output_type": "stream",
     "text": [
      "(6291280, 64)\n",
      "(6291280,)\n"
     ]
    }
   ],
   "source": [
    "np.random.seed(0)\n",
    "torch.manual_seed(0)\n",
    "\n",
    "x_data = load_pkl(path+name_data)\n",
    "y_data = load_pkl(path+name_labels)[:,1] #Nota: las etiquetas deben de ser enteros, no onehot\n",
    "\n",
    "print(x_data.shape)\n",
    "print(y_data.shape)\n",
    "\n",
    "x_train, x_test, y_train, y_test = train_test_split(\n",
    "    x_data, y_data, test_size = test_percent, random_state = 0, shuffle = True)\n",
    "\n",
    "del x_data\n",
    "del y_data"
   ]
  },
  {
   "cell_type": "code",
   "execution_count": 6,
   "metadata": {},
   "outputs": [
    {
     "name": "stdout",
     "output_type": "stream",
     "text": [
      "cuda\n",
      "Model_1(\n",
      "  (func_1): ELU(alpha=1.0)\n",
      "  (func_2): ELU(alpha=1.0)\n",
      "  (func_3): ELU(alpha=1.0)\n",
      "  (func_4): ELU(alpha=1.0)\n",
      "  (cnn_1): Conv2d(3, 32, kernel_size=(7, 7), stride=(1, 1), padding=(3, 3))\n",
      "  (cnn_2): Conv2d(32, 64, kernel_size=(5, 5), stride=(1, 1), padding=(2, 2))\n",
      "  (cnn_3): Conv2d(64, 128, kernel_size=(3, 3), stride=(1, 1), padding=(1, 1))\n",
      "  (linear_1): Linear(in_features=8192, out_features=256, bias=True)\n",
      "  (linear_2): Linear(in_features=256, out_features=2, bias=True)\n",
      ")\n"
     ]
    }
   ],
   "source": [
    "device = torch.device(\"cuda\" if torch.cuda.is_available() else \"cpu\")\n",
    "if example==1:\n",
    "    model = Model_1().to(device)\n",
    "    encoding=encoding_1\n",
    "else:\n",
    "    model = Model_2().to(device)\n",
    "    encoding=encoding_2\n",
    "\n",
    "print(device)\n",
    "print(model)"
   ]
  },
  {
   "cell_type": "code",
   "execution_count": 7,
   "metadata": {},
   "outputs": [
    {
     "name": "stdout",
     "output_type": "stream",
     "text": [
      "2021-10-23 20:59:57\n",
      "Epoch: 01/01 | time: 275s = 4.6m | train loss: 0.5425 | train acc: 0.7100 | test loss: 0.5139 | test acc: 0.7324\n"
     ]
    }
   ],
   "source": [
    "fitting(epochs=epochs,\n",
    "        x_train=x_train,\n",
    "        y_train=y_train,\n",
    "        x_test=x_test,\n",
    "        y_test=y_test,\n",
    "        device=device,\n",
    "        model=model,\n",
    "        optim=optim,\n",
    "        batch_size=batch_size,\n",
    "        lr=lr,\n",
    "        loss_fn=loss_fn,\n",
    "        save_name=save_name,\n",
    "        encoding=encoding,\n",
    "        num_workers=num_workers)"
   ]
  },
  {
   "cell_type": "code",
   "execution_count": 8,
   "metadata": {},
   "outputs": [
    {
     "name": "stdout",
     "output_type": "stream",
     "text": [
      "2021-10-23 21:04:32\n",
      "Epoch: 02/02 | time: 273s = 4.6m | train loss: 0.4979 | train acc: 0.7430 | test loss: 0.4863 | test acc: 0.7532\n"
     ]
    }
   ],
   "source": [
    "fitting(epochs=epochs,\n",
    "      x_train=x_train,\n",
    "      y_train=y_train,\n",
    "      x_test=x_test,\n",
    "      y_test=y_test,\n",
    "      device=device,\n",
    "      model= model, \n",
    "      load_name='tmp/test_elo.0.1.pt',\n",
    "      save_name=save_name,\n",
    "      num_workers=num_workers)"
   ]
  },
  {
   "cell_type": "code",
   "execution_count": null,
   "metadata": {},
   "outputs": [],
   "source": []
  }
 ],
 "metadata": {
  "kernelspec": {
   "display_name": "Python 3 (ipykernel)",
   "language": "python",
   "name": "python3"
  },
  "language_info": {
   "codemirror_mode": {
    "name": "ipython",
    "version": 3
   },
   "file_extension": ".py",
   "mimetype": "text/x-python",
   "name": "python",
   "nbconvert_exporter": "python",
   "pygments_lexer": "ipython3",
   "version": "3.9.6"
  }
 },
 "nbformat": 4,
 "nbformat_minor": 4
}
