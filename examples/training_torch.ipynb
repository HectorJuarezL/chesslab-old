{
 "cells": [
  {
   "cell_type": "code",
   "execution_count": 1,
   "metadata": {},
   "outputs": [],
   "source": [
    "#!pip install chesslab"
   ]
  },
  {
   "cell_type": "code",
   "execution_count": 2,
   "metadata": {},
   "outputs": [],
   "source": [
    "from sklearn.model_selection import train_test_split\n",
    "from chesslab.utils import load_pkl\n",
    "from chesslab.training_torch import fitting\n",
    "import torch\n",
    "import torch.nn as nn\n",
    "import numpy as np"
   ]
  },
  {
   "cell_type": "code",
   "execution_count": 3,
   "metadata": {},
   "outputs": [],
   "source": [
    "example=1\n",
    "lr = 0.1\n",
    "epochs=29\n",
    "batch_size = 128\n",
    "test_percent=0.1\n",
    "path = 'D:/database/ccrl/'\n",
    "name_data='ccrl_states_elo2.pkl'\n",
    "name_labels='ccrl_results_elo2.pkl'\n",
    "save_name='./tmp/test_elo.0'\n",
    "num_workers=4\n",
    "loss_fn=nn.CrossEntropyLoss(reduction='mean')\n",
    "optim=torch.optim.SGD"
   ]
  },
  {
   "cell_type": "code",
   "execution_count": 4,
   "metadata": {},
   "outputs": [],
   "source": [
    "download=False\n",
    "if download:\n",
    "    from chesslab.utils import download_7z\n",
    "    path='./'\n",
    "    file_id = '1MFHFz_rxNziYSeN-9ruwnRiYskd0_9ss'\n",
    "    download_7z(file_id,path)"
   ]
  },
  {
   "cell_type": "code",
   "execution_count": 5,
   "metadata": {},
   "outputs": [],
   "source": [
    "encoding_1={\n",
    "    '.':torch.tensor([0 , 0, 0], dtype=torch.float),\n",
    "    'p':torch.tensor([0 , 0, 1], dtype=torch.float),\n",
    "    'P':torch.tensor([0 , 0,-1], dtype=torch.float),\n",
    "    'b':torch.tensor([0 , 1, 0], dtype=torch.float),\n",
    "    'B':torch.tensor([0 ,-1, 0], dtype=torch.float),\n",
    "    'n':torch.tensor([1 , 0, 0], dtype=torch.float),\n",
    "    'N':torch.tensor([-1, 0, 0], dtype=torch.float),\n",
    "    'r':torch.tensor([0 , 1, 1], dtype=torch.float),\n",
    "    'R':torch.tensor([0 ,-1,-1], dtype=torch.float),\n",
    "    'q':torch.tensor([1 , 0, 1], dtype=torch.float),\n",
    "    'Q':torch.tensor([-1, 0,-1], dtype=torch.float),\n",
    "    'k':torch.tensor([1 , 1, 0], dtype=torch.float),\n",
    "    'K':torch.tensor([-1,-1, 0], dtype=torch.float)\n",
    "}\n",
    "\n",
    "encoding_2={\n",
    "    '.':torch.tensor([0,0,0,0],dtype=torch.float),\n",
    "    'p':torch.tensor([1,0,0,0],dtype=torch.float),\n",
    "    'P':torch.tensor([0,0,0,1],dtype=torch.float),\n",
    "    'b':torch.tensor([0,1,0,0],dtype=torch.float),\n",
    "    'B':torch.tensor([0,0,1,0],dtype=torch.float),\n",
    "    'n':torch.tensor([1,1,0,0],dtype=torch.float),\n",
    "    'N':torch.tensor([0,0,1,1],dtype=torch.float),\n",
    "    'r':torch.tensor([1,0,1,0],dtype=torch.float),\n",
    "    'R':torch.tensor([0,1,0,1],dtype=torch.float),\n",
    "    'q':torch.tensor([1,0,0,1],dtype=torch.float),\n",
    "    'Q':torch.tensor([0,1,1,0],dtype=torch.float),\n",
    "    'k':torch.tensor([1,1,1,0],dtype=torch.float),\n",
    "    'K':torch.tensor([0,1,1,1],dtype=torch.float)\n",
    "}"
   ]
  },
  {
   "cell_type": "code",
   "execution_count": 6,
   "metadata": {},
   "outputs": [],
   "source": [
    "class Model_1(nn.Module):\n",
    "\n",
    "    def __init__(self):\n",
    "        super().__init__()\n",
    "        self.func_1=nn.ELU()\n",
    "        self.func_2=nn.ELU()\n",
    "        self.func_3=nn.ELU()\n",
    "        self.func_4=nn.ELU()\n",
    "        \n",
    "        self.cnn_1 = nn.Conv2d(3, 32, kernel_size=7,padding=3)\n",
    "        self.cnn_2 = nn.Conv2d(32, 64, kernel_size=5,padding=2)\n",
    "        self.cnn_3 = nn.Conv2d(64, 128, kernel_size=3,padding=1)\n",
    "\n",
    "        self.linear_1 = nn.Linear(8*8*128,256 )\n",
    "        self.linear_2 = nn.Linear(256, 2)\n",
    "\n",
    "    def forward(self, x ):\n",
    "        out = self.cnn_1(x)\n",
    "        out = self.func_1(out)\n",
    "        out = self.cnn_2(out)\n",
    "        out = self.func_2(out)\n",
    "        out = self.cnn_3(out)\n",
    "        out = self.func_3(out)\n",
    "        out = out.reshape([x.size(0), -1])\n",
    "        out = self.linear_1(out)\n",
    "        out = self.func_4(out)\n",
    "        out = self.linear_2(out)\n",
    "\n",
    "        return out\n",
    "    \n",
    "class Model_2(nn.Module):\n",
    "\n",
    "    def __init__(self):\n",
    "        super().__init__()\n",
    "        self.func_1=nn.ReLU()\n",
    "        self.func_2=nn.ReLU()\n",
    "        self.func_3=nn.ReLU()\n",
    "        self.func_4=nn.ReLU()\n",
    "        \n",
    "        self.cnn_1 = nn.Conv2d(4, 32, kernel_size=7,padding=3)\n",
    "        self.cnn_2 = nn.Conv2d(32, 64, kernel_size=5,padding=2)\n",
    "        self.cnn_3 = nn.Conv2d(64, 128, kernel_size=3,padding=1)\n",
    "\n",
    "        self.linear_1 = nn.Linear(8*8*128,256 )\n",
    "        self.linear_2 = nn.Linear(256, 2)\n",
    "\n",
    "    def forward(self, x ):\n",
    "        out = self.cnn_1(x)\n",
    "        out = self.func_1(out)\n",
    "        out = self.cnn_2(out)\n",
    "        out = self.func_2(out)\n",
    "        out = self.cnn_3(out)\n",
    "        out = self.func_3(out)\n",
    "        out = out.reshape([x.size(0), -1])\n",
    "        out = self.linear_1(out)\n",
    "        out = self.func_4(out)\n",
    "        out = self.linear_2(out)\n",
    "\n",
    "        return out"
   ]
  },
  {
   "cell_type": "code",
   "execution_count": 7,
   "metadata": {},
   "outputs": [
    {
     "name": "stdout",
     "output_type": "stream",
     "text": [
      "(1000000, 64)\n",
      "(1000000,)\n"
     ]
    }
   ],
   "source": [
    "np.random.seed(0)\n",
    "torch.manual_seed(0)\n",
    "\n",
    "x_data = load_pkl(path+name_data)[:1000000]\n",
    "y_data = load_pkl(path+name_labels)[:1000000,1] #Nota: las etiquetas deben de ser enteros, no onehot\n",
    "\n",
    "print(x_data.shape)\n",
    "print(y_data.shape)\n",
    "\n",
    "x_train, x_test, y_train, y_test = train_test_split(\n",
    "    x_data, y_data, test_size = test_percent, random_state = 0, shuffle = True)\n",
    "\n",
    "del x_data\n",
    "del y_data"
   ]
  },
  {
   "cell_type": "code",
   "execution_count": 8,
   "metadata": {},
   "outputs": [
    {
     "name": "stdout",
     "output_type": "stream",
     "text": [
      "cuda\n",
      "Model_1(\n",
      "  (func_1): ELU(alpha=1.0)\n",
      "  (func_2): ELU(alpha=1.0)\n",
      "  (func_3): ELU(alpha=1.0)\n",
      "  (func_4): ELU(alpha=1.0)\n",
      "  (cnn_1): Conv2d(3, 32, kernel_size=(7, 7), stride=(1, 1), padding=(3, 3))\n",
      "  (cnn_2): Conv2d(32, 64, kernel_size=(5, 5), stride=(1, 1), padding=(2, 2))\n",
      "  (cnn_3): Conv2d(64, 128, kernel_size=(3, 3), stride=(1, 1), padding=(1, 1))\n",
      "  (linear_1): Linear(in_features=8192, out_features=256, bias=True)\n",
      "  (linear_2): Linear(in_features=256, out_features=2, bias=True)\n",
      ")\n"
     ]
    }
   ],
   "source": [
    "device = torch.device(\"cuda\" if torch.cuda.is_available() else \"cpu\")\n",
    "if example==1:\n",
    "    model = Model_1().to(device)\n",
    "    encoding=encoding_1\n",
    "else:\n",
    "    model = Model_2().to(device)\n",
    "    encoding=encoding_2\n",
    "\n",
    "print(device)\n",
    "print(model)"
   ]
  },
  {
   "cell_type": "code",
   "execution_count": 9,
   "metadata": {},
   "outputs": [
    {
     "name": "stdout",
     "output_type": "stream",
     "text": [
      "2021-10-24 15:45:53\n"
     ]
    },
    {
     "data": {
      "text/plain": [
       "Epoch: 01/29 | time: 55s = 0.9m | train loss: 0.5693 | train acc: 0.6908 | test loss: 0.5783 | test acc: 0.6912"
      ]
     },
     "metadata": {},
     "output_type": "display_data"
    },
    {
     "data": {
      "text/plain": [
       "Epoch: 02/29 | time: 54s = 0.9m | train loss: 0.5276 | train acc: 0.7224 | test loss: 0.5221 | test acc: 0.7236"
      ]
     },
     "metadata": {},
     "output_type": "display_data"
    },
    {
     "data": {
      "text/plain": [
       "Epoch: 03/29 | time: 55s = 0.9m | train loss: 0.5128 | train acc: 0.7330 | test loss: 0.5190 | test acc: 0.7290"
      ]
     },
     "metadata": {},
     "output_type": "display_data"
    },
    {
     "data": {
      "text/plain": [
       "Epoch: 04/29 | time: 54s = 0.9m | train loss: 0.4993 | train acc: 0.7419 | test loss: 0.5052 | test acc: 0.7411"
      ]
     },
     "metadata": {},
     "output_type": "display_data"
    },
    {
     "data": {
      "text/plain": [
       "Epoch: 05/29 | time: 54s = 0.9m | train loss: 0.4849 | train acc: 0.7516 | test loss: 0.4940 | test acc: 0.7481"
      ]
     },
     "metadata": {},
     "output_type": "display_data"
    },
    {
     "data": {
      "text/plain": [
       "Epoch: 06/29 | time: 53s = 0.9m | train loss: 0.4700 | train acc: 0.7619 | test loss: 0.5076 | test acc: 0.7402"
      ]
     },
     "metadata": {},
     "output_type": "display_data"
    },
    {
     "data": {
      "text/plain": [
       "Epoch: 07/29 | time: 53s = 0.9m | train loss: 0.4524 | train acc: 0.7739 | test loss: 0.4610 | test acc: 0.7719"
      ]
     },
     "metadata": {},
     "output_type": "display_data"
    },
    {
     "data": {
      "text/plain": [
       "Epoch: 08/29 | time: 54s = 0.9m | train loss: 0.4298 | train acc: 0.7887 | test loss: 0.4372 | test acc: 0.7849"
      ]
     },
     "metadata": {},
     "output_type": "display_data"
    },
    {
     "data": {
      "text/plain": [
       "Epoch: 09/29 | time: 55s = 0.9m | train loss: 0.4010 | train acc: 0.8068 | test loss: 0.4177 | test acc: 0.8026"
      ]
     },
     "metadata": {},
     "output_type": "display_data"
    },
    {
     "data": {
      "text/plain": [
       "Epoch: 10/29 | time: 56s = 0.9m | train loss: 0.3663 | train acc: 0.8281 | test loss: 0.4200 | test acc: 0.8058"
      ]
     },
     "metadata": {},
     "output_type": "display_data"
    },
    {
     "data": {
      "text/plain": [
       "Epoch: 11/29 | time: 56s = 0.9m | train loss: 0.3274 | train acc: 0.8503 | test loss: 0.3618 | test acc: 0.8320"
      ]
     },
     "metadata": {},
     "output_type": "display_data"
    },
    {
     "data": {
      "text/plain": [
       "Epoch: 12/29 | time: 56s = 0.9m | train loss: 0.2875 | train acc: 0.8716 | test loss: 0.3792 | test acc: 0.8347"
      ]
     },
     "metadata": {},
     "output_type": "display_data"
    },
    {
     "data": {
      "text/plain": [
       "Epoch: 13/29 | time: 55s = 0.9m | train loss: 0.2503 | train acc: 0.8909 | test loss: 0.6504 | test acc: 0.7593"
      ]
     },
     "metadata": {},
     "output_type": "display_data"
    },
    {
     "data": {
      "text/plain": [
       "Epoch: 14/29 | time: 55s = 0.9m | train loss: 0.2168 | train acc: 0.9079 | test loss: 0.2998 | test acc: 0.8753"
      ]
     },
     "metadata": {},
     "output_type": "display_data"
    },
    {
     "data": {
      "text/plain": [
       "Epoch: 15/29 | time: 55s = 0.9m | train loss: 0.1875 | train acc: 0.9216 | test loss: 0.2687 | test acc: 0.8927"
      ]
     },
     "metadata": {},
     "output_type": "display_data"
    },
    {
     "data": {
      "text/plain": [
       "Epoch: 16/29 | time: 55s = 0.9m | train loss: 0.1615 | train acc: 0.9338 | test loss: 0.2847 | test acc: 0.8951"
      ]
     },
     "metadata": {},
     "output_type": "display_data"
    },
    {
     "data": {
      "text/plain": [
       "Epoch: 17/29 | time: 55s = 0.9m | train loss: 0.1400 | train acc: 0.9435 | test loss: 0.2906 | test acc: 0.8875"
      ]
     },
     "metadata": {},
     "output_type": "display_data"
    },
    {
     "data": {
      "text/plain": [
       "Epoch: 18/29 | time: 55s = 0.9m | train loss: 0.1212 | train acc: 0.9521 | test loss: 0.2520 | test acc: 0.9140"
      ]
     },
     "metadata": {},
     "output_type": "display_data"
    },
    {
     "data": {
      "text/plain": [
       "Epoch: 19/29 | time: 55s = 0.9m | train loss: 0.1048 | train acc: 0.9592 | test loss: 0.4749 | test acc: 0.8751"
      ]
     },
     "metadata": {},
     "output_type": "display_data"
    },
    {
     "data": {
      "text/plain": [
       "Epoch: 20/29 | time: 59s = 1.0m | train loss: 0.0937 | train acc: 0.9641 | test loss: 0.2707 | test acc: 0.9158"
      ]
     },
     "metadata": {},
     "output_type": "display_data"
    },
    {
     "data": {
      "text/plain": [
       "Epoch: 21/29 | time: 59s = 1.0m | train loss: 0.0812 | train acc: 0.9693 | test loss: 0.2378 | test acc: 0.9259"
      ]
     },
     "metadata": {},
     "output_type": "display_data"
    },
    {
     "data": {
      "text/plain": [
       "Epoch: 22/29 | time: 55s = 0.9m | train loss: 0.0719 | train acc: 0.9734 | test loss: 0.2378 | test acc: 0.9304"
      ]
     },
     "metadata": {},
     "output_type": "display_data"
    },
    {
     "data": {
      "text/plain": [
       "Epoch: 23/29 | time: 54s = 0.9m | train loss: 0.0640 | train acc: 0.9765 | test loss: 0.3341 | test acc: 0.9174"
      ]
     },
     "metadata": {},
     "output_type": "display_data"
    },
    {
     "data": {
      "text/plain": [
       "Epoch: 24/29 | time: 57s = 1.0m | train loss: 0.0578 | train acc: 0.9790 | test loss: 0.2312 | test acc: 0.9377"
      ]
     },
     "metadata": {},
     "output_type": "display_data"
    },
    {
     "data": {
      "text/plain": [
       "Epoch: 25/29 | time: 61s = 1.0m | train loss: 0.0535 | train acc: 0.9809 | test loss: 0.2194 | test acc: 0.9380"
      ]
     },
     "metadata": {},
     "output_type": "display_data"
    },
    {
     "data": {
      "text/plain": [
       "Epoch: 26/29 | time: 62s = 1.0m | train loss: 0.0492 | train acc: 0.9826 | test loss: 0.2409 | test acc: 0.9376"
      ]
     },
     "metadata": {},
     "output_type": "display_data"
    },
    {
     "data": {
      "text/plain": [
       "Epoch: 27/29 | time: 62s = 1.0m | train loss: 0.0451 | train acc: 0.9841 | test loss: 0.2421 | test acc: 0.9418"
      ]
     },
     "metadata": {},
     "output_type": "display_data"
    },
    {
     "data": {
      "text/plain": [
       "Epoch: 28/29 | time: 64s = 1.1m | train loss: 0.0419 | train acc: 0.9855 | test loss: 0.2677 | test acc: 0.9354"
      ]
     },
     "metadata": {},
     "output_type": "display_data"
    },
    {
     "data": {
      "text/plain": [
       "Epoch: 29/29 | time: 61s = 1.0m | train loss: 0.0401 | train acc: 0.9863 | test loss: 0.2800 | test acc: 0.9389"
      ]
     },
     "metadata": {},
     "output_type": "display_data"
    }
   ],
   "source": [
    "fitting(epochs=epochs,\n",
    "        x_train=x_train,\n",
    "        y_train=y_train,\n",
    "        x_test=x_test,\n",
    "        y_test=y_test,\n",
    "        device=device,\n",
    "        model=model,\n",
    "        optim=optim,\n",
    "        batch_size=batch_size,\n",
    "        lr=lr,\n",
    "        loss_fn=loss_fn,\n",
    "        save_name=save_name,\n",
    "        encoding=encoding,\n",
    "        num_workers=num_workers)"
   ]
  },
  {
   "cell_type": "code",
   "execution_count": 11,
   "metadata": {},
   "outputs": [
    {
     "name": "stdout",
     "output_type": "stream",
     "text": [
      "2021-10-24 16:27:08\n"
     ]
    },
    {
     "data": {
      "text/plain": [
       "Epoch: 30/30 | time: 60s = 1.0m | train loss: 0.0388 | train acc: 0.9868 | test loss: 0.2530 | test acc: 0.9413"
      ]
     },
     "metadata": {},
     "output_type": "display_data"
    }
   ],
   "source": [
    "fitting(epochs=1,\n",
    "      x_train=x_train,\n",
    "      y_train=y_train,\n",
    "      x_test=x_test,\n",
    "      y_test=y_test,\n",
    "      device=device,\n",
    "      model= model, \n",
    "      load_name='tmp/test_elo.0.29.pt',\n",
    "      save_name=save_name,\n",
    "      num_workers=num_workers)"
   ]
  },
  {
   "cell_type": "code",
   "execution_count": null,
   "metadata": {},
   "outputs": [],
   "source": []
  }
 ],
 "metadata": {
  "kernelspec": {
   "display_name": "Python 3 (ipykernel)",
   "language": "python",
   "name": "python3"
  },
  "language_info": {
   "codemirror_mode": {
    "name": "ipython",
    "version": 3
   },
   "file_extension": ".py",
   "mimetype": "text/x-python",
   "name": "python",
   "nbconvert_exporter": "python",
   "pygments_lexer": "ipython3",
   "version": "3.9.6"
  }
 },
 "nbformat": 4,
 "nbformat_minor": 4
}
