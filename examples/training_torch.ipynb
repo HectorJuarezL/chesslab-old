{
 "cells": [
  {
   "cell_type": "code",
   "execution_count": 1,
   "metadata": {},
   "outputs": [],
   "source": [
    "import numpy as np\n",
    "from chesslab import base\n",
    "from chesslab.base import default_parameters as params\n",
    "from chesslab.training import torch_architectures as ta\n",
    "from sklearn.model_selection import train_test_split\n",
    "import torch"
   ]
  },
  {
   "cell_type": "code",
   "execution_count": 2,
   "metadata": {},
   "outputs": [],
   "source": [
    "file_id = '1_23yu1qZtMe666cFMxk4bziHwU-s_P0w'\n",
    "destination = './ccrl_filtered.7z'\n",
    "base.download_file_from_google_drive(file_id, destination)\n",
    "import py7zr\n",
    "archive = py7zr.SevenZipFile('ccrl_filtered.7z', mode='r')\n",
    "archive.extractall(path=\"./tmp/\")\n",
    "archive.close()"
   ]
  },
  {
   "cell_type": "code",
   "execution_count": 8,
   "metadata": {},
   "outputs": [],
   "source": [
    "np.random.seed(0)\n",
    "\n",
    "batch_size = params.batch_size\n",
    "#path='../new_encode/'\n",
    "#path = 'D:/Database_encoded/ccrl/'\n",
    "#path='E:/Archivos/new_pgn/'\n",
    "path=\"./tmp/\"\n",
    "\n",
    "\n",
    "name=f'{path}ccrl_states.pkl'\n",
    "x_data = base.load_pkl(name)\n",
    "\n",
    "name=f'{path}ccrl_results.pkl'\n",
    "y_data = base.load_pkl(name)\n",
    "\n",
    "\n",
    "\n",
    "x_train, x_test, y_train, y_test = train_test_split(\n",
    "    x_data, y_data, test_size = params.test_size, random_state = 0, shuffle = False)\n",
    "\n",
    "del x_data\n",
    "del y_data\n",
    "\n",
    "\n",
    "train_loader=ta.DataLoader( x_data = x_train,y_data=y_train,batch_size=batch_size,shuffle=True)\n",
    "\n",
    "test_loader=ta.DataLoader( x_data = x_test,y_data=y_test,batch_size=batch_size,shuffle=False)\n",
    "\n",
    "\n",
    "device = torch.device(\"cuda\" if torch.cuda.is_available() else \"cpu\")\n",
    "save_name='noEat_0.2'"
   ]
  },
  {
   "cell_type": "code",
   "execution_count": 9,
   "metadata": {},
   "outputs": [
    {
     "name": "stdout",
     "output_type": "stream",
     "text": [
      "0.1\n"
     ]
    }
   ],
   "source": [
    "lr = ta.lr\n",
    "mo = ta.mo\n",
    "start=0\n",
    "epochs=2\n",
    "# Instantiate model\n",
    "print(lr)"
   ]
  },
  {
   "cell_type": "code",
   "execution_count": 10,
   "metadata": {},
   "outputs": [
    {
     "name": "stdout",
     "output_type": "stream",
     "text": [
      "Model_1(\n",
      "  (cnn_1): Conv2d(3, 64, kernel_size=(7, 7), stride=(1, 1), padding=(3, 3))\n",
      "  (func_1): ELU(alpha=1.0)\n",
      "  (cnn_2): Conv2d(64, 128, kernel_size=(5, 5), stride=(1, 1), padding=(2, 2))\n",
      "  (func_2): ELU(alpha=1.0)\n",
      "  (cnn_3): Conv2d(128, 256, kernel_size=(3, 3), stride=(1, 1), padding=(1, 1))\n",
      "  (func_3): ELU(alpha=1.0)\n",
      "  (cnn_4): Conv2d(256, 64, kernel_size=(1, 1), stride=(1, 1))\n",
      "  (func_4): ELU(alpha=1.0)\n",
      "  (cnn_5): Conv2d(64, 16, kernel_size=(1, 1), stride=(1, 1))\n",
      "  (func_5): ELU(alpha=1.0)\n",
      "  (cnn_6): Conv2d(16, 4, kernel_size=(1, 1), stride=(1, 1))\n",
      "  (func_6): ELU(alpha=1.0)\n",
      "  (linear_1): Linear(in_features=256, out_features=64, bias=True)\n",
      "  (func_7): ELU(alpha=1.0)\n",
      "  (linear_2): Linear(in_features=64, out_features=2, bias=True)\n",
      ")\n",
      "epoch 1\n",
      "2021-05-15 13:50:14\n",
      " train: 100.00/100 - loss:0.5512 - acc:0.7068           \n",
      " test: 100.00/100 - loss:0.6084 - acc:0.6893           \n",
      "Epoch: 001/2 | Time: 328s = 5.5m | Train loss: 0.5512 | Train acc: 0.7069 | Test loss: 0.6086 | Test acc: 0.6896\n",
      "\n",
      "--------------------------------------------------------------------------------\n",
      "epoch 2\n",
      "2021-05-15 13:55:43\n",
      " train: 100.00/100 - loss:0.5092 - acc:0.7374           \n",
      " test: 100.00/100 - loss:0.6692 - acc:0.6718           \n",
      "Epoch: 002/2 | Time: 328s = 5.5m | Train loss: 0.5093 | Train acc: 0.7374 | Test loss: 0.6694 | Test acc: 0.6721\n",
      "\n",
      "--------------------------------------------------------------------------------\n"
     ]
    }
   ],
   "source": [
    "model = ta.Model_1().to(device)\n",
    "loss_fn = ta.loss_fn\n",
    "optim = ta.optim\n",
    "\n",
    "encoding=ta.encoding_1\n",
    "\n",
    "print(model)\n",
    "ta.train(start=start,epochs=epochs,train_loader=train_loader,test_loader=test_loader,\n",
    "         device=device,model=model,optim=optim,lr=lr,mo=mo,\n",
    "         loss_fn=loss_fn,save_name=save_name,encoding=encoding)"
   ]
  },
  {
   "cell_type": "code",
   "execution_count": 11,
   "metadata": {},
   "outputs": [
    {
     "name": "stdout",
     "output_type": "stream",
     "text": [
      "epoch 4\n",
      "2021-05-15 14:01:10\n",
      " train: 100.00/100 - loss:0.5423 - acc:0.7141           \n",
      " test: 100.00/100 - loss:0.6731 - acc:0.6187           \n",
      "Epoch: 004/5 | Time: 328s = 5.5m | Train loss: 0.5424 | Train acc: 0.7141 | Test loss: 0.6734 | Test acc: 0.6189\n",
      "\n",
      "--------------------------------------------------------------------------------\n",
      "epoch 5\n",
      "2021-05-15 14:06:39\n",
      " train: 100.00/100 - loss:0.5110 - acc:0.7370           \n",
      " test: 100.00/100 - loss:0.5670 - acc:0.7072           \n",
      "Epoch: 005/5 | Time: 324s = 5.4m | Train loss: 0.5110 | Train acc: 0.7370 | Test loss: 0.5672 | Test acc: 0.7074\n",
      "\n",
      "--------------------------------------------------------------------------------\n"
     ]
    }
   ],
   "source": [
    "\n",
    "ta.train(epochs=2,train_loader=train_loader,test_loader=test_loader,\n",
    "         device=device,load_model='noEat_0.2.3.h5',\n",
    "         save_name=save_name)"
   ]
  },
  {
   "cell_type": "code",
   "execution_count": null,
   "metadata": {},
   "outputs": [],
   "source": []
  }
 ],
 "metadata": {
  "kernelspec": {
   "display_name": "Python 3",
   "language": "python",
   "name": "python3"
  },
  "language_info": {
   "codemirror_mode": {
    "name": "ipython",
    "version": 3
   },
   "file_extension": ".py",
   "mimetype": "text/x-python",
   "name": "python",
   "nbconvert_exporter": "python",
   "pygments_lexer": "ipython3",
   "version": "3.8.6"
  }
 },
 "nbformat": 4,
 "nbformat_minor": 4
}
