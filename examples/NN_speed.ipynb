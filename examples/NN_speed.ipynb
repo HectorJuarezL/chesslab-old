{
 "cells": [
  {
   "cell_type": "code",
   "execution_count": 1,
   "id": "aa230715-33c5-47e1-aa72-0b5c4b75b97c",
   "metadata": {},
   "outputs": [],
   "source": [
    "import numpy as np\n",
    "import tensorflow as tf\n",
    "import chess\n",
    "from chesslab.training_tf import load_model"
   ]
  },
  {
   "cell_type": "code",
   "execution_count": 2,
   "id": "3cea5d6e-de55-4079-8e5b-1d7d5cb2d87f",
   "metadata": {},
   "outputs": [],
   "source": [
    "def encode(board,encoding):\n",
    "    b=str(board).replace(' ','').split('\\n')\n",
    "    a=np.zeros([8,8,len(encoding['.'])])\n",
    "    for i,row in enumerate(b):\n",
    "        for j,val in enumerate(row):\n",
    "            a[i,j,:]=encoding[val]\n",
    "    return a"
   ]
  },
  {
   "cell_type": "code",
   "execution_count": 3,
   "id": "03c02486-52b6-4972-9f15-2fd90e3681c9",
   "metadata": {},
   "outputs": [],
   "source": [
    "class Model_2(tf.Module):\n",
    "\n",
    "    def __init__(self,\n",
    "                   n_classes=2):\n",
    "        initializer = tf.keras.initializers.GlorotNormal()\n",
    "        self.hw=[]\n",
    "        self.hb=[]\n",
    "\n",
    "        self.hw.append( tf.Variable(initializer(shape=(7,7,4,32),dtype=np.float32),name=\"hl1weigths\",dtype=\"float32\") )\n",
    "        self.hb.append( tf.Variable(np.zeros(32,dtype=np.float32),name=\"hl1bias\",dtype=\"float32\") )\n",
    "        #8x8x32\n",
    "        self.hw.append( tf.Variable(initializer(shape=(5,5,32,64),dtype=np.float32),name=\"hl2weigths\",dtype=\"float32\"))\n",
    "        self.hb.append( tf.Variable(np.zeros(64,dtype=np.float32),name=\"hl2bias\",dtype=\"float32\"))\n",
    "        #8x8x64\n",
    "        self.hw.append( tf.Variable(initializer(shape=(3,3,64,128),dtype=np.float32),name=\"hl3weigths\",dtype=\"float32\"))\n",
    "        self.hb.append( tf.Variable(np.zeros(128,dtype=np.float32),name=\"hl3bias\",dtype=\"float32\"))\n",
    "        #8x8x128\n",
    "        self.hw.append( tf.Variable(initializer(shape=(8*8*128,256),dtype=np.float32),name=\"hl4weigths\",dtype=\"float32\"))\n",
    "        self.hb.append( tf.Variable(np.zeros(256,dtype=np.float32),name=\"hl4bias\",dtype=\"float32\"))\n",
    "\n",
    "        self.hw.append( tf.Variable(initializer(shape=(256, n_classes),dtype=np.float32),name=\"outweigths\",dtype=\"float32\"))\n",
    "        self.hb.append( tf.Variable(np.zeros(n_classes,dtype=np.float32),name=\"outbias\",dtype=\"float32\"))\n",
    "\n",
    "        #self.trainable_variables = []\n",
    "        #for i in range(len(self.hw)):\n",
    "        #    self.trainable_variables.append(self.hw[i])    \n",
    "        #    self.trainable_variables.append(self.hb[i])\n",
    "\n",
    "    @tf.function(input_signature=[tf.TensorSpec(shape=None, dtype=tf.float32)])\n",
    "    def __call__(self,x): \n",
    "        out = tf.cast(x, tf.float32)\n",
    "        out = tf.reshape(out, shape=[-1, 8, 8, 4])\n",
    "        out = tf.nn.conv2d(out,self.hw[0], strides=[1,1,1,1], padding='SAME')  \n",
    "        out = tf.add(out, self.hb[0])\n",
    "        out = tf.nn.relu(out)\n",
    "        out = tf.nn.conv2d(out,self.hw[1], strides=[1,1,1,1], padding='SAME')  \n",
    "        out = tf.add(out, self.hb[1])\n",
    "        out = tf.nn.relu(out)\n",
    "        out = tf.nn.conv2d(out,self.hw[2], strides=[1,1,1,1], padding='SAME')  \n",
    "        out = tf.add(out, self.hb[2])\n",
    "        out = tf.nn.elu(out)\n",
    "        out =  tf.reshape(out,[-1, 8*8*128])\n",
    "        out =  tf.matmul(out,self.hw[3])\n",
    "        out = tf.add(out, self.hb[3])\n",
    "        out = tf.nn.relu(out)\n",
    "        out =  tf.matmul(out,self.hw[4])\n",
    "        out = tf.add(out, self.hb[4])\n",
    "        return out\n",
    "model = Model_2()"
   ]
  },
  {
   "cell_type": "code",
   "execution_count": 4,
   "id": "78fa2d7c-48d1-42c6-bfe5-97b3cd2378dc",
   "metadata": {},
   "outputs": [],
   "source": [
    "path_model = './tmp/tf_weights-relu.0.1.h5'\n",
    "encoding,history=load_model(model,path_model)"
   ]
  },
  {
   "cell_type": "code",
   "execution_count": 5,
   "id": "36cca179-55d5-4d8d-a14e-82fa616ef7a6",
   "metadata": {},
   "outputs": [
    {
     "name": "stdout",
     "output_type": "stream",
     "text": [
      "(8, 8, 4)\n",
      "(20, 8, 8, 4)\n"
     ]
    }
   ],
   "source": [
    "board = chess.Board()\n",
    "code = encode(board,encoding)\n",
    "code2 = np.tile(code,(20,1,1,1))\n",
    "code3 = np.tile(code,(35,1,1,1))\n",
    "code4 = np.tile(code,(100,1,1,1))\n",
    "code5 = np.tile(code,(400,1,1,1))\n",
    "code6 = np.tile(code,(1000,1,1,1))\n",
    "code7 = np.tile(code,(1225,1,1,1))\n",
    "code8 = np.tile(code,(8000,1,1,1))\n",
    "code9 = np.tile(code,(10000,1,1,1))\n",
    "code10 = np.tile(code,(20000,1,1,1))\n",
    "print(code.shape)\n",
    "print(code2.shape)"
   ]
  },
  {
   "cell_type": "code",
   "execution_count": 6,
   "id": "8384c5a3-8657-4f09-bb1c-3d78082db3ec",
   "metadata": {
    "tags": []
   },
   "outputs": [
    {
     "data": {
      "text/plain": [
       "<tf.Tensor: shape=(35, 2), dtype=float32, numpy=\n",
       "array([[ 0.6736216 , -0.96570086],\n",
       "       [ 0.6736216 , -0.96570086],\n",
       "       [ 0.6736216 , -0.96570086],\n",
       "       [ 0.6736216 , -0.96570086],\n",
       "       [ 0.6736216 , -0.96570086],\n",
       "       [ 0.6736216 , -0.96570086],\n",
       "       [ 0.6736216 , -0.96570086],\n",
       "       [ 0.6736216 , -0.96570086],\n",
       "       [ 0.6736216 , -0.96570086],\n",
       "       [ 0.6736216 , -0.96570086],\n",
       "       [ 0.6736216 , -0.96570086],\n",
       "       [ 0.6736216 , -0.96570086],\n",
       "       [ 0.6736216 , -0.96570086],\n",
       "       [ 0.6736216 , -0.96570086],\n",
       "       [ 0.6736216 , -0.96570086],\n",
       "       [ 0.6736216 , -0.96570086],\n",
       "       [ 0.6736216 , -0.96570086],\n",
       "       [ 0.6736216 , -0.96570086],\n",
       "       [ 0.6736216 , -0.96570086],\n",
       "       [ 0.6736216 , -0.96570086],\n",
       "       [ 0.6736216 , -0.96570086],\n",
       "       [ 0.6736216 , -0.96570086],\n",
       "       [ 0.6736216 , -0.96570086],\n",
       "       [ 0.6736216 , -0.96570086],\n",
       "       [ 0.6736216 , -0.96570086],\n",
       "       [ 0.6736216 , -0.96570086],\n",
       "       [ 0.6736216 , -0.96570086],\n",
       "       [ 0.6736216 , -0.96570086],\n",
       "       [ 0.6736216 , -0.96570086],\n",
       "       [ 0.6736216 , -0.96570086],\n",
       "       [ 0.6736216 , -0.96570086],\n",
       "       [ 0.6736216 , -0.96570086],\n",
       "       [ 0.6736216 , -0.96570086],\n",
       "       [ 0.6736216 , -0.96570086],\n",
       "       [ 0.6736216 , -0.96570086]], dtype=float32)>"
      ]
     },
     "execution_count": 6,
     "metadata": {},
     "output_type": "execute_result"
    }
   ],
   "source": [
    "model(code3)"
   ]
  },
  {
   "cell_type": "code",
   "execution_count": 7,
   "id": "04c26791-0689-4772-84d8-7e9c9cfe62cb",
   "metadata": {},
   "outputs": [
    {
     "name": "stdout",
     "output_type": "stream",
     "text": [
      "INFO:tensorflow:Assets written to: ./tmp/saved_model/assets\n"
     ]
    }
   ],
   "source": [
    "save_model_path = './tmp/saved_model/'\n",
    "call_output = model.__call__.get_concrete_function(tf.TensorSpec(None, tf.float32))\n",
    "tf.saved_model.save(model,save_model_path,signatures={'serving_default': call_output})"
   ]
  },
  {
   "cell_type": "code",
   "execution_count": 8,
   "id": "be386d5d-d635-405e-b694-c19a73129dbd",
   "metadata": {},
   "outputs": [],
   "source": [
    "imported = tf.saved_model.load(save_model_path)"
   ]
  },
  {
   "cell_type": "code",
   "execution_count": 9,
   "id": "09cb2e1a-6b59-48de-a580-1267edcfdd5d",
   "metadata": {
    "tags": []
   },
   "outputs": [
    {
     "data": {
      "text/plain": [
       "<tf.Tensor: shape=(1, 2), dtype=float32, numpy=array([[ 0.6736219, -0.9657006]], dtype=float32)>"
      ]
     },
     "execution_count": 9,
     "metadata": {},
     "output_type": "execute_result"
    }
   ],
   "source": [
    "imported(code)"
   ]
  },
  {
   "cell_type": "code",
   "execution_count": 10,
   "id": "b4c3b2c7-bef0-406f-9ade-5b2898fcaaec",
   "metadata": {},
   "outputs": [
    {
     "data": {
      "text/plain": [
       "<tf.Tensor: shape=(20, 2), dtype=float32, numpy=\n",
       "array([[ 0.67362154, -0.96570086],\n",
       "       [ 0.67362154, -0.96570086],\n",
       "       [ 0.67362154, -0.96570086],\n",
       "       [ 0.67362154, -0.96570086],\n",
       "       [ 0.67362154, -0.96570086],\n",
       "       [ 0.67362154, -0.96570086],\n",
       "       [ 0.67362154, -0.96570086],\n",
       "       [ 0.67362154, -0.96570086],\n",
       "       [ 0.67362154, -0.96570086],\n",
       "       [ 0.67362154, -0.96570086],\n",
       "       [ 0.67362154, -0.96570086],\n",
       "       [ 0.67362154, -0.96570086],\n",
       "       [ 0.67362154, -0.96570086],\n",
       "       [ 0.67362154, -0.96570086],\n",
       "       [ 0.67362154, -0.96570086],\n",
       "       [ 0.67362154, -0.96570086],\n",
       "       [ 0.67362154, -0.96570086],\n",
       "       [ 0.67362154, -0.96570086],\n",
       "       [ 0.67362154, -0.96570086],\n",
       "       [ 0.67362154, -0.96570086]], dtype=float32)>"
      ]
     },
     "execution_count": 10,
     "metadata": {},
     "output_type": "execute_result"
    }
   ],
   "source": [
    "imported(code2)"
   ]
  },
  {
   "cell_type": "code",
   "execution_count": 11,
   "id": "5f85f635-bf4d-4330-9e44-be258a6f9cfc",
   "metadata": {},
   "outputs": [
    {
     "data": {
      "text/plain": [
       "{'.': array([0., 0., 0., 0.], dtype=float32),\n",
       " 'p': array([1., 0., 0., 0.], dtype=float32),\n",
       " 'P': array([0., 0., 0., 1.], dtype=float32),\n",
       " 'b': array([0., 1., 0., 0.], dtype=float32),\n",
       " 'B': array([0., 0., 1., 0.], dtype=float32),\n",
       " 'n': array([1., 1., 0., 0.], dtype=float32),\n",
       " 'N': array([0., 0., 1., 1.], dtype=float32),\n",
       " 'r': array([1., 0., 1., 0.], dtype=float32),\n",
       " 'R': array([0., 1., 0., 1.], dtype=float32),\n",
       " 'q': array([1., 0., 0., 1.], dtype=float32),\n",
       " 'Q': array([0., 1., 1., 0.], dtype=float32),\n",
       " 'k': array([1., 1., 1., 0.], dtype=float32),\n",
       " 'K': array([0., 1., 1., 1.], dtype=float32)}"
      ]
     },
     "execution_count": 11,
     "metadata": {},
     "output_type": "execute_result"
    }
   ],
   "source": [
    "encoding"
   ]
  },
  {
   "cell_type": "raw",
   "id": "340935aa-805d-4e05-b679-5f8c624f79ad",
   "metadata": {},
   "source": [
    "board = chess.Board()\n",
    "board"
   ]
  },
  {
   "cell_type": "raw",
   "id": "41df66db-ec7e-4d16-8e33-a8500d7a39f9",
   "metadata": {},
   "source": [
    "a = list(board.legal_moves)\n",
    "b=[]\n",
    "b.extend(a)\n",
    "b"
   ]
  },
  {
   "cell_type": "raw",
   "id": "168b678d-924d-4be4-989d-428f2caf7a13",
   "metadata": {},
   "source": [
    "a=[]\n",
    "b"
   ]
  },
  {
   "cell_type": "code",
   "execution_count": 41,
   "id": "8a6be52a-acfd-4a38-9dc2-964b484735bc",
   "metadata": {},
   "outputs": [
    {
     "data": {
      "text/plain": [
       "(55, 8, 8, 3)"
      ]
     },
     "execution_count": 41,
     "metadata": {},
     "output_type": "execute_result"
    }
   ],
   "source": [
    "np.concatenate((code2,code3)).shape"
   ]
  },
  {
   "cell_type": "code",
   "execution_count": 28,
   "id": "795b3327-226e-4582-9b63-9ea9e26656e5",
   "metadata": {},
   "outputs": [],
   "source": [
    "cuda = False\n",
    "physical_devices = tf.config.list_physical_devices('GPU')\n",
    "device = \"/device:GPU:0\" if cuda and len(physical_devices)>0 else \"/cpu:0\""
   ]
  },
  {
   "cell_type": "code",
   "execution_count": 29,
   "id": "fd883485-8a97-4364-ba47-51460c2c5f49",
   "metadata": {},
   "outputs": [
    {
     "name": "stdout",
     "output_type": "stream",
     "text": [
      "5.6 ms ± 221 µs per loop (mean ± std. dev. of 7 runs, 100 loops each)\n"
     ]
    }
   ],
   "source": [
    "%%timeit\n",
    "with tf.device(device):\n",
    "    model(code)"
   ]
  },
  {
   "cell_type": "code",
   "execution_count": 30,
   "id": "b7a3a421-37b8-4c9b-8cba-4f83c5f2d7f8",
   "metadata": {},
   "outputs": [
    {
     "name": "stdout",
     "output_type": "stream",
     "text": [
      "7.88 ms ± 212 µs per loop (mean ± std. dev. of 7 runs, 100 loops each)\n"
     ]
    }
   ],
   "source": [
    "%%timeit\n",
    "with tf.device(device):\n",
    "    model(code2)"
   ]
  },
  {
   "cell_type": "code",
   "execution_count": 31,
   "id": "3239b8df-f5f0-416a-82e3-cda2402f88c8",
   "metadata": {},
   "outputs": [
    {
     "name": "stdout",
     "output_type": "stream",
     "text": [
      "9.44 ms ± 323 µs per loop (mean ± std. dev. of 7 runs, 100 loops each)\n"
     ]
    }
   ],
   "source": [
    "%%timeit\n",
    "with tf.device(device):\n",
    "    model(code3)"
   ]
  },
  {
   "cell_type": "code",
   "execution_count": 32,
   "id": "6bf9a689-e236-4ce1-a175-9cb8e48d6427",
   "metadata": {},
   "outputs": [
    {
     "name": "stdout",
     "output_type": "stream",
     "text": [
      "14.7 ms ± 345 µs per loop (mean ± std. dev. of 7 runs, 100 loops each)\n"
     ]
    }
   ],
   "source": [
    "%%timeit\n",
    "with tf.device(device):\n",
    "    model(code4)"
   ]
  },
  {
   "cell_type": "code",
   "execution_count": 33,
   "id": "9ee02930-6e5b-47d7-a8ae-e8ced4b604d8",
   "metadata": {},
   "outputs": [
    {
     "name": "stdout",
     "output_type": "stream",
     "text": [
      "43.2 ms ± 2.12 ms per loop (mean ± std. dev. of 7 runs, 10 loops each)\n"
     ]
    }
   ],
   "source": [
    "%%timeit\n",
    "with tf.device(device):\n",
    "    model(code5)"
   ]
  },
  {
   "cell_type": "code",
   "execution_count": 34,
   "id": "cda7302d-f0a0-4123-94b3-55757aec44da",
   "metadata": {},
   "outputs": [
    {
     "name": "stdout",
     "output_type": "stream",
     "text": [
      "97.3 ms ± 1.95 ms per loop (mean ± std. dev. of 7 runs, 10 loops each)\n"
     ]
    }
   ],
   "source": [
    "%%timeit\n",
    "with tf.device(device):\n",
    "    model(code6)"
   ]
  },
  {
   "cell_type": "code",
   "execution_count": 35,
   "id": "30107e49-91b2-4e70-8fbe-36499dfdf311",
   "metadata": {},
   "outputs": [
    {
     "name": "stdout",
     "output_type": "stream",
     "text": [
      "122 ms ± 4 ms per loop (mean ± std. dev. of 7 runs, 10 loops each)\n"
     ]
    }
   ],
   "source": [
    "%%timeit\n",
    "with tf.device(device):\n",
    "    model(code7)"
   ]
  },
  {
   "cell_type": "code",
   "execution_count": 36,
   "id": "9b3dc4c6-1408-433d-ab46-66304b77b43e",
   "metadata": {},
   "outputs": [
    {
     "name": "stdout",
     "output_type": "stream",
     "text": [
      "753 ms ± 8.28 ms per loop (mean ± std. dev. of 7 runs, 1 loop each)\n"
     ]
    }
   ],
   "source": [
    "%%timeit\n",
    "with tf.device(device):\n",
    "    model(code8)"
   ]
  },
  {
   "cell_type": "code",
   "execution_count": 37,
   "id": "3c9ee755-44be-4144-9e71-9fa1acdb9cde",
   "metadata": {},
   "outputs": [
    {
     "name": "stdout",
     "output_type": "stream",
     "text": [
      "945 ms ± 22.9 ms per loop (mean ± std. dev. of 7 runs, 1 loop each)\n"
     ]
    }
   ],
   "source": [
    "%%timeit\n",
    "with tf.device(device):\n",
    "    model(code9)"
   ]
  },
  {
   "cell_type": "code",
   "execution_count": 38,
   "id": "bc476645-15d8-44d9-9f3c-6404557ece79",
   "metadata": {},
   "outputs": [
    {
     "name": "stdout",
     "output_type": "stream",
     "text": [
      "1.89 s ± 38.2 ms per loop (mean ± std. dev. of 7 runs, 1 loop each)\n"
     ]
    }
   ],
   "source": [
    "%%timeit\n",
    "with tf.device(device):\n",
    "    model(code10)"
   ]
  },
  {
   "cell_type": "code",
   "execution_count": 60,
   "id": "005a84bd-6423-4bcc-b1b3-5e2010913f7d",
   "metadata": {},
   "outputs": [],
   "source": [
    "import numpy as np\n",
    "import chess\n",
    "board = chess.Board()"
   ]
  },
  {
   "cell_type": "code",
   "execution_count": 67,
   "id": "32f40cbc-cfca-4960-8062-41fddbfa3543",
   "metadata": {},
   "outputs": [],
   "source": [
    "encoding={'.': np.array([0., 0., 0.]),\n",
    " 'p': np.array([0., 0., 1.]),\n",
    " 'P': np.array([ 0.,  0., -1.]),\n",
    " 'b': np.array([0., 1., 0.]),\n",
    " 'B': np.array([ 0., -1.,  0.]),\n",
    " 'n': np.array([1., 0., 0.]),\n",
    " 'N': np.array([-1.,  0.,  0.]),\n",
    " 'r': np.array([0., 1., 1.]),\n",
    " 'R': np.array([ 0., -1., -1.]),\n",
    " 'q': np.array([1., 0., 1.]),\n",
    " 'Q': np.array([-1.,  0., -1.]),\n",
    " 'k': np.array([1., 1., 0.]),\n",
    " 'K': np.array([-1., -1.,  0.])}\n",
    "\n",
    "\n",
    "def encode(board,encoding):\n",
    "    b=str(board).replace(' ','').split('\\n')\n",
    "    a=np.zeros([8,8,len(encoding['.'])])\n",
    "    for i,row in enumerate(b):\n",
    "        for j,val in enumerate(row):\n",
    "            a[i,j,:]=encoding[val]\n",
    "    return a"
   ]
  },
  {
   "cell_type": "code",
   "execution_count": 68,
   "id": "9290d45a-a4fc-4ddd-87aa-6be2aa21f483",
   "metadata": {},
   "outputs": [
    {
     "name": "stdout",
     "output_type": "stream",
     "text": [
      "76.6 µs ± 1.46 µs per loop (mean ± std. dev. of 7 runs, 10000 loops each)\n"
     ]
    }
   ],
   "source": [
    "%%timeit\n",
    "code = encode(board,encoding)"
   ]
  },
  {
   "cell_type": "code",
   "execution_count": 4,
   "id": "4789f81b-301e-4f49-8b11-9a00d90459ac",
   "metadata": {},
   "outputs": [],
   "source": [
    "def prueba():\n",
    "    code = encode(board,encoding)"
   ]
  },
  {
   "cell_type": "code",
   "execution_count": 11,
   "id": "de8938f6-1b1d-4865-a47d-13350d26297c",
   "metadata": {},
   "outputs": [],
   "source": [
    "import time\n",
    "def timer(function):\n",
    "    \n",
    "    i = 10000\n",
    "    elapsed = 0\n",
    "    for _ in range(i):\n",
    "        start = time.time()\n",
    "        function()\n",
    "        elapsed += time.time()-start\n",
    "    elapsed/=i\n",
    "    return elapsed"
   ]
  },
  {
   "cell_type": "code",
   "execution_count": 13,
   "id": "c6083d87-15b7-4e6f-bb0f-9638035b4950",
   "metadata": {},
   "outputs": [
    {
     "data": {
      "text/plain": [
       "79.60002422332764"
      ]
     },
     "execution_count": 13,
     "metadata": {},
     "output_type": "execute_result"
    }
   ],
   "source": [
    "timer(prueba)*1e6"
   ]
  },
  {
   "cell_type": "code",
   "execution_count": 10,
   "id": "7af85d2b-2e3f-402e-a08e-97e98be57fb4",
   "metadata": {},
   "outputs": [
    {
     "data": {
      "text/plain": [
       "0.0"
      ]
     },
     "execution_count": 10,
     "metadata": {},
     "output_type": "execute_result"
    }
   ],
   "source": [
    "8e-5 - 80e-6"
   ]
  },
  {
   "cell_type": "code",
   "execution_count": 1,
   "id": "522b3b8f-b203-4470-82bd-a698f2906e03",
   "metadata": {
    "jupyter": {
     "source_hidden": true
    },
    "tags": []
   },
   "outputs": [],
   "source": [
    "import re, sys, time\n",
    "from itertools import count\n",
    "from collections import namedtuple\n",
    "\n",
    "###############################################################################\n",
    "# Piece-Square tables. Tune these to change sunfish's behaviour\n",
    "###############################################################################\n",
    "\n",
    "piece = { 'P': 100, 'N': 280, 'B': 320, 'R': 479, 'Q': 929, 'K': 60000 }\n",
    "pst = {\n",
    "    'P': (   0,   0,   0,   0,   0,   0,   0,   0,\n",
    "            78,  83,  86,  73, 102,  82,  85,  90,\n",
    "             7,  29,  21,  44,  40,  31,  44,   7,\n",
    "           -17,  16,  -2,  15,  14,   0,  15, -13,\n",
    "           -26,   3,  10,   9,   6,   1,   0, -23,\n",
    "           -22,   9,   5, -11, -10,  -2,   3, -19,\n",
    "           -31,   8,  -7, -37, -36, -14,   3, -31,\n",
    "             0,   0,   0,   0,   0,   0,   0,   0),\n",
    "    'N': ( -66, -53, -75, -75, -10, -55, -58, -70,\n",
    "            -3,  -6, 100, -36,   4,  62,  -4, -14,\n",
    "            10,  67,   1,  74,  73,  27,  62,  -2,\n",
    "            24,  24,  45,  37,  33,  41,  25,  17,\n",
    "            -1,   5,  31,  21,  22,  35,   2,   0,\n",
    "           -18,  10,  13,  22,  18,  15,  11, -14,\n",
    "           -23, -15,   2,   0,   2,   0, -23, -20,\n",
    "           -74, -23, -26, -24, -19, -35, -22, -69),\n",
    "    'B': ( -59, -78, -82, -76, -23,-107, -37, -50,\n",
    "           -11,  20,  35, -42, -39,  31,   2, -22,\n",
    "            -9,  39, -32,  41,  52, -10,  28, -14,\n",
    "            25,  17,  20,  34,  26,  25,  15,  10,\n",
    "            13,  10,  17,  23,  17,  16,   0,   7,\n",
    "            14,  25,  24,  15,   8,  25,  20,  15,\n",
    "            19,  20,  11,   6,   7,   6,  20,  16,\n",
    "            -7,   2, -15, -12, -14, -15, -10, -10),\n",
    "    'R': (  35,  29,  33,   4,  37,  33,  56,  50,\n",
    "            55,  29,  56,  67,  55,  62,  34,  60,\n",
    "            19,  35,  28,  33,  45,  27,  25,  15,\n",
    "             0,   5,  16,  13,  18,  -4,  -9,  -6,\n",
    "           -28, -35, -16, -21, -13, -29, -46, -30,\n",
    "           -42, -28, -42, -25, -25, -35, -26, -46,\n",
    "           -53, -38, -31, -26, -29, -43, -44, -53,\n",
    "           -30, -24, -18,   5,  -2, -18, -31, -32),\n",
    "    'Q': (   6,   1,  -8,-104,  69,  24,  88,  26,\n",
    "            14,  32,  60, -10,  20,  76,  57,  24,\n",
    "            -2,  43,  32,  60,  72,  63,  43,   2,\n",
    "             1, -16,  22,  17,  25,  20, -13,  -6,\n",
    "           -14, -15,  -2,  -5,  -1, -10, -20, -22,\n",
    "           -30,  -6, -13, -11, -16, -11, -16, -27,\n",
    "           -36, -18,   0, -19, -15, -15, -21, -38,\n",
    "           -39, -30, -31, -13, -31, -36, -34, -42),\n",
    "    'K': (   4,  54,  47, -99, -99,  60,  83, -62,\n",
    "           -32,  10,  55,  56,  56,  55,  10,   3,\n",
    "           -62,  12, -57,  44, -67,  28,  37, -31,\n",
    "           -55,  50,  11,  -4, -19,  13,   0, -49,\n",
    "           -55, -43, -52, -28, -51, -47,  -8, -50,\n",
    "           -47, -42, -43, -79, -64, -32, -29, -32,\n",
    "            -4,   3, -14, -50, -57, -18,  13,   4,\n",
    "            17,  30,  -3, -14,   6,  -1,  40,  18),\n",
    "}\n",
    "# Pad tables and join piece and pst dictionaries\n",
    "for k, table in pst.items():\n",
    "    padrow = lambda row: (0,) + tuple(x+piece[k] for x in row) + (0,)\n",
    "    pst[k] = sum((padrow(table[i*8:i*8+8]) for i in range(8)), ())\n",
    "    pst[k] = (0,)*20 + pst[k] + (0,)*20\n",
    "\n",
    "###############################################################################\n",
    "# Global constants\n",
    "###############################################################################\n",
    "\n",
    "# Our board is represented as a 120 character string. The padding allows for\n",
    "# fast detection of moves that don't stay within the board.\n",
    "A1, H1, A8, H8 = 91, 98, 21, 28\n",
    "initial = (\n",
    "    '         \\n'  #   0 -  9\n",
    "    '         \\n'  #  10 - 19\n",
    "    ' rnbqkbnr\\n'  #  20 - 29\n",
    "    ' pppppppp\\n'  #  30 - 39\n",
    "    ' ........\\n'  #  40 - 49\n",
    "    ' ........\\n'  #  50 - 59\n",
    "    ' ........\\n'  #  60 - 69\n",
    "    ' ........\\n'  #  70 - 79\n",
    "    ' PPPPPPPP\\n'  #  80 - 89\n",
    "    ' RNBQKBNR\\n'  #  90 - 99\n",
    "    '         \\n'  # 100 -109\n",
    "    '         \\n'  # 110 -119\n",
    ")\n",
    "\n",
    "# Lists of possible moves for each piece type.\n",
    "N, E, S, W = -10, 1, 10, -1\n",
    "directions = {\n",
    "    'P': (N, N+N, N+W, N+E),\n",
    "    'N': (N+N+E, E+N+E, E+S+E, S+S+E, S+S+W, W+S+W, W+N+W, N+N+W),\n",
    "    'B': (N+E, S+E, S+W, N+W),\n",
    "    'R': (N, E, S, W),\n",
    "    'Q': (N, E, S, W, N+E, S+E, S+W, N+W),\n",
    "    'K': (N, E, S, W, N+E, S+E, S+W, N+W)\n",
    "}\n",
    "\n",
    "# Mate value must be greater than 8*queen + 2*(rook+knight+bishop)\n",
    "# King value is set to twice this value such that if the opponent is\n",
    "# 8 queens up, but we got the king, we still exceed MATE_VALUE.\n",
    "# When a MATE is detected, we'll set the score to MATE_UPPER - plies to get there\n",
    "# E.g. Mate in 3 will be MATE_UPPER - 6\n",
    "MATE_LOWER = piece['K'] - 10*piece['Q']\n",
    "MATE_UPPER = piece['K'] + 10*piece['Q']\n",
    "\n",
    "# The table size is the maximum number of elements in the transposition table.\n",
    "TABLE_SIZE = 1e7\n",
    "\n",
    "# Constants for tuning search\n",
    "QS_LIMIT = 219\n",
    "EVAL_ROUGHNESS = 13\n",
    "DRAW_TEST = True\n",
    "\n",
    "\n",
    "###############################################################################\n",
    "# Chess logic\n",
    "###############################################################################\n",
    "\n",
    "class Position(namedtuple('Position', 'board score wc bc ep kp')):\n",
    "    \"\"\" A state of a chess game\n",
    "    board -- a 120 char representation of the board\n",
    "    score -- the board evaluation\n",
    "    wc -- the castling rights, [west/queen side, east/king side]\n",
    "    bc -- the opponent castling rights, [west/king side, east/queen side]\n",
    "    ep - the en passant square\n",
    "    kp - the king passant square\n",
    "    \"\"\"\n",
    "\n",
    "    def gen_moves(self):\n",
    "        # For each of our pieces, iterate through each possible 'ray' of moves,\n",
    "        # as defined in the 'directions' map. The rays are broken e.g. by\n",
    "        # captures or immediately in case of pieces such as knights.\n",
    "        for i, p in enumerate(self.board):\n",
    "            if not p.isupper(): continue\n",
    "            for d in directions[p]:\n",
    "                for j in count(i+d, d):\n",
    "                    q = self.board[j]\n",
    "                    # Stay inside the board, and off friendly pieces\n",
    "                    if q.isspace() or q.isupper(): break\n",
    "                    # Pawn move, double move and capture\n",
    "                    if p == 'P' and d in (N, N+N) and q != '.': break\n",
    "                    if p == 'P' and d == N+N and (i < A1+N or self.board[i+N] != '.'): break\n",
    "                    if p == 'P' and d in (N+W, N+E) and q == '.' \\\n",
    "                            and j not in (self.ep, self.kp, self.kp-1, self.kp+1): break\n",
    "                    # Move it\n",
    "                    yield (i, j)\n",
    "                    # Stop crawlers from sliding, and sliding after captures\n",
    "                    if p in 'PNK' or q.islower(): break\n",
    "                    # Castling, by sliding the rook next to the king\n",
    "                    if i == A1 and self.board[j+E] == 'K' and self.wc[0]: yield (j+E, j+W)\n",
    "                    if i == H1 and self.board[j+W] == 'K' and self.wc[1]: yield (j+W, j+E)\n",
    "\n",
    "    def rotate(self):\n",
    "        ''' Rotates the board, preserving enpassant '''\n",
    "        return Position(\n",
    "            self.board[::-1].swapcase(), -self.score, self.bc, self.wc,\n",
    "            119-self.ep if self.ep else 0,\n",
    "            119-self.kp if self.kp else 0)\n",
    "\n",
    "    def nullmove(self):\n",
    "        ''' Like rotate, but clears ep and kp '''\n",
    "        return Position(\n",
    "            self.board[::-1].swapcase(), -self.score,\n",
    "            self.bc, self.wc, 0, 0)\n",
    "\n",
    "    def move(self, move):\n",
    "        i, j = move\n",
    "        p, q = self.board[i], self.board[j]\n",
    "        put = lambda board, i, p: board[:i] + p + board[i+1:]\n",
    "        # Copy variables and reset ep and kp\n",
    "        board = self.board\n",
    "        wc, bc, ep, kp = self.wc, self.bc, 0, 0\n",
    "        score = self.score + self.value(move)\n",
    "        # Actual move\n",
    "        board = put(board, j, board[i])\n",
    "        board = put(board, i, '.')\n",
    "        # Castling rights, we move the rook or capture the opponent's\n",
    "        if i == A1: wc = (False, wc[1])\n",
    "        if i == H1: wc = (wc[0], False)\n",
    "        if j == A8: bc = (bc[0], False)\n",
    "        if j == H8: bc = (False, bc[1])\n",
    "        # Castling\n",
    "        if p == 'K':\n",
    "            wc = (False, False)\n",
    "            if abs(j-i) == 2:\n",
    "                kp = (i+j)//2\n",
    "                board = put(board, A1 if j < i else H1, '.')\n",
    "                board = put(board, kp, 'R')\n",
    "        # Pawn promotion, double move and en passant capture\n",
    "        if p == 'P':\n",
    "            if A8 <= j <= H8:\n",
    "                board = put(board, j, 'Q')\n",
    "            if j - i == 2*N:\n",
    "                ep = i + N\n",
    "            if j == self.ep:\n",
    "                board = put(board, j+S, '.')\n",
    "        # We rotate the returned position, so it's ready for the next player\n",
    "        return Position(board, score, wc, bc, ep, kp).rotate()\n",
    "\n",
    "    def value(self, move):\n",
    "        i, j = move\n",
    "        p, q = self.board[i], self.board[j]\n",
    "        # Actual move\n",
    "        score = pst[p][j] - pst[p][i]\n",
    "        # Capture\n",
    "        if q.islower():\n",
    "            score += pst[q.upper()][119-j]\n",
    "        # Castling check detection\n",
    "        if abs(j-self.kp) < 2:\n",
    "            score += pst['K'][119-j]\n",
    "        # Castling\n",
    "        if p == 'K' and abs(i-j) == 2:\n",
    "            score += pst['R'][(i+j)//2]\n",
    "            score -= pst['R'][A1 if j < i else H1]\n",
    "        # Special pawn stuff\n",
    "        if p == 'P':\n",
    "            if A8 <= j <= H8:\n",
    "                score += pst['Q'][j] - pst['P'][j]\n",
    "            if j == self.ep:\n",
    "                score += pst['P'][119-(j+S)]\n",
    "        return score"
   ]
  },
  {
   "cell_type": "code",
   "execution_count": 2,
   "id": "83f9ebc6-a0e3-4ec1-a5ea-99c71f6e51d0",
   "metadata": {},
   "outputs": [],
   "source": [
    "a = Position(initial, 0, (True,True), (True,True), 0, 0)"
   ]
  },
  {
   "cell_type": "code",
   "execution_count": 16,
   "id": "f7dbfff7-e8c1-4a5f-99ad-65c422f65cd1",
   "metadata": {},
   "outputs": [],
   "source": [
    "moves = a.gen_moves()"
   ]
  },
  {
   "cell_type": "code",
   "execution_count": 17,
   "id": "8ba27210-b696-4076-9354-c0ceb6f496cb",
   "metadata": {},
   "outputs": [
    {
     "data": {
      "text/plain": [
       "20"
      ]
     },
     "execution_count": 17,
     "metadata": {},
     "output_type": "execute_result"
    }
   ],
   "source": [
    "len(list(moves))"
   ]
  },
  {
   "cell_type": "code",
   "execution_count": 18,
   "id": "23a0f338-9d10-4e88-a2ca-6e88ee506ca3",
   "metadata": {},
   "outputs": [],
   "source": [
    "import chess\n",
    "board = chess.Board()"
   ]
  },
  {
   "cell_type": "code",
   "execution_count": 33,
   "id": "57b08831-3aae-4ad1-a0b3-ae32f8ab8197",
   "metadata": {},
   "outputs": [
    {
     "name": "stdout",
     "output_type": "stream",
     "text": [
      "0b11111111000000000000000000000000000000001111111100000000\n",
      "0b100001000000000000000000000000000000000000000000000000001000010\n"
     ]
    }
   ],
   "source": [
    "print(bin(board.pawns))\n",
    "print(bin(board.knights))"
   ]
  },
  {
   "cell_type": "code",
   "execution_count": 28,
   "id": "b0b84963-fd58-4397-a7c5-89b8156717e9",
   "metadata": {},
   "outputs": [
    {
     "name": "stdout",
     "output_type": "stream",
     "text": [
      "None\n"
     ]
    }
   ],
   "source": [
    "print(board.ep_square)"
   ]
  },
  {
   "cell_type": "code",
   "execution_count": 30,
   "id": "9219c796-5d60-4334-8ae2-5080f0922144",
   "metadata": {},
   "outputs": [
    {
     "data": {
      "text/plain": [
       "<chess._BoardState at 0x2160ae67040>"
      ]
     },
     "execution_count": 30,
     "metadata": {},
     "output_type": "execute_result"
    }
   ],
   "source": [
    "board._board_state()"
   ]
  },
  {
   "cell_type": "code",
   "execution_count": 40,
   "id": "83445c68-093d-47ef-a582-14b07fb1072b",
   "metadata": {},
   "outputs": [
    {
     "name": "stdout",
     "output_type": "stream",
     "text": [
      "0000000011111111000000000000000000000000000000001111111100000000\n",
      "0100001000000000000000000000000000000000000000000000000001000010\n",
      "0010010000000000000000000000000000000000000000000000000000100100\n",
      "1000000100000000000000000000000000000000000000000000000010000001\n",
      "0000100000000000000000000000000000000000000000000000000000001000\n",
      "0001000000000000000000000000000000000000000000000000000000010000\n",
      "0000000000000000000000000000000000000000000000001111111111111111\n",
      "1111111111111111000000000000000000000000000000000000000000000000\n"
     ]
    }
   ],
   "source": [
    "print(\"{:064b}\".format(board.pawns))\n",
    "print(\"{:064b}\".format(board.knights))\n",
    "print(\"{:064b}\".format(board.bishops))\n",
    "print(\"{:064b}\".format(board.rooks))\n",
    "print(\"{:064b}\".format(board.queens))\n",
    "print(\"{:064b}\".format(board.kings))\n",
    "print(\"{:064b}\".format(board.occupied_co[True]))\n",
    "print(\"{:064b}\".format(board.occupied_co[False]))"
   ]
  },
  {
   "cell_type": "code",
   "execution_count": 41,
   "id": "230c2d63-5a46-427c-b855-db2f98c12e2e",
   "metadata": {},
   "outputs": [
    {
     "name": "stdout",
     "output_type": "stream",
     "text": [
      "0000000011111111000000000000000000000000000000000000000000000000\n"
     ]
    }
   ],
   "source": [
    "print(\"{:064b}\".format(board.pawns & board.occupied_co[False]))"
   ]
  },
  {
   "cell_type": "code",
   "execution_count": 51,
   "id": "f38dfc11-4ebd-4a0e-9bad-c4f28ea94c0a",
   "metadata": {},
   "outputs": [
    {
     "data": {
      "text/plain": [
       "['rnbqkbnr',\n",
       " 'pppppppp',\n",
       " '........',\n",
       " '........',\n",
       " '........',\n",
       " '........',\n",
       " 'PPPPPPPP',\n",
       " 'RNBQKBNR']"
      ]
     },
     "execution_count": 51,
     "metadata": {},
     "output_type": "execute_result"
    }
   ],
   "source": [
    "b=str(board).replace(' ','').split('\\n')\n",
    "b"
   ]
  },
  {
   "cell_type": "code",
   "execution_count": 50,
   "id": "4f1d5b3e-8377-4d09-a2a1-5d7c4dc7cc1f",
   "metadata": {},
   "outputs": [
    {
     "data": {
      "text/plain": [
       "'R'"
      ]
     },
     "execution_count": 50,
     "metadata": {},
     "output_type": "execute_result"
    }
   ],
   "source": [
    "board.piece_at(0).symbol()"
   ]
  },
  {
   "cell_type": "code",
   "execution_count": 52,
   "id": "d159ffd6-6bec-4f83-a250-775731faa47a",
   "metadata": {},
   "outputs": [],
   "source": [
    "SQUARES = chess.SQUARES_180"
   ]
  },
  {
   "cell_type": "code",
   "execution_count": 63,
   "id": "751ad1f8-3ba6-4f5c-9af1-76e4f98758fd",
   "metadata": {
    "collapsed": true,
    "jupyter": {
     "outputs_hidden": true
    },
    "tags": []
   },
   "outputs": [
    {
     "data": {
      "text/plain": [
       "[56,\n",
       " 57,\n",
       " 58,\n",
       " 59,\n",
       " 60,\n",
       " 61,\n",
       " 62,\n",
       " 63,\n",
       " 48,\n",
       " 49,\n",
       " 50,\n",
       " 51,\n",
       " 52,\n",
       " 53,\n",
       " 54,\n",
       " 55,\n",
       " 40,\n",
       " 41,\n",
       " 42,\n",
       " 43,\n",
       " 44,\n",
       " 45,\n",
       " 46,\n",
       " 47,\n",
       " 32,\n",
       " 33,\n",
       " 34,\n",
       " 35,\n",
       " 36,\n",
       " 37,\n",
       " 38,\n",
       " 39,\n",
       " 24,\n",
       " 25,\n",
       " 26,\n",
       " 27,\n",
       " 28,\n",
       " 29,\n",
       " 30,\n",
       " 31,\n",
       " 16,\n",
       " 17,\n",
       " 18,\n",
       " 19,\n",
       " 20,\n",
       " 21,\n",
       " 22,\n",
       " 23,\n",
       " 8,\n",
       " 9,\n",
       " 10,\n",
       " 11,\n",
       " 12,\n",
       " 13,\n",
       " 14,\n",
       " 15,\n",
       " 0,\n",
       " 1,\n",
       " 2,\n",
       " 3,\n",
       " 4,\n",
       " 5,\n",
       " 6,\n",
       " 7]"
      ]
     },
     "execution_count": 63,
     "metadata": {},
     "output_type": "execute_result"
    }
   ],
   "source": [
    "SQUARES"
   ]
  },
  {
   "cell_type": "code",
   "execution_count": 5,
   "id": "31d79164-4322-4393-856f-d72c872c6d7c",
   "metadata": {},
   "outputs": [],
   "source": [
    "def encode_2(board,encoding):\n",
    "    builder = []\n",
    "    a=np.zeros([64,len(encoding['.'])])\n",
    "    for i,square in enumerate(SQUARES):\n",
    "        piece = board.piece_at(square)\n",
    "        if piece:\n",
    "            a[i,:]=encoding[piece.symbol()]\n",
    "    return a.reshape([8,8,3])\n",
    "\n",
    "encoding={'.': np.array([0., 0., 0.]),\n",
    " 'p': np.array([0., 0., 1.]),\n",
    " 'P': np.array([ 0.,  0., -1.]),\n",
    " 'b': np.array([0., 1., 0.]),\n",
    " 'B': np.array([ 0., -1.,  0.]),\n",
    " 'n': np.array([1., 0., 0.]),\n",
    " 'N': np.array([-1.,  0.,  0.]),\n",
    " 'r': np.array([0., 1., 1.]),\n",
    " 'R': np.array([ 0., -1., -1.]),\n",
    " 'q': np.array([1., 0., 1.]),\n",
    " 'Q': np.array([-1.,  0., -1.]),\n",
    " 'k': np.array([1., 1., 0.]),\n",
    " 'K': np.array([-1., -1.,  0.])}"
   ]
  },
  {
   "cell_type": "code",
   "execution_count": 71,
   "id": "48d627e1-2017-4d8e-915f-ec1dbc3de007",
   "metadata": {
    "tags": []
   },
   "outputs": [
    {
     "data": {
      "text/plain": [
       "0.0"
      ]
     },
     "execution_count": 71,
     "metadata": {},
     "output_type": "execute_result"
    }
   ],
   "source": [
    "np.sum( encode(board,encoding) - encode_2(board,encoding))"
   ]
  },
  {
   "cell_type": "code",
   "execution_count": 6,
   "id": "653c9277-df52-442d-a76d-ba408a2345fa",
   "metadata": {},
   "outputs": [
    {
     "ename": "NameError",
     "evalue": "name 'board' is not defined",
     "output_type": "error",
     "traceback": [
      "\u001b[1;31m---------------------------------------------------------------------------\u001b[0m",
      "\u001b[1;31mNameError\u001b[0m                                 Traceback (most recent call last)",
      "\u001b[1;32m~\\AppData\\Local\\Temp/ipykernel_26528/3861813021.py\u001b[0m in \u001b[0;36m<module>\u001b[1;34m\u001b[0m\n\u001b[1;32m----> 1\u001b[1;33m \u001b[0mget_ipython\u001b[0m\u001b[1;33m(\u001b[0m\u001b[1;33m)\u001b[0m\u001b[1;33m.\u001b[0m\u001b[0mrun_cell_magic\u001b[0m\u001b[1;33m(\u001b[0m\u001b[1;34m'timeit'\u001b[0m\u001b[1;33m,\u001b[0m \u001b[1;34m''\u001b[0m\u001b[1;33m,\u001b[0m \u001b[1;34m'code = encode_2(board,encoding)\\n'\u001b[0m\u001b[1;33m)\u001b[0m\u001b[1;33m\u001b[0m\u001b[1;33m\u001b[0m\u001b[0m\n\u001b[0m",
      "\u001b[1;32mc:\\users\\daniel\\appdata\\local\\programs\\python\\python39\\lib\\site-packages\\IPython\\core\\interactiveshell.py\u001b[0m in \u001b[0;36mrun_cell_magic\u001b[1;34m(self, magic_name, line, cell)\u001b[0m\n\u001b[0;32m   2401\u001b[0m             \u001b[1;32mwith\u001b[0m \u001b[0mself\u001b[0m\u001b[1;33m.\u001b[0m\u001b[0mbuiltin_trap\u001b[0m\u001b[1;33m:\u001b[0m\u001b[1;33m\u001b[0m\u001b[1;33m\u001b[0m\u001b[0m\n\u001b[0;32m   2402\u001b[0m                 \u001b[0margs\u001b[0m \u001b[1;33m=\u001b[0m \u001b[1;33m(\u001b[0m\u001b[0mmagic_arg_s\u001b[0m\u001b[1;33m,\u001b[0m \u001b[0mcell\u001b[0m\u001b[1;33m)\u001b[0m\u001b[1;33m\u001b[0m\u001b[1;33m\u001b[0m\u001b[0m\n\u001b[1;32m-> 2403\u001b[1;33m                 \u001b[0mresult\u001b[0m \u001b[1;33m=\u001b[0m \u001b[0mfn\u001b[0m\u001b[1;33m(\u001b[0m\u001b[1;33m*\u001b[0m\u001b[0margs\u001b[0m\u001b[1;33m,\u001b[0m \u001b[1;33m**\u001b[0m\u001b[0mkwargs\u001b[0m\u001b[1;33m)\u001b[0m\u001b[1;33m\u001b[0m\u001b[1;33m\u001b[0m\u001b[0m\n\u001b[0m\u001b[0;32m   2404\u001b[0m             \u001b[1;32mreturn\u001b[0m \u001b[0mresult\u001b[0m\u001b[1;33m\u001b[0m\u001b[1;33m\u001b[0m\u001b[0m\n\u001b[0;32m   2405\u001b[0m \u001b[1;33m\u001b[0m\u001b[0m\n",
      "\u001b[1;32mc:\\users\\daniel\\appdata\\local\\programs\\python\\python39\\lib\\site-packages\\decorator.py\u001b[0m in \u001b[0;36mfun\u001b[1;34m(*args, **kw)\u001b[0m\n\u001b[0;32m    230\u001b[0m             \u001b[1;32mif\u001b[0m \u001b[1;32mnot\u001b[0m \u001b[0mkwsyntax\u001b[0m\u001b[1;33m:\u001b[0m\u001b[1;33m\u001b[0m\u001b[1;33m\u001b[0m\u001b[0m\n\u001b[0;32m    231\u001b[0m                 \u001b[0margs\u001b[0m\u001b[1;33m,\u001b[0m \u001b[0mkw\u001b[0m \u001b[1;33m=\u001b[0m \u001b[0mfix\u001b[0m\u001b[1;33m(\u001b[0m\u001b[0margs\u001b[0m\u001b[1;33m,\u001b[0m \u001b[0mkw\u001b[0m\u001b[1;33m,\u001b[0m \u001b[0msig\u001b[0m\u001b[1;33m)\u001b[0m\u001b[1;33m\u001b[0m\u001b[1;33m\u001b[0m\u001b[0m\n\u001b[1;32m--> 232\u001b[1;33m             \u001b[1;32mreturn\u001b[0m \u001b[0mcaller\u001b[0m\u001b[1;33m(\u001b[0m\u001b[0mfunc\u001b[0m\u001b[1;33m,\u001b[0m \u001b[1;33m*\u001b[0m\u001b[1;33m(\u001b[0m\u001b[0mextras\u001b[0m \u001b[1;33m+\u001b[0m \u001b[0margs\u001b[0m\u001b[1;33m)\u001b[0m\u001b[1;33m,\u001b[0m \u001b[1;33m**\u001b[0m\u001b[0mkw\u001b[0m\u001b[1;33m)\u001b[0m\u001b[1;33m\u001b[0m\u001b[1;33m\u001b[0m\u001b[0m\n\u001b[0m\u001b[0;32m    233\u001b[0m     \u001b[0mfun\u001b[0m\u001b[1;33m.\u001b[0m\u001b[0m__name__\u001b[0m \u001b[1;33m=\u001b[0m \u001b[0mfunc\u001b[0m\u001b[1;33m.\u001b[0m\u001b[0m__name__\u001b[0m\u001b[1;33m\u001b[0m\u001b[1;33m\u001b[0m\u001b[0m\n\u001b[0;32m    234\u001b[0m     \u001b[0mfun\u001b[0m\u001b[1;33m.\u001b[0m\u001b[0m__doc__\u001b[0m \u001b[1;33m=\u001b[0m \u001b[0mfunc\u001b[0m\u001b[1;33m.\u001b[0m\u001b[0m__doc__\u001b[0m\u001b[1;33m\u001b[0m\u001b[1;33m\u001b[0m\u001b[0m\n",
      "\u001b[1;32mc:\\users\\daniel\\appdata\\local\\programs\\python\\python39\\lib\\site-packages\\IPython\\core\\magic.py\u001b[0m in \u001b[0;36m<lambda>\u001b[1;34m(f, *a, **k)\u001b[0m\n\u001b[0;32m    185\u001b[0m     \u001b[1;31m# but it's overkill for just that one bit of state.\u001b[0m\u001b[1;33m\u001b[0m\u001b[1;33m\u001b[0m\u001b[1;33m\u001b[0m\u001b[0m\n\u001b[0;32m    186\u001b[0m     \u001b[1;32mdef\u001b[0m \u001b[0mmagic_deco\u001b[0m\u001b[1;33m(\u001b[0m\u001b[0marg\u001b[0m\u001b[1;33m)\u001b[0m\u001b[1;33m:\u001b[0m\u001b[1;33m\u001b[0m\u001b[1;33m\u001b[0m\u001b[0m\n\u001b[1;32m--> 187\u001b[1;33m         \u001b[0mcall\u001b[0m \u001b[1;33m=\u001b[0m \u001b[1;32mlambda\u001b[0m \u001b[0mf\u001b[0m\u001b[1;33m,\u001b[0m \u001b[1;33m*\u001b[0m\u001b[0ma\u001b[0m\u001b[1;33m,\u001b[0m \u001b[1;33m**\u001b[0m\u001b[0mk\u001b[0m\u001b[1;33m:\u001b[0m \u001b[0mf\u001b[0m\u001b[1;33m(\u001b[0m\u001b[1;33m*\u001b[0m\u001b[0ma\u001b[0m\u001b[1;33m,\u001b[0m \u001b[1;33m**\u001b[0m\u001b[0mk\u001b[0m\u001b[1;33m)\u001b[0m\u001b[1;33m\u001b[0m\u001b[1;33m\u001b[0m\u001b[0m\n\u001b[0m\u001b[0;32m    188\u001b[0m \u001b[1;33m\u001b[0m\u001b[0m\n\u001b[0;32m    189\u001b[0m         \u001b[1;32mif\u001b[0m \u001b[0mcallable\u001b[0m\u001b[1;33m(\u001b[0m\u001b[0marg\u001b[0m\u001b[1;33m)\u001b[0m\u001b[1;33m:\u001b[0m\u001b[1;33m\u001b[0m\u001b[1;33m\u001b[0m\u001b[0m\n",
      "\u001b[1;32mc:\\users\\daniel\\appdata\\local\\programs\\python\\python39\\lib\\site-packages\\IPython\\core\\magics\\execution.py\u001b[0m in \u001b[0;36mtimeit\u001b[1;34m(self, line, cell, local_ns)\u001b[0m\n\u001b[0;32m   1167\u001b[0m             \u001b[1;32mfor\u001b[0m \u001b[0mindex\u001b[0m \u001b[1;32min\u001b[0m \u001b[0mrange\u001b[0m\u001b[1;33m(\u001b[0m\u001b[1;36m0\u001b[0m\u001b[1;33m,\u001b[0m \u001b[1;36m10\u001b[0m\u001b[1;33m)\u001b[0m\u001b[1;33m:\u001b[0m\u001b[1;33m\u001b[0m\u001b[1;33m\u001b[0m\u001b[0m\n\u001b[0;32m   1168\u001b[0m                 \u001b[0mnumber\u001b[0m \u001b[1;33m=\u001b[0m \u001b[1;36m10\u001b[0m \u001b[1;33m**\u001b[0m \u001b[0mindex\u001b[0m\u001b[1;33m\u001b[0m\u001b[1;33m\u001b[0m\u001b[0m\n\u001b[1;32m-> 1169\u001b[1;33m                 \u001b[0mtime_number\u001b[0m \u001b[1;33m=\u001b[0m \u001b[0mtimer\u001b[0m\u001b[1;33m.\u001b[0m\u001b[0mtimeit\u001b[0m\u001b[1;33m(\u001b[0m\u001b[0mnumber\u001b[0m\u001b[1;33m)\u001b[0m\u001b[1;33m\u001b[0m\u001b[1;33m\u001b[0m\u001b[0m\n\u001b[0m\u001b[0;32m   1170\u001b[0m                 \u001b[1;32mif\u001b[0m \u001b[0mtime_number\u001b[0m \u001b[1;33m>=\u001b[0m \u001b[1;36m0.2\u001b[0m\u001b[1;33m:\u001b[0m\u001b[1;33m\u001b[0m\u001b[1;33m\u001b[0m\u001b[0m\n\u001b[0;32m   1171\u001b[0m                     \u001b[1;32mbreak\u001b[0m\u001b[1;33m\u001b[0m\u001b[1;33m\u001b[0m\u001b[0m\n",
      "\u001b[1;32mc:\\users\\daniel\\appdata\\local\\programs\\python\\python39\\lib\\site-packages\\IPython\\core\\magics\\execution.py\u001b[0m in \u001b[0;36mtimeit\u001b[1;34m(self, number)\u001b[0m\n\u001b[0;32m    167\u001b[0m         \u001b[0mgc\u001b[0m\u001b[1;33m.\u001b[0m\u001b[0mdisable\u001b[0m\u001b[1;33m(\u001b[0m\u001b[1;33m)\u001b[0m\u001b[1;33m\u001b[0m\u001b[1;33m\u001b[0m\u001b[0m\n\u001b[0;32m    168\u001b[0m         \u001b[1;32mtry\u001b[0m\u001b[1;33m:\u001b[0m\u001b[1;33m\u001b[0m\u001b[1;33m\u001b[0m\u001b[0m\n\u001b[1;32m--> 169\u001b[1;33m             \u001b[0mtiming\u001b[0m \u001b[1;33m=\u001b[0m \u001b[0mself\u001b[0m\u001b[1;33m.\u001b[0m\u001b[0minner\u001b[0m\u001b[1;33m(\u001b[0m\u001b[0mit\u001b[0m\u001b[1;33m,\u001b[0m \u001b[0mself\u001b[0m\u001b[1;33m.\u001b[0m\u001b[0mtimer\u001b[0m\u001b[1;33m)\u001b[0m\u001b[1;33m\u001b[0m\u001b[1;33m\u001b[0m\u001b[0m\n\u001b[0m\u001b[0;32m    170\u001b[0m         \u001b[1;32mfinally\u001b[0m\u001b[1;33m:\u001b[0m\u001b[1;33m\u001b[0m\u001b[1;33m\u001b[0m\u001b[0m\n\u001b[0;32m    171\u001b[0m             \u001b[1;32mif\u001b[0m \u001b[0mgcold\u001b[0m\u001b[1;33m:\u001b[0m\u001b[1;33m\u001b[0m\u001b[1;33m\u001b[0m\u001b[0m\n",
      "\u001b[1;32m<magic-timeit>\u001b[0m in \u001b[0;36minner\u001b[1;34m(_it, _timer)\u001b[0m\n",
      "\u001b[1;31mNameError\u001b[0m: name 'board' is not defined"
     ]
    }
   ],
   "source": [
    "%%timeit\n",
    "code = encode_2(board,encoding)"
   ]
  },
  {
   "cell_type": "code",
   "execution_count": 76,
   "id": "615c4d13-c8df-44d3-8271-8db8586b9f85",
   "metadata": {},
   "outputs": [
    {
     "data": {
      "text/plain": [
       "'0b100'"
      ]
     },
     "execution_count": 76,
     "metadata": {},
     "output_type": "execute_result"
    }
   ],
   "source": [
    "piece = board.piece_type_at(0)\n",
    "bin(piece)"
   ]
  },
  {
   "cell_type": "code",
   "execution_count": 77,
   "id": "0ee253b6-5573-45dc-9ad3-da3444852ee8",
   "metadata": {},
   "outputs": [
    {
     "data": {
      "text/plain": [
       "'0b1100100'"
      ]
     },
     "execution_count": 77,
     "metadata": {},
     "output_type": "execute_result"
    }
   ],
   "source": [
    "bin(100)"
   ]
  },
  {
   "cell_type": "code",
   "execution_count": null,
   "id": "0d78d6d9-05de-43cf-84eb-c0026b344dce",
   "metadata": {},
   "outputs": [],
   "source": []
  }
 ],
 "metadata": {
  "kernelspec": {
   "display_name": "Python 3 (ipykernel)",
   "language": "python",
   "name": "python3"
  },
  "language_info": {
   "codemirror_mode": {
    "name": "ipython",
    "version": 3
   },
   "file_extension": ".py",
   "mimetype": "text/x-python",
   "name": "python",
   "nbconvert_exporter": "python",
   "pygments_lexer": "ipython3",
   "version": "3.9.6"
  }
 },
 "nbformat": 4,
 "nbformat_minor": 5
}
