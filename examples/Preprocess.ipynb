{
 "cells": [
  {
   "cell_type": "code",
   "execution_count": null,
   "metadata": {},
   "outputs": [],
   "source": [
    "from chesslab.base import default_parameters as params\n",
    "from chesslab.preprocessing import preprocess"
   ]
  },
  {
   "cell_type": "code",
   "execution_count": 2,
   "metadata": {},
   "outputs": [
    {
     "name": "stdout",
     "output_type": "stream",
     "text": [
      "================================================================================\n",
      "Applying elo filter\n",
      "states with elo mean > 2000: 3988989\n",
      "Elo filter applied\n",
      "total of different states: 3988989\n",
      "total of different result: 3988989\n",
      "total of games: 3988989\n",
      "================================================================================\n",
      "Deleting states where there are eaten pieces\n",
      "(3988989,)\n",
      "(3988988,)\n",
      "(673223,)\n",
      "states where there are eaten pieces deleted\n",
      "total of different states: 3315766\n",
      "total of different result: 3315766\n",
      "total of games: 3315766\n",
      "================================================================================\n",
      "deleting duplicates (this step takes a bit)\n",
      "duplicates deleted\n",
      "total of different states: 2759991\n",
      "total of different result: 2759991\n",
      "================================================================================\n",
      "deleting draws\n",
      "draws deleted\n",
      "total of different states: 2726133\n",
      "total of different result: 2726133\n",
      "================================================================================\n",
      "IB=1.2125368264712328\n",
      "saving files\n",
      "files saved\n"
     ]
    }
   ],
   "source": [
    "block_size=params.block_size\n",
    "blocks=4\n",
    "path_files= 'D:/Database_encoded/ccrl2/'\n",
    "start_name= 'chess'\n",
    "min_elo= 2000\n",
    "x_name= 'ccrl_states'\n",
    "y_name= 'ccrl_results'\n",
    "elo_filter= 1\n",
    "nb_game_filter= 0 #0 no aplica el filtro\n",
    "delete_duplicate=True\n",
    "delete_draws= True\n",
    "\n",
    "\n",
    "preprocess(\n",
    "    block_size= block_size,\n",
    "    blocks= blocks,\n",
    "    path= path_files,\n",
    "    start_name= start_name,\n",
    "    min_elo= min_elo,\n",
    "    x_name= x_name,\n",
    "    y_name= y_name,\n",
    "    elo_filter= elo_filter,\n",
    "    nb_game_filter= nb_game_filter, #0 no aplica el filtro\n",
    "    delete_duplicate=delete_duplicate,\n",
    "    delete_draws= delete_draws)"
   ]
  },
  {
   "cell_type": "code",
   "execution_count": null,
   "metadata": {},
   "outputs": [],
   "source": []
  }
 ],
 "metadata": {
  "kernelspec": {
   "display_name": "Python 3",
   "language": "python",
   "name": "python3"
  },
  "language_info": {
   "codemirror_mode": {
    "name": "ipython",
    "version": 3
   },
   "file_extension": ".py",
   "mimetype": "text/x-python",
   "name": "python",
   "nbconvert_exporter": "python",
   "pygments_lexer": "ipython3",
   "version": "3.8.6"
  }
 },
 "nbformat": 4,
 "nbformat_minor": 4
}
