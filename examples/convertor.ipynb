{
 "cells": [
  {
   "cell_type": "code",
   "execution_count": 1,
   "metadata": {},
   "outputs": [],
   "source": [
    "from chesslab.base import Tic\n",
    "from chesslab.base import default_parameters as params\n",
    "from chesslab.convertor import convert_games"
   ]
  },
  {
   "cell_type": "code",
   "execution_count": 2,
   "metadata": {},
   "outputs": [
    {
     "data": {
      "text/plain": [
       "{'.': 0,\n",
       " 'p': 1,\n",
       " 'P': 2,\n",
       " 'b': 3,\n",
       " 'B': 4,\n",
       " 'n': 5,\n",
       " 'N': 6,\n",
       " 'r': 7,\n",
       " 'R': 8,\n",
       " 'q': 9,\n",
       " 'Q': 10,\n",
       " 'k': 11,\n",
       " 'K': 12}"
      ]
     },
     "execution_count": 2,
     "metadata": {},
     "output_type": "execute_result"
    }
   ],
   "source": [
    "block_size= params.block_size # Tamaño del bloque de estados a guardar por archivo\n",
    "                                #con el tamaño por default, usando la base ccrl4040 se esperan 70 bloques\n",
    "blocks=4 #Numero de bloques a extraer, establecer en 0 para extraer todos los del archivo PGN\n",
    "start_name = 'chess' # Tamaño de la muestra a usar.\n",
    "source_file ='D:/Database_encoded/CCRL-4040.pgn' # Archivo PGN a convertir\n",
    "save_path ='D:/Database_encoded/ccrl2/' #Direccion donde se guardará la base convertida\n",
    "\n",
    "inter_map=params.inter_map #codificación intermedia\n",
    "inter_map"
   ]
  },
  {
   "cell_type": "code",
   "execution_count": 3,
   "metadata": {},
   "outputs": [
    {
     "name": "stdout",
     "output_type": "stream",
     "text": [
      " block reading: 100.00%%\n",
      "Process finished - Elapsed time: 2.19m\n",
      "\n",
      " block reading: 100.00%0%\n",
      "Process finished - Elapsed time: 2.21m\n",
      "\n",
      " block reading: 100.00%%\n",
      "Process finished - Elapsed time: 2.17m\n",
      "\n",
      " block reading: 100.00%0%\n",
      "Process finished - Elapsed time: 2.15m\n",
      "\n",
      "\n",
      "Process finished - Elapsed time: 8.73m\n",
      "\n"
     ]
    }
   ],
   "source": [
    "tic=Tic()\n",
    "convert_games(source= source_file,save_path= save_path,start_name= start_name,blocks=blocks,block_size= block_size,inter_map=inter_map)\n",
    "tic.toc()"
   ]
  },
  {
   "cell_type": "code",
   "execution_count": null,
   "metadata": {},
   "outputs": [],
   "source": []
  }
 ],
 "metadata": {
  "kernelspec": {
   "display_name": "Python 3",
   "language": "python",
   "name": "python3"
  },
  "language_info": {
   "codemirror_mode": {
    "name": "ipython",
    "version": 3
   },
   "file_extension": ".py",
   "mimetype": "text/x-python",
   "name": "python",
   "nbconvert_exporter": "python",
   "pygments_lexer": "ipython3",
   "version": "3.8.6"
  }
 },
 "nbformat": 4,
 "nbformat_minor": 4
}
