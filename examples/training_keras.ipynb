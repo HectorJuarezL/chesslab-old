{
 "cells": [
  {
   "cell_type": "code",
   "execution_count": 1,
   "metadata": {},
   "outputs": [],
   "source": [
    "import tensorflow as tf\n",
    "import datetime as dt\n",
    "gpus = tf.config.experimental.list_physical_devices('GPU')\n",
    "tf.config.experimental.set_memory_growth(gpus[0], True)\n",
    "import numpy as np\n",
    "from chesslab import base\n",
    "from chesslab.base import default_parameters as params\n",
    "from chesslab.training_keras import keras_architectures as ka\n",
    "from sklearn.model_selection import train_test_split\n",
    "#from tensorflow.keras.models import Model, load_model\n",
    "\n",
    "\n"
   ]
  },
  {
   "cell_type": "code",
   "execution_count": 2,
   "metadata": {},
   "outputs": [
    {
     "data": {
      "text/plain": [
       "{'.': array([0., 0., 0.]),\n",
       " 'p': array([0., 0., 1.]),\n",
       " 'P': array([ 0.,  0., -1.]),\n",
       " 'b': array([0., 1., 0.]),\n",
       " 'B': array([ 0., -1.,  0.]),\n",
       " 'n': array([1., 0., 0.]),\n",
       " 'N': array([-1.,  0.,  0.]),\n",
       " 'r': array([0., 1., 1.]),\n",
       " 'R': array([ 0., -1., -1.]),\n",
       " 'q': array([1., 0., 1.]),\n",
       " 'Q': array([-1.,  0., -1.]),\n",
       " 'k': array([1., 1., 0.]),\n",
       " 'K': array([-1., -1.,  0.])}"
      ]
     },
     "execution_count": 2,
     "metadata": {},
     "output_type": "execute_result"
    }
   ],
   "source": [
    "np.random.seed(0)\n",
    "\n",
    "batch_size = params.batch_size\n",
    "#path='../new_encode/'\n",
    "path = 'D:/Database_encoded/ccrl/'\n",
    "#path='E:/Archivos/new_pgn/'\n",
    "\n",
    "\n",
    "\n",
    "name=f'{path}ccrl_states_c.pkl'\n",
    "x_data = base.load_pkl(name)\n",
    "\n",
    "name=f'{path}ccrl_results_c.pkl'\n",
    "y_data = base.load_pkl(name)\n",
    "\n",
    "\n",
    "\n",
    "x_train, x_test, y_train, y_test = train_test_split(\n",
    "    x_data, y_data, test_size = params.test_size, random_state = 0, shuffle = False)\n",
    "\n",
    "del x_data\n",
    "del y_data\n",
    "\n",
    "encoding=ka.encoding_1\n",
    "encoding"
   ]
  },
  {
   "cell_type": "code",
   "execution_count": 3,
   "metadata": {},
   "outputs": [
    {
     "data": {
      "text/plain": [
       "{0: array([0., 0., 0.]),\n",
       " 1: array([0., 0., 1.]),\n",
       " 2: array([ 0.,  0., -1.]),\n",
       " 3: array([0., 1., 0.]),\n",
       " 4: array([ 0., -1.,  0.]),\n",
       " 5: array([1., 0., 0.]),\n",
       " 6: array([-1.,  0.,  0.]),\n",
       " 7: array([0., 1., 1.]),\n",
       " 8: array([ 0., -1., -1.]),\n",
       " 9: array([1., 0., 1.]),\n",
       " 10: array([-1.,  0., -1.]),\n",
       " 11: array([1., 1., 0.]),\n",
       " 12: array([-1., -1.,  0.])}"
      ]
     },
     "execution_count": 3,
     "metadata": {},
     "output_type": "execute_result"
    }
   ],
   "source": [
    "encoding = {params.inter_map[i]:code for i,code in encoding.items()}\n",
    "encoding"
   ]
  },
  {
   "cell_type": "code",
   "execution_count": 4,
   "metadata": {},
   "outputs": [],
   "source": [
    "x_train=ka.recode(x_train,encoding)\n",
    "x_test=ka.recode(x_test,encoding)\n",
    "\n",
    "save_name='noEat_0.2'"
   ]
  },
  {
   "cell_type": "code",
   "execution_count": 5,
   "metadata": {},
   "outputs": [
    {
     "name": "stdout",
     "output_type": "stream",
     "text": [
      "Model: \"sequential\"\n",
      "_________________________________________________________________\n",
      "Layer (type)                 Output Shape              Param #   \n",
      "=================================================================\n",
      "conv2d (Conv2D)              (None, 8, 8, 32)          4736      \n",
      "_________________________________________________________________\n",
      "conv2d_1 (Conv2D)            (None, 8, 8, 64)          51264     \n",
      "_________________________________________________________________\n",
      "conv2d_2 (Conv2D)            (None, 8, 8, 128)         73856     \n",
      "_________________________________________________________________\n",
      "flatten (Flatten)            (None, 8192)              0         \n",
      "_________________________________________________________________\n",
      "dense (Dense)                (None, 128)               1048704   \n",
      "_________________________________________________________________\n",
      "dense_1 (Dense)              (None, 2)                 258       \n",
      "=================================================================\n",
      "Total params: 1,178,818\n",
      "Trainable params: 1,178,818\n",
      "Non-trainable params: 0\n",
      "_________________________________________________________________\n",
      "<tensorflow.python.keras.engine.sequential.Sequential object at 0x0000018C7D6BD640>\n",
      "72124/72124 [==============================] - 417s 6ms/step - loss: 0.5185 - categorical_accuracy: 0.7318 - val_loss: 0.5033 - val_categorical_accuracy: 0.7472\n"
     ]
    }
   ],
   "source": [
    "lr = ka.lr\n",
    "mo = ka.mo\n",
    "start=0\n",
    "epochs=1\n",
    "# Instantiate model\n",
    "\n",
    "\n",
    "model = ka.Model_1\n",
    "model.compile(optimizer='SGD', loss='categorical_crossentropy', metrics=[\"categorical_accuracy\"])\n",
    "model.summary()\n",
    "\n",
    "\n",
    "\n",
    "print(model)\n",
    "history=model.fit(x_train, y_train,batch_size=batch_size, epochs=epochs,verbose=1,validation_data=(x_test,y_test))"
   ]
  },
  {
   "cell_type": "code",
   "execution_count": null,
   "metadata": {},
   "outputs": [],
   "source": []
  }
 ],
 "metadata": {
  "kernelspec": {
   "display_name": "Python 3",
   "language": "python",
   "name": "python3"
  },
  "language_info": {
   "codemirror_mode": {
    "name": "ipython",
    "version": 3
   },
   "file_extension": ".py",
   "mimetype": "text/x-python",
   "name": "python",
   "nbconvert_exporter": "python",
   "pygments_lexer": "ipython3",
   "version": "3.8.6"
  }
 },
 "nbformat": 4,
 "nbformat_minor": 4
}
