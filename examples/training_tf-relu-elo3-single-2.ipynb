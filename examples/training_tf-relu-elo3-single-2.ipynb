{
 "cells": [
  {
   "cell_type": "code",
   "execution_count": 1,
   "metadata": {},
   "outputs": [],
   "source": [
    "#!pip install chesslab"
   ]
  },
  {
   "cell_type": "code",
   "execution_count": 2,
   "metadata": {},
   "outputs": [],
   "source": [
    "import numpy as np\n",
    "from chesslab.utils import load_pkl\n",
    "from chesslab.training_tf import fitting\n",
    "from sklearn.model_selection import train_test_split\n",
    "import tensorflow as tf"
   ]
  },
  {
   "cell_type": "code",
   "execution_count": 3,
   "metadata": {},
   "outputs": [],
   "source": [
    "\n",
    "lr = 0.1\n",
    "epochs=20\n",
    "batch_size = 128\n",
    "test_percent=0.1\n",
    "\n",
    "path = 'D:/database/ccrl/'\n",
    "name_data='ccrl_states_elo3.pkl'\n",
    "name_labels='ccrl_results_elo3.pkl'\n",
    "save_name='./tmp/tf_weights-relu-elo3.4'\n",
    "\n",
    "optim = tf.compat.v1.train.GradientDescentOptimizer(learning_rate=lr)\n",
    "loss_fn = tf.keras.losses.SparseCategoricalCrossentropy(from_logits=True)"
   ]
  },
  {
   "cell_type": "code",
   "execution_count": 4,
   "metadata": {},
   "outputs": [],
   "source": [
    "download=False\n",
    "if download:\n",
    "    from chesslab.utils import download_7z\n",
    "    path='./'\n",
    "    file_id = '1MFHFz_rxNziYSeN-9ruwnRiYskd0_9ss'\n",
    "    download_7z(file_id,path)"
   ]
  },
  {
   "cell_type": "code",
   "execution_count": 5,
   "metadata": {},
   "outputs": [],
   "source": [
    "encoding_4={\n",
    "    '.':np.array([0],dtype=np.float32),\n",
    "    'p':np.array([1/12],dtype=np.float32),\n",
    "    'P':np.array([2/12],dtype=np.float32),\n",
    "    'b':np.array([3/12],dtype=np.float32),\n",
    "    'B':np.array([4/12],dtype=np.float32),\n",
    "    'n':np.array([5/12],dtype=np.float32),\n",
    "    'N':np.array([6/12],dtype=np.float32),\n",
    "    'r':np.array([7/12],dtype=np.float32),\n",
    "    'R':np.array([8/12],dtype=np.float32),\n",
    "    'q':np.array([9/12],dtype=np.float32),\n",
    "    'Q':np.array([10/12],dtype=np.float32),\n",
    "    'k':np.array([11/12],dtype=np.float32),\n",
    "    'K':np.array([12/12],dtype=np.float32)\n",
    "}"
   ]
  },
  {
   "cell_type": "code",
   "execution_count": 6,
   "metadata": {},
   "outputs": [],
   "source": [
    "class Model_4():\n",
    "\n",
    "    def __init__(self,\n",
    "                   n_classes=2):\n",
    "        initializer = tf.keras.initializers.GlorotNormal()\n",
    "        self.hw=[]\n",
    "        self.hb=[]\n",
    "\n",
    "        self.hw.append( tf.Variable(initializer(shape=(7,7,1,32),dtype=np.float32),name=\"hl1weigths\",dtype=\"float32\") )\n",
    "        self.hb.append( tf.Variable(np.zeros(32,dtype=np.float32),name=\"hl1bias\",dtype=\"float32\") )\n",
    "        #8x8x32\n",
    "        self.hw.append( tf.Variable(initializer(shape=(5,5,32,64),dtype=np.float32),name=\"hl2weigths\",dtype=\"float32\"))\n",
    "        self.hb.append( tf.Variable(np.zeros(64,dtype=np.float32),name=\"hl2bias\",dtype=\"float32\"))\n",
    "        #8x8x64\n",
    "        self.hw.append( tf.Variable(initializer(shape=(3,3,64,128),dtype=np.float32),name=\"hl3weigths\",dtype=\"float32\"))\n",
    "        self.hb.append( tf.Variable(np.zeros(128,dtype=np.float32),name=\"hl3bias\",dtype=\"float32\"))\n",
    "        #8x8x128\n",
    "        self.hw.append( tf.Variable(initializer(shape=(8*8*128,256),dtype=np.float32),name=\"hl4weigths\",dtype=\"float32\"))\n",
    "        self.hb.append( tf.Variable(np.zeros(256,dtype=np.float32),name=\"hl4bias\",dtype=\"float32\"))\n",
    "\n",
    "        self.hw.append( tf.Variable(initializer(shape=(256, n_classes),dtype=np.float32),name=\"outweigths\",dtype=\"float32\"))\n",
    "        self.hb.append( tf.Variable(np.zeros(n_classes,dtype=np.float32),name=\"outbias\",dtype=\"float32\"))\n",
    "\n",
    "        self.trainable_variables = []\n",
    "        for i in range(len(self.hw)):\n",
    "            self.trainable_variables.append(self.hw[i])    \n",
    "            self.trainable_variables.append(self.hb[i])\n",
    "\n",
    "    def __call__(self,x): \n",
    "\n",
    "        out = tf.cast(x, tf.float32)\n",
    "        out = tf.reshape(out, shape=[-1, 8, 8, 1])\n",
    "\n",
    "        layer=0\n",
    "        out = tf.nn.conv2d(out,self.hw[layer], strides=[1,1,1,1], padding='SAME')  \n",
    "        out = tf.add(out, self.hb[layer])\n",
    "        out = tf.nn.relu(out)\n",
    "              #8*8*32\n",
    "        layer+=1\n",
    "        out = tf.nn.conv2d(out,self.hw[layer], strides=[1,1,1,1], padding='SAME')  \n",
    "        out = tf.add(out, self.hb[layer])\n",
    "        out = tf.nn.relu(out)\n",
    "              #8*8*64\n",
    "        layer+=1  \n",
    "        out = tf.nn.conv2d(out,self.hw[layer], strides=[1,1,1,1], padding='SAME')  \n",
    "        out = tf.add(out, self.hb[layer])\n",
    "        out = tf.nn.elu(out)\n",
    "              #8*8*128\n",
    "        layer+=1\n",
    "        out =  tf.reshape(out,[-1, 8*8*128])\n",
    "        out =  tf.matmul(out,self.hw[layer])\n",
    "        out = tf.add(out, self.hb[layer])\n",
    "        out = tf.nn.relu(out)\n",
    "        out = tf.nn.dropout(out,rate=0.3,seed=0)\n",
    "\n",
    "        layer+=1\n",
    "        out =  tf.matmul(out,self.hw[layer])\n",
    "        out = tf.add(out, self.hb[layer])\n",
    "\n",
    "        return out"
   ]
  },
  {
   "cell_type": "code",
   "execution_count": 7,
   "metadata": {},
   "outputs": [
    {
     "name": "stdout",
     "output_type": "stream",
     "text": [
      "(2661290, 64)\n",
      "(2661290,)\n"
     ]
    }
   ],
   "source": [
    "np.random.seed(0)\n",
    "tf.random.set_seed(0)\n",
    "\n",
    "x_data = load_pkl(path+name_data)\n",
    "y_data = load_pkl(path+name_labels)[:,1] #Nota: pasa de onehot a logits\n",
    "\n",
    "print(x_data.shape)\n",
    "print(y_data.shape)\n",
    "\n",
    "x_train, x_test, y_train, y_test = train_test_split(\n",
    "    x_data, y_data, test_size = test_percent, random_state = 0, shuffle = True)\n",
    "\n",
    "del x_data\n",
    "del y_data"
   ]
  },
  {
   "cell_type": "code",
   "execution_count": 8,
   "metadata": {},
   "outputs": [],
   "source": [
    "\n",
    "model = Model_4()\n",
    "encoding=encoding_4\n"
   ]
  },
  {
   "cell_type": "code",
   "execution_count": 9,
   "metadata": {
    "tags": []
   },
   "outputs": [
    {
     "name": "stdout",
     "output_type": "stream",
     "text": [
      "2021-10-30 01:15:47\n"
     ]
    },
    {
     "data": {
      "text/plain": [
       "Epoch: 01/20 | time: 107s = 1.8m | train loss: 0.6247 | train acc: 0.6497 | test loss: 0.6176 | test acc: 0.6558"
      ]
     },
     "metadata": {},
     "output_type": "display_data"
    },
    {
     "data": {
      "text/plain": [
       "Epoch: 02/20 | time: 102s = 1.7m | train loss: 0.5942 | train acc: 0.6795 | test loss: 0.5808 | test acc: 0.6920"
      ]
     },
     "metadata": {},
     "output_type": "display_data"
    },
    {
     "data": {
      "text/plain": [
       "Epoch: 03/20 | time: 106s = 1.8m | train loss: 0.5614 | train acc: 0.7072 | test loss: 0.5508 | test acc: 0.7155"
      ]
     },
     "metadata": {},
     "output_type": "display_data"
    },
    {
     "data": {
      "text/plain": [
       "Epoch: 04/20 | time: 106s = 1.8m | train loss: 0.5177 | train acc: 0.7391 | test loss: 0.5304 | test acc: 0.7309"
      ]
     },
     "metadata": {},
     "output_type": "display_data"
    },
    {
     "data": {
      "text/plain": [
       "Epoch: 05/20 | time: 103s = 1.7m | train loss: 0.4680 | train acc: 0.7712 | test loss: 0.4708 | test acc: 0.7695"
      ]
     },
     "metadata": {},
     "output_type": "display_data"
    },
    {
     "data": {
      "text/plain": [
       "Epoch: 06/20 | time: 102s = 1.7m | train loss: 0.4239 | train acc: 0.7971 | test loss: 0.4415 | test acc: 0.7872"
      ]
     },
     "metadata": {},
     "output_type": "display_data"
    },
    {
     "data": {
      "text/plain": [
       "Epoch: 07/20 | time: 102s = 1.7m | train loss: 0.3868 | train acc: 0.8183 | test loss: 0.4112 | test acc: 0.8058"
      ]
     },
     "metadata": {},
     "output_type": "display_data"
    },
    {
     "data": {
      "text/plain": [
       "Epoch: 08/20 | time: 101s = 1.7m | train loss: 0.3559 | train acc: 0.8349 | test loss: 0.3979 | test acc: 0.8146"
      ]
     },
     "metadata": {},
     "output_type": "display_data"
    },
    {
     "data": {
      "text/plain": [
       "Epoch: 09/20 | time: 101s = 1.7m | train loss: 0.3292 | train acc: 0.8492 | test loss: 0.3802 | test acc: 0.8242"
      ]
     },
     "metadata": {},
     "output_type": "display_data"
    },
    {
     "data": {
      "text/plain": [
       "Epoch: 10/20 | time: 100s = 1.7m | train loss: 0.3072 | train acc: 0.8607 | test loss: 0.3662 | test acc: 0.8359"
      ]
     },
     "metadata": {},
     "output_type": "display_data"
    },
    {
     "data": {
      "text/plain": [
       "Epoch: 11/20 | time: 100s = 1.7m | train loss: 0.2887 | train acc: 0.8700 | test loss: 0.3569 | test acc: 0.8399"
      ]
     },
     "metadata": {},
     "output_type": "display_data"
    },
    {
     "data": {
      "text/plain": [
       "Epoch: 12/20 | time: 101s = 1.7m | train loss: 0.2721 | train acc: 0.8783 | test loss: 0.3504 | test acc: 0.8464"
      ]
     },
     "metadata": {},
     "output_type": "display_data"
    },
    {
     "data": {
      "text/plain": [
       "Epoch: 13/20 | time: 100s = 1.7m | train loss: 0.2573 | train acc: 0.8856 | test loss: 0.3317 | test acc: 0.8554"
      ]
     },
     "metadata": {},
     "output_type": "display_data"
    },
    {
     "data": {
      "text/plain": [
       "Epoch: 14/20 | time: 100s = 1.7m | train loss: 0.2443 | train acc: 0.8919 | test loss: 0.3372 | test acc: 0.8526"
      ]
     },
     "metadata": {},
     "output_type": "display_data"
    },
    {
     "data": {
      "text/plain": [
       "Epoch: 15/20 | time: 100s = 1.7m | train loss: 0.2325 | train acc: 0.8977 | test loss: 0.3384 | test acc: 0.8541"
      ]
     },
     "metadata": {},
     "output_type": "display_data"
    },
    {
     "data": {
      "text/plain": [
       "Epoch: 16/20 | time: 100s = 1.7m | train loss: 0.2217 | train acc: 0.9030 | test loss: 0.3132 | test acc: 0.8672"
      ]
     },
     "metadata": {},
     "output_type": "display_data"
    },
    {
     "data": {
      "text/plain": [
       "Epoch: 17/20 | time: 100s = 1.7m | train loss: 0.2123 | train acc: 0.9075 | test loss: 0.3205 | test acc: 0.8668"
      ]
     },
     "metadata": {},
     "output_type": "display_data"
    },
    {
     "data": {
      "text/plain": [
       "Epoch: 18/20 | time: 99s = 1.7m | train loss: 0.2036 | train acc: 0.9116 | test loss: 0.3012 | test acc: 0.8722"
      ]
     },
     "metadata": {},
     "output_type": "display_data"
    },
    {
     "data": {
      "text/plain": [
       "Epoch: 19/20 | time: 99s = 1.7m | train loss: 0.1950 | train acc: 0.9156 | test loss: 0.3128 | test acc: 0.8715"
      ]
     },
     "metadata": {},
     "output_type": "display_data"
    },
    {
     "data": {
      "text/plain": [
       "Epoch: 20/20 | time: 99s = 1.7m | train loss: 0.1885 | train acc: 0.9189 | test loss: 0.3000 | test acc: 0.8752"
      ]
     },
     "metadata": {},
     "output_type": "display_data"
    }
   ],
   "source": [
    "fitting(epochs=epochs,\n",
    "        x_train=x_train,\n",
    "        y_train=y_train,\n",
    "        x_test=x_test,\n",
    "        y_test=y_test,\n",
    "        model=model,\n",
    "        optimizer=optim,\n",
    "        batch_size=batch_size,\n",
    "        lr=lr,\n",
    "        loss_fn=loss_fn,\n",
    "        save_name=save_name,\n",
    "        encoding=encoding)"
   ]
  },
  {
   "cell_type": "code",
   "execution_count": 10,
   "metadata": {},
   "outputs": [
    {
     "name": "stdout",
     "output_type": "stream",
     "text": [
      "2021-10-30 01:49:36\n"
     ]
    },
    {
     "data": {
      "text/plain": [
       "Epoch: 11/30 | time: 100s = 1.7m | train loss: 0.2883 | train acc: 0.8703 | test loss: 0.3558 | test acc: 0.8406"
      ]
     },
     "metadata": {},
     "output_type": "display_data"
    },
    {
     "data": {
      "text/plain": [
       "Epoch: 12/30 | time: 99s = 1.7m | train loss: 0.2711 | train acc: 0.8788 | test loss: 0.3522 | test acc: 0.8451"
      ]
     },
     "metadata": {},
     "output_type": "display_data"
    },
    {
     "data": {
      "text/plain": [
       "Epoch: 13/30 | time: 99s = 1.7m | train loss: 0.2558 | train acc: 0.8864 | test loss: 0.3383 | test acc: 0.8508"
      ]
     },
     "metadata": {},
     "output_type": "display_data"
    },
    {
     "data": {
      "text/plain": [
       "Epoch: 14/30 | time: 99s = 1.7m | train loss: 0.2422 | train acc: 0.8933 | test loss: 0.3272 | test acc: 0.8563"
      ]
     },
     "metadata": {},
     "output_type": "display_data"
    },
    {
     "data": {
      "text/plain": [
       "Epoch: 15/30 | time: 99s = 1.7m | train loss: 0.2297 | train acc: 0.8992 | test loss: 0.3221 | test acc: 0.8611"
      ]
     },
     "metadata": {},
     "output_type": "display_data"
    },
    {
     "data": {
      "text/plain": [
       "Epoch: 16/30 | time: 99s = 1.7m | train loss: 0.2189 | train acc: 0.9044 | test loss: 0.3212 | test acc: 0.8641"
      ]
     },
     "metadata": {},
     "output_type": "display_data"
    },
    {
     "data": {
      "text/plain": [
       "Epoch: 17/30 | time: 99s = 1.7m | train loss: 0.2091 | train acc: 0.9090 | test loss: 0.3117 | test acc: 0.8680"
      ]
     },
     "metadata": {},
     "output_type": "display_data"
    },
    {
     "data": {
      "text/plain": [
       "Epoch: 18/30 | time: 100s = 1.7m | train loss: 0.2008 | train acc: 0.9129 | test loss: 0.3125 | test acc: 0.8700"
      ]
     },
     "metadata": {},
     "output_type": "display_data"
    },
    {
     "data": {
      "text/plain": [
       "Epoch: 19/30 | time: 100s = 1.7m | train loss: 0.1920 | train acc: 0.9171 | test loss: 0.3032 | test acc: 0.8739"
      ]
     },
     "metadata": {},
     "output_type": "display_data"
    },
    {
     "data": {
      "text/plain": [
       "Epoch: 20/30 | time: 100s = 1.7m | train loss: 0.1848 | train acc: 0.9206 | test loss: 0.3011 | test acc: 0.8781"
      ]
     },
     "metadata": {},
     "output_type": "display_data"
    },
    {
     "data": {
      "text/plain": [
       "Epoch: 21/30 | time: 102s = 1.7m | train loss: 0.1830 | train acc: 0.9215 | test loss: 0.3070 | test acc: 0.8784"
      ]
     },
     "metadata": {},
     "output_type": "display_data"
    },
    {
     "data": {
      "text/plain": [
       "Epoch: 22/30 | time: 108s = 1.8m | train loss: 0.1769 | train acc: 0.9243 | test loss: 0.2945 | test acc: 0.8808"
      ]
     },
     "metadata": {},
     "output_type": "display_data"
    },
    {
     "data": {
      "text/plain": [
       "Epoch: 23/30 | time: 108s = 1.8m | train loss: 0.1708 | train acc: 0.9273 | test loss: 0.2881 | test acc: 0.8828"
      ]
     },
     "metadata": {},
     "output_type": "display_data"
    },
    {
     "data": {
      "text/plain": [
       "Epoch: 24/30 | time: 133s = 2.2m | train loss: 0.1662 | train acc: 0.9293 | test loss: 0.2910 | test acc: 0.8850"
      ]
     },
     "metadata": {},
     "output_type": "display_data"
    },
    {
     "data": {
      "text/plain": [
       "Epoch: 25/30 | time: 140s = 2.3m | train loss: 0.1615 | train acc: 0.9313 | test loss: 0.2784 | test acc: 0.8889"
      ]
     },
     "metadata": {},
     "output_type": "display_data"
    },
    {
     "data": {
      "text/plain": [
       "Epoch: 26/30 | time: 139s = 2.3m | train loss: 0.1567 | train acc: 0.9336 | test loss: 0.2835 | test acc: 0.8882"
      ]
     },
     "metadata": {},
     "output_type": "display_data"
    },
    {
     "data": {
      "text/plain": [
       "Epoch: 27/30 | time: 140s = 2.3m | train loss: 0.1529 | train acc: 0.9356 | test loss: 0.2827 | test acc: 0.8899"
      ]
     },
     "metadata": {},
     "output_type": "display_data"
    },
    {
     "data": {
      "text/plain": [
       "Epoch: 28/30 | time: 141s = 2.3m | train loss: 0.1488 | train acc: 0.9373 | test loss: 0.2781 | test acc: 0.8900"
      ]
     },
     "metadata": {},
     "output_type": "display_data"
    },
    {
     "data": {
      "text/plain": [
       "Epoch: 29/30 | time: 142s = 2.4m | train loss: 0.1453 | train acc: 0.9389 | test loss: 0.2797 | test acc: 0.8881"
      ]
     },
     "metadata": {},
     "output_type": "display_data"
    },
    {
     "data": {
      "text/plain": [
       "Epoch: 30/30 | time: 139s = 2.3m | train loss: 0.1424 | train acc: 0.9402 | test loss: 0.2813 | test acc: 0.8924"
      ]
     },
     "metadata": {},
     "output_type": "display_data"
    }
   ],
   "source": [
    "fitting(epochs=20,\n",
    "        x_train=x_train,\n",
    "        y_train=y_train,\n",
    "        x_test=x_test,\n",
    "        y_test=y_test,\n",
    "        model= model, \n",
    "        load_name=save_name+'.10.h5',\n",
    "        save_name=save_name,)"
   ]
  },
  {
   "cell_type": "code",
   "execution_count": 11,
   "metadata": {},
   "outputs": [
    {
     "name": "stdout",
     "output_type": "stream",
     "text": [
      "2021-10-30 02:27:43\n"
     ]
    },
    {
     "data": {
      "text/plain": [
       "Epoch: 31/40 | time: 116s = 1.9m | train loss: 0.1366 | train acc: 0.9426 | test loss: 0.2808 | test acc: 0.8942"
      ]
     },
     "metadata": {},
     "output_type": "display_data"
    },
    {
     "data": {
      "text/plain": [
       "Epoch: 32/40 | time: 105s = 1.8m | train loss: 0.1335 | train acc: 0.9441 | test loss: 0.2755 | test acc: 0.8971"
      ]
     },
     "metadata": {},
     "output_type": "display_data"
    },
    {
     "data": {
      "text/plain": [
       "Epoch: 33/40 | time: 102s = 1.7m | train loss: 0.1303 | train acc: 0.9456 | test loss: 0.2819 | test acc: 0.8945"
      ]
     },
     "metadata": {},
     "output_type": "display_data"
    },
    {
     "data": {
      "text/plain": [
       "Epoch: 34/40 | time: 100s = 1.7m | train loss: 0.1277 | train acc: 0.9467 | test loss: 0.2874 | test acc: 0.8952"
      ]
     },
     "metadata": {},
     "output_type": "display_data"
    },
    {
     "data": {
      "text/plain": [
       "Epoch: 35/40 | time: 101s = 1.7m | train loss: 0.1254 | train acc: 0.9478 | test loss: 0.2746 | test acc: 0.8995"
      ]
     },
     "metadata": {},
     "output_type": "display_data"
    },
    {
     "data": {
      "text/plain": [
       "Epoch: 36/40 | time: 101s = 1.7m | train loss: 0.1225 | train acc: 0.9492 | test loss: 0.2913 | test acc: 0.8965"
      ]
     },
     "metadata": {},
     "output_type": "display_data"
    },
    {
     "data": {
      "text/plain": [
       "Epoch: 37/40 | time: 101s = 1.7m | train loss: 0.1206 | train acc: 0.9499 | test loss: 0.2876 | test acc: 0.8954"
      ]
     },
     "metadata": {},
     "output_type": "display_data"
    },
    {
     "data": {
      "text/plain": [
       "Epoch: 38/40 | time: 108s = 1.8m | train loss: 0.1194 | train acc: 0.9505 | test loss: 0.2781 | test acc: 0.8981"
      ]
     },
     "metadata": {},
     "output_type": "display_data"
    },
    {
     "data": {
      "text/plain": [
       "Epoch: 39/40 | time: 111s = 1.8m | train loss: 0.1170 | train acc: 0.9516 | test loss: 0.2714 | test acc: 0.8992"
      ]
     },
     "metadata": {},
     "output_type": "display_data"
    },
    {
     "data": {
      "text/plain": [
       "Epoch: 40/40 | time: 107s = 1.8m | train loss: 0.1151 | train acc: 0.9525 | test loss: 0.2945 | test acc: 0.8961"
      ]
     },
     "metadata": {},
     "output_type": "display_data"
    }
   ],
   "source": [
    "fitting(epochs=10,\n",
    "        x_train=x_train,\n",
    "        y_train=y_train,\n",
    "        x_test=x_test,\n",
    "        y_test=y_test,\n",
    "        model= model, \n",
    "        load_name=save_name+'.30.h5',\n",
    "        save_name=save_name,)"
   ]
  },
  {
   "cell_type": "code",
   "execution_count": null,
   "metadata": {},
   "outputs": [],
   "source": []
  }
 ],
 "metadata": {
  "kernelspec": {
   "display_name": "Python 3 (ipykernel)",
   "language": "python",
   "name": "python3"
  },
  "language_info": {
   "codemirror_mode": {
    "name": "ipython",
    "version": 3
   },
   "file_extension": ".py",
   "mimetype": "text/x-python",
   "name": "python",
   "nbconvert_exporter": "python",
   "pygments_lexer": "ipython3",
   "version": "3.9.6"
  }
 },
 "nbformat": 4,
 "nbformat_minor": 4
}
